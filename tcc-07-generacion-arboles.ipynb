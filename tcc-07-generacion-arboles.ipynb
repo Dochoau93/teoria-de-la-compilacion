{
 "cells": [
  {
   "cell_type": "markdown",
   "metadata": {},
   "source": [
    "# Generación de Arboles Sintácticos para Lenguajes de Alto Nivel\n",
    "Notas de clase sobre Teoría de la Compilación"
   ]
  },
  {
   "cell_type": "markdown",
   "metadata": {},
   "source": [
    "**Juan David Velásquez Henao**   \n",
    "jdvelasq@unal.edu.co  \n",
    "Universidad Nacional de Colombia, Sede Medellín  \n",
    "Facultad de Minas  \n",
    "Medellín, Colombia  \n",
    "\n",
    "[Licencia](https://github.com/jdvelasq/teoria-de-la-compilacion/blob/master/LICENCIA.txt)  \n",
    "[Readme](https://github.com/jdvelasq/teoria-de-la-compilacion/blob/master/readme.md)"
   ]
  },
  {
   "cell_type": "markdown",
   "metadata": {},
   "source": [
    "**Software utilizado**.\n",
    "\n",
    "> Este es un documento interactivo escrito como un notebook de [Jupyter](http://jupyter.org), en el cual se presenta una introducción al diseño de lectores, generadores, traductores, interpretes y compiladores. Los notebooks de Jupyter permiten incoporar simultáneamente código, texto, gráficos y ecuaciones. El código presentado en este notebook puede ejecutarse en los sistemas operativos Windows, Linux y OS X.\n",
    "\n",
    "> Haga click [aquí](https://github.com/jdvelasq/guias-de-instalacion) para obtener instrucciones detalladas sobre como instalar Jupyter en Windows y Mac OS X.\n",
    "\n",
    "> Haga clic [aquí](http://nbviewer.jupyter.org/github/jdvelasq/teoria-de-la-compilacion/blob/master/tcc-07-generacion-arboles.ipynb) para ver la última versión de este documento en nbviewer.\n",
    "\n",
    "> Descargue la última versión de este documento, los archivos de datos y los programas en Python a su disco duro; luego, carguelos y ejecutelos en línea en [Try Jupyter!](https://try.jupyter.org)"
   ]
  },
  {
   "cell_type": "markdown",
   "metadata": {},
   "source": [
    "#### Contenido"
   ]
  },
  {
   "cell_type": "markdown",
   "metadata": {},
   "source": [
    "> * [Gramática y árboles generados](#Gramática-y-árboles-generados)\n",
    "* [Ejemplos](#Ejemplos)\n",
    "    * [Ejemplo 1](#Ejemplo-1)\n",
    "    * [Ejemplo 2](#Ejemplo-2)\n",
    "    * [Ejemplo 3](#Ejemplo-3)\n",
    "    * [Ejemplo 4](#Ejemplo-4)\n",
    "* [Implementación de yyparse.py](#Implementación-de-yyparse.py)"
   ]
  },
  {
   "cell_type": "markdown",
   "metadata": {
    "collapsed": true
   },
   "source": [
    "# Gramática y árboles generados"
   ]
  },
  {
   "cell_type": "markdown",
   "metadata": {},
   "source": [
    "[Contenido](#Contenido)"
   ]
  },
  {
   "cell_type": "markdown",
   "metadata": {},
   "source": [
    "---"
   ]
  },
  {
   "cell_type": "raw",
   "metadata": {},
   "source": [
    "prog \n",
    "  -> fn_decl_list main_prog\n",
    "  \n",
    "+-- SYNTAXTREE\n",
    "    |\n",
    "    +--- fn_decl_list\n",
    "    |\n",
    "    +--- main_prog"
   ]
  },
  {
   "cell_type": "markdown",
   "metadata": {},
   "source": [
    "---"
   ]
  },
  {
   "cell_type": "raw",
   "metadata": {},
   "source": [
    "var_decl \n",
    "  -> ID ‘:’ DATATYPE  [‘,’ ID ‘:’ DATATYPE]*\n",
    "  \n",
    "+--- VAR\n",
    "     +-- ID {datatype, lineno, scope, value}  # value es el lexema\n",
    "     +-- ID\n",
    "     .\n",
    "     .\n",
    "     +-- ID"
   ]
  },
  {
   "cell_type": "markdown",
   "metadata": {},
   "source": [
    "---"
   ]
  },
  {
   "cell_type": "raw",
   "metadata": {},
   "source": [
    "fn_decl_list \n",
    "  -> [ FUNCTION FID ‘:’ DATATYPE ‘(’ [var_decl] ‘)’ \n",
    "       [VAR var_decl ‘;’]\n",
    "       stmt_block ]*\n",
    "       \n",
    "+--- FUNCTIONDECL\n",
    "     |\n",
    "     +-- FUNCTION {datatype, lineno, scope, value}\n",
    "     |   +-- ARGS {lineno}\n",
    "     |   |   +-- ID {datatype, lineno, scope, value}\n",
    "     |   |   +-- ID {datatype, lineno, scope, value}\n",
    "     |   |   .\n",
    "     |   |   +-- ID {datatype, lineno, scope, value}\n",
    "     |   |\n",
    "     |   +-- VAR {lineno}\n",
    "     |   |   +-- ID {datatype, lineno, scope, value}\n",
    "     |   |   +-- ID {datatype, lineno, scope, value}\n",
    "     |   |   .\n",
    "     |   |   +-- ID {datatype, lineno, scope, value}\n",
    "     |   |\n",
    "     |   +-- BLOCK {lineno: 2}\n",
    "     |       +-- stmt\n",
    "     |       +-- stmt\n",
    "     |       .\n",
    "     |       .\n",
    "     |       .\n",
    "     |       +-- RETURN {datatype, lineno, scope, value: __return__}\n",
    "     |\n",
    "     .\n",
    "     .\n",
    "     ."
   ]
  },
  {
   "cell_type": "markdown",
   "metadata": {},
   "source": [
    "---"
   ]
  },
  {
   "cell_type": "raw",
   "metadata": {},
   "source": [
    "main_prog \n",
    "  -> [VAR var_decl ‘;’] stmt* END\n",
    "  \n",
    "  \n",
    "+-- MAINPROG\n",
    "    +-- VAR\n",
    "    |   +-- ID {datatype, lineno, scope, value}  # value es el lexema\n",
    "    |   +-- ID\n",
    "    |   .\n",
    "    |   .\n",
    "    |   +-- ID\n",
    "    |\n",
    "    +-- stmt1\n",
    "    +-- stmt2\n",
    "    .\n",
    "    .\n",
    "    +-- END {lineno}"
   ]
  },
  {
   "cell_type": "code",
   "execution_count": 1,
   "metadata": {
    "collapsed": false
   },
   "outputs": [
    {
     "name": "stdout",
     "output_type": "stream",
     "text": [
      "Overwriting example.txt\n"
     ]
    }
   ],
   "source": [
    "%%writefile example.txt\n",
    "\n",
    "function @sq:num (x:num)\n",
    "   {\n",
    "   return x * x;\n",
    "   }\n",
    "   \n",
    "write '2^2 -> ': @sq( 2 );\n",
    "end"
   ]
  },
  {
   "cell_type": "code",
   "execution_count": 2,
   "metadata": {
    "collapsed": false
   },
   "outputs": [
    {
     "name": "stdout",
     "output_type": "stream",
     "text": [
      "+-- TOKENTABLE\n",
      "    +-- FUNCTION {lexeme: function, lineno: 1}\n",
      "    +-- UFID {lexeme: @sq, lineno: 1}\n",
      "    +-- : {lexeme: :, lineno: 1}\n",
      "    +-- DATATYPE {lexeme: num, lineno: 1}\n",
      "    +-- ( {lexeme: (, lineno: 1}\n",
      "    +-- ID {lexeme: x, lineno: 1}\n",
      "    +-- : {lexeme: :, lineno: 1}\n",
      "    +-- DATATYPE {lexeme: num, lineno: 1}\n",
      "    +-- ) {lexeme: ), lineno: 1}\n",
      "    +-- { {lexeme: {, lineno: 2}\n",
      "    +-- RETURN {lexeme: return, lineno: 3}\n",
      "    +-- ID {lexeme: x, lineno: 3}\n",
      "    +-- * {lexeme: *, lineno: 3}\n",
      "    +-- ID {lexeme: x, lineno: 3}\n",
      "    +-- ; {lexeme: ;, lineno: 3}\n",
      "    +-- } {lexeme: }, lineno: 4}\n",
      "    +-- WRITE {lexeme: write, lineno: 6}\n",
      "    +-- STR {lexeme: '2^2 -> ', lineno: 6}\n",
      "    +-- : {lexeme: :, lineno: 6}\n",
      "    +-- UFID {lexeme: @sq, lineno: 6}\n",
      "    +-- ( {lexeme: (, lineno: 6}\n",
      "    +-- NUM {lexeme: 2, lineno: 6}\n",
      "    +-- ) {lexeme: ), lineno: 6}\n",
      "    +-- ; {lexeme: ;, lineno: 6}\n",
      "    +-- END {lexeme: end, lineno: 7}\n",
      "    +-- END {lexeme: end, lineno: 1}\n"
     ]
    }
   ],
   "source": [
    "%%sh\n",
    "python yylex.py example.txt"
   ]
  },
  {
   "cell_type": "code",
   "execution_count": 3,
   "metadata": {
    "collapsed": false
   },
   "outputs": [
    {
     "name": "stdout",
     "output_type": "stream",
     "text": [
      "+-- SYNTAXTREE\n",
      "    +-- FUNCTIONDECL {lineno: 1}\n",
      "    |   +-- FUNCTION {datatype: num, lineno: 1, scope: 1, value: @sq}\n",
      "    |       +-- ARGS {lineno: 1}\n",
      "    |       |   +-- ID {datatype: num, lineno: 1, scope: 1, value: x}\n",
      "    |       +-- BLOCK {lineno: 3}\n",
      "    |           +-- RETURN {datatype: num, lineno: 3, scope: 1, value: __return__}\n",
      "    |               +-- * {datatype: num, lineno: 3}\n",
      "    |                   +-- ID {lineno: 3, scope: 1, value: x}\n",
      "    |                   +-- ID {lineno: 3, scope: 1, value: x}\n",
      "    +-- MAINPROG {lineno: 6}\n",
      "        +-- WRITE {lineno: 6}\n",
      "        |   +-- STR {datatype: str, lineno: 6, value: '2^2 -> '}\n",
      "        |   +-- UFCALL {lineno: 6, value: @sq}\n",
      "        |       +-- NUM {datatype: num, lineno: 6, value: 2}\n",
      "        +-- END {lineno: 7}\n"
     ]
    }
   ],
   "source": [
    "%%sh \n",
    "python yyparse.py example.txt"
   ]
  },
  {
   "cell_type": "markdown",
   "metadata": {},
   "source": [
    "---"
   ]
  },
  {
   "cell_type": "raw",
   "metadata": {},
   "source": [
    "stmt_block -> ‘{’ stmt+ ‘}’\n",
    "\n",
    "+-- BLOCK {lineno: 8}\n",
    "    +-- stmt\n",
    "    +-- stmt\n",
    "    .\n",
    "    .\n",
    "    +-- stmt\n"
   ]
  },
  {
   "cell_type": "raw",
   "metadata": {},
   "source": [
    "stmt_block -> stmt \n",
    "       \n",
    "+-- stmt"
   ]
  },
  {
   "cell_type": "markdown",
   "metadata": {},
   "source": [
    "---"
   ]
  },
  {
   "cell_type": "raw",
   "metadata": {},
   "source": [
    "stmt -> WRITE [STRING ‘:’] lexpr ‘;’\n",
    "\n",
    "+-- WRITE {lineno}\n",
    "    +-- STR {datatype, lineno, value}\n",
    "    +-- lexpr"
   ]
  },
  {
   "cell_type": "raw",
   "metadata": {},
   "source": [
    "stmt -> INPUT [STRING ‘:’] ID ‘;’\n",
    "\n",
    "+-- INPUT {lineno, ID}\n",
    "    +-- STR {datatype, lineno, value}"
   ]
  },
  {
   "cell_type": "raw",
   "metadata": {},
   "source": [
    "stmt -> WHEN  ‘(’ lexpr ‘)’ DO stmt_block\n",
    "\n",
    "+-- WHEN\n",
    "    +-- lepr\n",
    "    +-- stmt_blcok"
   ]
  },
  {
   "cell_type": "raw",
   "metadata": {},
   "source": [
    "stmt -> IF ‘(’ lexpr ‘)’ DO stmt_block ELSE stmt_block \n",
    "\n",
    "+-- IF\n",
    "    +-- lexpr\n",
    "    +-- stmt_block\n",
    "    +-- stmt_block"
   ]
  },
  {
   "cell_type": "raw",
   "metadata": {},
   "source": [
    "stmt -> UNLESS ‘(’ lexpr ‘)’ DO stmt_block \n",
    "\n",
    "+-- UNLESS\n",
    "    +-- lexpr\n",
    "    +-- stmt_block"
   ]
  },
  {
   "cell_type": "raw",
   "metadata": {},
   "source": [
    "stmt -> WHILE ‘(’ expr ‘)’ DO stmt_block\n",
    "\n",
    "+-- WHILE\n",
    "    +-- lexpr\n",
    "    +-- stmt_block"
   ]
  },
  {
   "cell_type": "markdown",
   "metadata": {},
   "source": [
    "---"
   ]
  },
  {
   "cell_type": "code",
   "execution_count": 4,
   "metadata": {
    "collapsed": false
   },
   "outputs": [
    {
     "name": "stdout",
     "output_type": "stream",
     "text": [
      "Overwriting example.txt\n"
     ]
    }
   ],
   "source": [
    "%%writefile example.txt\n",
    "\n",
    "var i:num;\n",
    "i := 1;\n",
    "\n",
    "while (i < 5) do\n",
    "    {\n",
    "    write 'i = ': i;\n",
    "    i := i + 1;\n",
    "    }\n",
    "\n",
    "end"
   ]
  },
  {
   "cell_type": "code",
   "execution_count": 5,
   "metadata": {
    "collapsed": false
   },
   "outputs": [
    {
     "name": "stdout",
     "output_type": "stream",
     "text": [
      "+-- TOKENTABLE\n",
      "    +-- VAR {lexeme: var, lineno: 1}\n",
      "    +-- ID {lexeme: i, lineno: 1}\n",
      "    +-- : {lexeme: :, lineno: 1}\n",
      "    +-- DATATYPE {lexeme: num, lineno: 1}\n",
      "    +-- ; {lexeme: ;, lineno: 1}\n",
      "    +-- ID {lexeme: i, lineno: 2}\n",
      "    +-- := {lexeme: :=, lineno: 2}\n",
      "    +-- NUM {lexeme: 1, lineno: 2}\n",
      "    +-- ; {lexeme: ;, lineno: 2}\n",
      "    +-- WHILE {lexeme: while, lineno: 4}\n",
      "    +-- ( {lexeme: (, lineno: 4}\n",
      "    +-- ID {lexeme: i, lineno: 4}\n",
      "    +-- < {lexeme: <, lineno: 4}\n",
      "    +-- NUM {lexeme: 5, lineno: 4}\n",
      "    +-- ) {lexeme: ), lineno: 4}\n",
      "    +-- DO {lexeme: do, lineno: 4}\n",
      "    +-- { {lexeme: {, lineno: 5}\n",
      "    +-- WRITE {lexeme: write, lineno: 6}\n",
      "    +-- STR {lexeme: 'i = ', lineno: 6}\n",
      "    +-- : {lexeme: :, lineno: 6}\n",
      "    +-- ID {lexeme: i, lineno: 6}\n",
      "    +-- ; {lexeme: ;, lineno: 6}\n",
      "    +-- ID {lexeme: i, lineno: 7}\n",
      "    +-- := {lexeme: :=, lineno: 7}\n",
      "    +-- ID {lexeme: i, lineno: 7}\n",
      "    +-- + {lexeme: +, lineno: 7}\n",
      "    +-- NUM {lexeme: 1, lineno: 7}\n",
      "    +-- ; {lexeme: ;, lineno: 7}\n",
      "    +-- } {lexeme: }, lineno: 8}\n",
      "    +-- END {lexeme: end, lineno: 10}\n",
      "    +-- END {lexeme: end, lineno: 1}\n"
     ]
    }
   ],
   "source": [
    "%%sh\n",
    "python yylex.py example.txt"
   ]
  },
  {
   "cell_type": "code",
   "execution_count": 6,
   "metadata": {
    "collapsed": false,
    "scrolled": true
   },
   "outputs": [
    {
     "name": "stdout",
     "output_type": "stream",
     "text": [
      "+-- SYNTAXTREE\n",
      "    +-- FUNCTIONDECL {lineno: 1}\n",
      "    +-- MAINPROG {lineno: 1}\n",
      "        +-- VAR {lineno: 1}\n",
      "        |   +-- ID {datatype: num, lineno: 1, scope: 0, value: i}\n",
      "        +-- ASSIGN {lineno: 2, scope: 0, value: i}\n",
      "        |   +-- NUM {datatype: num, lineno: 2, value: 1}\n",
      "        +-- WHILE {lineno: 4}\n",
      "        |   +-- < {datatype: bool, lineno: 4}\n",
      "        |   |   +-- ID {lineno: 4, scope: 0, value: i}\n",
      "        |   |   +-- NUM {datatype: num, lineno: 4, value: 5}\n",
      "        |   +-- BLOCK {lineno: 6}\n",
      "        |       +-- WRITE {lineno: 6}\n",
      "        |       |   +-- STR {datatype: str, lineno: 6, value: 'i = '}\n",
      "        |       |   +-- ID {lineno: 6, scope: 0, value: i}\n",
      "        |       +-- ASSIGN {lineno: 7, scope: 0, value: i}\n",
      "        |           +-- + {datatype: num, lineno: 7}\n",
      "        |               +-- ID {lineno: 7, scope: 0, value: i}\n",
      "        |               +-- NUM {datatype: num, lineno: 7, value: 1}\n",
      "        +-- END {lineno: 10}\n"
     ]
    }
   ],
   "source": [
    "%%sh\n",
    "python yyparse.py example.txt"
   ]
  },
  {
   "cell_type": "markdown",
   "metadata": {},
   "source": [
    "---"
   ]
  },
  {
   "cell_type": "raw",
   "metadata": {},
   "source": [
    "stmt -> RETURN  expr ‘;’\n",
    "\n",
    "+-- RETURN\n",
    "    +-- expr"
   ]
  },
  {
   "cell_type": "raw",
   "metadata": {},
   "source": [
    "stmt -> UNTIL ‘(’ lexpr ‘)’ DO stmt_block\n",
    "\n",
    "+-- UNTIL\n",
    "    +-- lexpr\n",
    "    +-- stmt_block"
   ]
  },
  {
   "cell_type": "raw",
   "metadata": {},
   "source": [
    "stmt -> LOOP stmt_block\n",
    "\n",
    "+-- LOOP\n",
    "    +-- stmt_block"
   ]
  },
  {
   "cell_type": "raw",
   "metadata": {},
   "source": [
    "stmt -> DO stmt_block WHILE ‘(’ lexpr ‘)’\n",
    "\n",
    "+-- DOWHILE\n",
    "    +-- stmt_block\n",
    "    +-- lexpr\n",
    "    "
   ]
  },
  {
   "cell_type": "raw",
   "metadata": {},
   "source": [
    "stmt -> DO stmt_block UNTIL ‘(’ lexpr ‘)’\n",
    "\n",
    "+-- DOUNTIL\n",
    "    +-- stmt_block\n",
    "    +-- lexpr\n",
    "    "
   ]
  },
  {
   "cell_type": "raw",
   "metadata": {},
   "source": [
    "stmt -> REPEAT NUM ‘:’ stmt_block\n",
    "\n",
    "+-- REPEAT\n",
    "    +-- stmt_block"
   ]
  },
  {
   "cell_type": "raw",
   "metadata": {},
   "source": [
    "stmt ->  FOR ID ':=' lexpr, lexpr, lexpr DO stmt_block\n",
    "\n",
    "+-- FOR\n",
    "    +-- lexpr\n",
    "    +-- lexpr\n",
    "    +-- lexpr\n",
    "    +-- stmt_block"
   ]
  },
  {
   "cell_type": "raw",
   "metadata": {},
   "source": [
    "stmt -> END ‘;’\n",
    "\n",
    "+-- END"
   ]
  },
  {
   "cell_type": "raw",
   "metadata": {},
   "source": [
    "stmt -> NEXT ‘;’\n",
    "\n",
    "+-- NEXT"
   ]
  },
  {
   "cell_type": "raw",
   "metadata": {},
   "source": [
    "stmt -> BREAK ‘;’\n",
    "\n",
    "+-- BREAK"
   ]
  },
  {
   "cell_type": "raw",
   "metadata": {},
   "source": [
    "stmt -> ID ‘:=’ lexp ‘;’\n",
    "\n",
    "+-- ASSIGN {lineno, scope, value: ID}\n",
    "    +-- lexpr"
   ]
  },
  {
   "cell_type": "raw",
   "metadata": {},
   "source": [
    "stmt -> ID ‘+=’ lexpr ‘;’\n",
    "\n",
    "+-- ASSIGN_ADD {lineno, scope, value: ID}\n",
    "    +-- lexpr"
   ]
  },
  {
   "cell_type": "raw",
   "metadata": {},
   "source": [
    "stmt -> ID ‘-=’ lexpr ‘;’\n",
    "\n",
    "+-- ASSIGN_SUB {lineno, scope, value: ID}\n",
    "    +-- lexpr"
   ]
  },
  {
   "cell_type": "raw",
   "metadata": {},
   "source": [
    "stmt -> ID ‘*=’ lexpr ‘;’\n",
    "\n",
    "+-- ASSIGN_MLT {scope, value: ID}\n",
    "    +-- lexpr"
   ]
  },
  {
   "cell_type": "raw",
   "metadata": {},
   "source": [
    "stmt -> ID ‘/=’ lexpr ‘;’\n",
    "\n",
    "+-- ASSIGN_DIV {lineno, scope, value: ID}\n",
    "    +-- lexpr"
   ]
  },
  {
   "cell_type": "raw",
   "metadata": {},
   "source": [
    "stmt -> ID ‘%=’ lexpr ‘;’\n",
    "\n",
    "+-- ASSIGN_MOD {lineno, scope, value: ID}\n",
    "    +-- lexpr"
   ]
  },
  {
   "cell_type": "raw",
   "metadata": {},
   "source": [
    "stmt -> ID ‘++’ ‘;’\n",
    "     |  '++' ID ';'\n",
    "\n",
    "+-- ASSIGN_INC {scope, value: ID}"
   ]
  },
  {
   "cell_type": "raw",
   "metadata": {},
   "source": [
    "stmt -> ID ‘--’ ‘;’\n",
    "     |  '--' ID ';'\n",
    "\n",
    "+-- ASSIGN_DEC {scope, value: ID}"
   ]
  },
  {
   "cell_type": "markdown",
   "metadata": {},
   "source": [
    "---"
   ]
  },
  {
   "cell_type": "raw",
   "metadata": {},
   "source": [
    "lexpr \n",
    "  -> nexpr [[AND nexpr]* | [OR nexpr]*]\n",
    "  \n",
    "  \n",
    "+-- nexpr\n",
    "\n",
    "+-- AND\n",
    "    +-- nexpr\n",
    "    +-- nexpr\n",
    "    .\n",
    "    .\n",
    "    \n",
    "+-- OR\n",
    "    +-- nexpr\n",
    "    +-- nexpr\n",
    "    .\n",
    "    ."
   ]
  },
  {
   "cell_type": "markdown",
   "metadata": {},
   "source": [
    "---"
   ]
  },
  {
   "cell_type": "raw",
   "metadata": {},
   "source": [
    "nexpr -> NOT ‘(‘ lexpr  ‘)’  \n",
    "\n",
    "+-- NOT\n",
    "    +-- lexpr"
   ]
  },
  {
   "cell_type": "raw",
   "metadata": {},
   "source": [
    "nexpr -> rexpr\n",
    "   \n",
    "+-- rexpr"
   ]
  },
  {
   "cell_type": "markdown",
   "metadata": {},
   "source": [
    "---"
   ]
  },
  {
   "cell_type": "raw",
   "metadata": {},
   "source": [
    "rexpr \n",
    "  -> simple_expr [ (‘<’|‘==’|‘<=’|‘>’|‘>=’|‘!=’)  simple_expr ]\n",
    "  \n",
    "  \n",
    "+-- simple_expr\n",
    "\n",
    "+-- <\n",
    "    +-- simple_expr\n",
    "    +-- simple_expr\n",
    "    \n",
    "+-- <=\n",
    "    +-- simple_expr\n",
    "    +-- simple_expr\n",
    "\n",
    ".\n",
    ".\n",
    ".\n",
    "    "
   ]
  },
  {
   "cell_type": "markdown",
   "metadata": {},
   "source": [
    "---"
   ]
  },
  {
   "cell_type": "raw",
   "metadata": {},
   "source": [
    "simple_expr \n",
    "  -> term [ (‘+’|‘-’) term]*\n",
    "\n",
    "\n",
    "+-- simple_expr\n",
    "\n",
    "\n",
    "+-- +\n",
    "    +-- simple_expr\n",
    "    +-- simple_expr"
   ]
  },
  {
   "cell_type": "markdown",
   "metadata": {},
   "source": [
    "---"
   ]
  },
  {
   "cell_type": "raw",
   "metadata": {},
   "source": [
    "term \n",
    "  -> factor [(‘*’|‘/’|‘%’) factor]*\n",
    "  \n",
    "+-- term\n",
    "\n",
    "+-- * \n",
    "    +-- factor\n",
    "    +-- factor"
   ]
  },
  {
   "cell_type": "markdown",
   "metadata": {},
   "source": [
    "---"
   ]
  },
  {
   "cell_type": "raw",
   "metadata": {},
   "source": [
    "factor\n",
    "  ->  ['+'|'-']? NUM\n",
    "  \n",
    "+-- NUM"
   ]
  },
  {
   "cell_type": "raw",
   "metadata": {},
   "source": [
    "factor\n",
    "  -> ['+'|'-']? ID\n",
    "  \n",
    "+-- ID {value: ID, scope}\n",
    " \n",
    "+-- CHS\n",
    "    +-- ID {value: ID, scope}"
   ]
  },
  {
   "cell_type": "raw",
   "metadata": {},
   "source": [
    "factor\n",
    "  ->  ['+'|'-']?  '(' lexpr ')'\n",
    "  \n",
    "+-- lexpr\n",
    "\n",
    "+-- CHS\n",
    "    +-- lexpr"
   ]
  },
  {
   "cell_type": "raw",
   "metadata": {},
   "source": [
    "factor\n",
    "  ->  ['+'|'-']? UFID '(' [lexpr [',' lexpr]*] ')'\n",
    "  \n",
    "+-- UFCALL \n",
    "    +-- lexpr\n",
    "    +-- lexpr\n",
    "    .\n",
    "    .\n",
    "    \n",
    "+-- CHS\n",
    "    +-- UFCALL \n",
    "        +-- lexpr\n",
    "        +-- lexpr\n",
    "        .\n",
    "        ."
   ]
  },
  {
   "cell_type": "raw",
   "metadata": {},
   "source": [
    "factor\n",
    "  ->  ['+'|'-']? BFID '(' [lexpr [',' lexpr]*] ')'\n",
    "  \n",
    "+-- BFCALL \n",
    "    +-- lexpr\n",
    "    +-- lexpr\n",
    "    .\n",
    "    .\n",
    "    \n",
    "+-- CHS\n",
    "    +-- BFCALL \n",
    "        +-- lexpr\n",
    "        +-- lexpr\n",
    "        .\n",
    "        .\n"
   ]
  },
  {
   "cell_type": "raw",
   "metadata": {},
   "source": [
    "factor\n",
    "  ->  ++ID\n",
    "  \n",
    "+-- ID_PREINC {value: ID, scope}"
   ]
  },
  {
   "cell_type": "raw",
   "metadata": {},
   "source": [
    "factor  \n",
    "  ->  --ID\n",
    "  \n",
    "+-- ID_PREDEC {value: ID, scope}"
   ]
  },
  {
   "cell_type": "raw",
   "metadata": {},
   "source": [
    "factor\n",
    "  ->  ID++\n",
    "  \n",
    "+-- ID_POSTINC {value: ID, scope}"
   ]
  },
  {
   "cell_type": "raw",
   "metadata": {},
   "source": [
    "factor\n",
    "  ->  BOOL\n",
    "  \n",
    "+-- BOOL"
   ]
  },
  {
   "cell_type": "markdown",
   "metadata": {},
   "source": [
    "---"
   ]
  },
  {
   "cell_type": "markdown",
   "metadata": {},
   "source": [
    "# Ejemplos"
   ]
  },
  {
   "cell_type": "markdown",
   "metadata": {},
   "source": [
    "[Contenido](#Contenido)"
   ]
  },
  {
   "cell_type": "markdown",
   "metadata": {},
   "source": [
    "## Ejemplo 1"
   ]
  },
  {
   "cell_type": "markdown",
   "metadata": {},
   "source": [
    "[Contenido](#Contenido)"
   ]
  },
  {
   "cell_type": "code",
   "execution_count": 7,
   "metadata": {
    "collapsed": false
   },
   "outputs": [
    {
     "name": "stdout",
     "output_type": "stream",
     "text": [
      "Overwriting example.txt\n"
     ]
    }
   ],
   "source": [
    "%%writefile example.txt\n",
    "\n",
    "var n:num, i:num, j:num;\n",
    "\n",
    "n := 5;\n",
    "i := 1;\n",
    "\n",
    "while (true) do\n",
    "  {\n",
    "  j := 1;\n",
    "  while (true) do\n",
    "    {\n",
    "    write 'i = ': i;\n",
    "    write 'j = ': j;\n",
    "    j := j + 1;\n",
    "    }\n",
    "  i := i + 1;\n",
    "  }\n",
    "\n",
    "end"
   ]
  },
  {
   "cell_type": "code",
   "execution_count": 8,
   "metadata": {
    "collapsed": false
   },
   "outputs": [
    {
     "name": "stdout",
     "output_type": "stream",
     "text": [
      "+-- TOKENTABLE\n",
      "    +-- VAR {lexeme: var, lineno: 1}\n",
      "    +-- ID {lexeme: n, lineno: 1}\n",
      "    +-- : {lexeme: :, lineno: 1}\n",
      "    +-- DATATYPE {lexeme: num, lineno: 1}\n",
      "    +-- , {lexeme: ,, lineno: 1}\n",
      "    +-- ID {lexeme: i, lineno: 1}\n",
      "    +-- : {lexeme: :, lineno: 1}\n",
      "    +-- DATATYPE {lexeme: num, lineno: 1}\n",
      "    +-- , {lexeme: ,, lineno: 1}\n",
      "    +-- ID {lexeme: j, lineno: 1}\n",
      "    +-- : {lexeme: :, lineno: 1}\n",
      "    +-- DATATYPE {lexeme: num, lineno: 1}\n",
      "    +-- ; {lexeme: ;, lineno: 1}\n",
      "    +-- ID {lexeme: n, lineno: 3}\n",
      "    +-- := {lexeme: :=, lineno: 3}\n",
      "    +-- NUM {lexeme: 5, lineno: 3}\n",
      "    +-- ; {lexeme: ;, lineno: 3}\n",
      "    +-- ID {lexeme: i, lineno: 4}\n",
      "    +-- := {lexeme: :=, lineno: 4}\n",
      "    +-- NUM {lexeme: 1, lineno: 4}\n",
      "    +-- ; {lexeme: ;, lineno: 4}\n",
      "    +-- WHILE {lexeme: while, lineno: 6}\n",
      "    +-- ( {lexeme: (, lineno: 6}\n",
      "    +-- BOOL {lexeme: true, lineno: 6}\n",
      "    +-- ) {lexeme: ), lineno: 6}\n",
      "    +-- DO {lexeme: do, lineno: 6}\n",
      "    +-- { {lexeme: {, lineno: 7}\n",
      "    +-- ID {lexeme: j, lineno: 8}\n",
      "    +-- := {lexeme: :=, lineno: 8}\n",
      "    +-- NUM {lexeme: 1, lineno: 8}\n",
      "    +-- ; {lexeme: ;, lineno: 8}\n",
      "    +-- WHILE {lexeme: while, lineno: 9}\n",
      "    +-- ( {lexeme: (, lineno: 9}\n",
      "    +-- BOOL {lexeme: true, lineno: 9}\n",
      "    +-- ) {lexeme: ), lineno: 9}\n",
      "    +-- DO {lexeme: do, lineno: 9}\n",
      "    +-- { {lexeme: {, lineno: 10}\n",
      "    +-- WRITE {lexeme: write, lineno: 11}\n",
      "    +-- STR {lexeme: 'i = ', lineno: 11}\n",
      "    +-- : {lexeme: :, lineno: 11}\n",
      "    +-- ID {lexeme: i, lineno: 11}\n",
      "    +-- ; {lexeme: ;, lineno: 11}\n",
      "    +-- WRITE {lexeme: write, lineno: 12}\n",
      "    +-- STR {lexeme: 'j = ', lineno: 12}\n",
      "    +-- : {lexeme: :, lineno: 12}\n",
      "    +-- ID {lexeme: j, lineno: 12}\n",
      "    +-- ; {lexeme: ;, lineno: 12}\n",
      "    +-- ID {lexeme: j, lineno: 13}\n",
      "    +-- := {lexeme: :=, lineno: 13}\n",
      "    +-- ID {lexeme: j, lineno: 13}\n",
      "    +-- + {lexeme: +, lineno: 13}\n",
      "    +-- NUM {lexeme: 1, lineno: 13}\n",
      "    +-- ; {lexeme: ;, lineno: 13}\n",
      "    +-- } {lexeme: }, lineno: 14}\n",
      "    +-- ID {lexeme: i, lineno: 15}\n",
      "    +-- := {lexeme: :=, lineno: 15}\n",
      "    +-- ID {lexeme: i, lineno: 15}\n",
      "    +-- + {lexeme: +, lineno: 15}\n",
      "    +-- NUM {lexeme: 1, lineno: 15}\n",
      "    +-- ; {lexeme: ;, lineno: 15}\n",
      "    +-- } {lexeme: }, lineno: 16}\n",
      "    +-- END {lexeme: end, lineno: 18}\n",
      "    +-- END {lexeme: end, lineno: 1}\n",
      "+-- SYNTAXTREE\n",
      "    +-- FUNCTIONDECL {lineno: 1}\n",
      "    +-- MAINPROG {lineno: 1}\n",
      "        +-- VAR {lineno: 1}\n",
      "        |   +-- ID {datatype: num, lineno: 1, scope: 0, value: n}\n",
      "        |   +-- ID {datatype: num, lineno: 1, scope: 0, value: i}\n",
      "        |   +-- ID {datatype: num, lineno: 1, scope: 0, value: j}\n",
      "        +-- ASSIGN {lineno: 3, scope: 0, value: n}\n",
      "        |   +-- NUM {datatype: num, lineno: 3, value: 5}\n",
      "        +-- ASSIGN {lineno: 4, scope: 0, value: i}\n",
      "        |   +-- NUM {datatype: num, lineno: 4, value: 1}\n",
      "        +-- WHILE {lineno: 6}\n",
      "        |   +-- BOOL {datatype: bool, lineno: 6, value: True}\n",
      "        |   +-- BLOCK {lineno: 8}\n",
      "        |       +-- ASSIGN {lineno: 8, scope: 0, value: j}\n",
      "        |       |   +-- NUM {datatype: num, lineno: 8, value: 1}\n",
      "        |       +-- WHILE {lineno: 9}\n",
      "        |       |   +-- BOOL {datatype: bool, lineno: 9, value: True}\n",
      "        |       |   +-- BLOCK {lineno: 11}\n",
      "        |       |       +-- WRITE {lineno: 11}\n",
      "        |       |       |   +-- STR {datatype: str, lineno: 11, value: 'i = '}\n",
      "        |       |       |   +-- ID {lineno: 11, scope: 0, value: i}\n",
      "        |       |       +-- WRITE {lineno: 12}\n",
      "        |       |       |   +-- STR {datatype: str, lineno: 12, value: 'j = '}\n",
      "        |       |       |   +-- ID {lineno: 12, scope: 0, value: j}\n",
      "        |       |       +-- ASSIGN {lineno: 13, scope: 0, value: j}\n",
      "        |       |           +-- + {datatype: num, lineno: 13}\n",
      "        |       |               +-- ID {lineno: 13, scope: 0, value: j}\n",
      "        |       |               +-- NUM {datatype: num, lineno: 13, value: 1}\n",
      "        |       +-- ASSIGN {lineno: 15, scope: 0, value: i}\n",
      "        |           +-- + {datatype: num, lineno: 15}\n",
      "        |               +-- ID {lineno: 15, scope: 0, value: i}\n",
      "        |               +-- NUM {datatype: num, lineno: 15, value: 1}\n",
      "        +-- END {lineno: 18}\n"
     ]
    }
   ],
   "source": [
    "%%sh \n",
    "python yylex.py example.txt\n",
    "python yyparse.py example.txt"
   ]
  },
  {
   "cell_type": "markdown",
   "metadata": {},
   "source": [
    "---"
   ]
  },
  {
   "cell_type": "markdown",
   "metadata": {},
   "source": [
    "## Ejemplo 2"
   ]
  },
  {
   "cell_type": "markdown",
   "metadata": {},
   "source": [
    "[Contenido](#Contenido)"
   ]
  },
  {
   "cell_type": "code",
   "execution_count": 9,
   "metadata": {
    "collapsed": false
   },
   "outputs": [
    {
     "name": "stdout",
     "output_type": "stream",
     "text": [
      "Overwriting example.txt\n"
     ]
    }
   ],
   "source": [
    "%%writefile example.txt\n",
    "\n",
    "var z:num;\n",
    "z := 0;    \n",
    "while (z < 10) do \n",
    "  {\n",
    "  z := z + 1;\n",
    "  write 'do while (1 a 10) ==> ':  z;\n",
    "  } \n",
    "  \n",
    "end"
   ]
  },
  {
   "cell_type": "code",
   "execution_count": 10,
   "metadata": {
    "collapsed": false
   },
   "outputs": [
    {
     "name": "stdout",
     "output_type": "stream",
     "text": [
      "+-- TOKENTABLE\n",
      "    +-- VAR {lexeme: var, lineno: 1}\n",
      "    +-- ID {lexeme: z, lineno: 1}\n",
      "    +-- : {lexeme: :, lineno: 1}\n",
      "    +-- DATATYPE {lexeme: num, lineno: 1}\n",
      "    +-- ; {lexeme: ;, lineno: 1}\n",
      "    +-- ID {lexeme: z, lineno: 2}\n",
      "    +-- := {lexeme: :=, lineno: 2}\n",
      "    +-- NUM {lexeme: 0, lineno: 2}\n",
      "    +-- ; {lexeme: ;, lineno: 2}\n",
      "    +-- WHILE {lexeme: while, lineno: 3}\n",
      "    +-- ( {lexeme: (, lineno: 3}\n",
      "    +-- ID {lexeme: z, lineno: 3}\n",
      "    +-- < {lexeme: <, lineno: 3}\n",
      "    +-- NUM {lexeme: 10, lineno: 3}\n",
      "    +-- ) {lexeme: ), lineno: 3}\n",
      "    +-- DO {lexeme: do, lineno: 3}\n",
      "    +-- { {lexeme: {, lineno: 4}\n",
      "    +-- ID {lexeme: z, lineno: 5}\n",
      "    +-- := {lexeme: :=, lineno: 5}\n",
      "    +-- ID {lexeme: z, lineno: 5}\n",
      "    +-- + {lexeme: +, lineno: 5}\n",
      "    +-- NUM {lexeme: 1, lineno: 5}\n",
      "    +-- ; {lexeme: ;, lineno: 5}\n",
      "    +-- WRITE {lexeme: write, lineno: 6}\n",
      "    +-- STR {lexeme: 'do while (1 a 10) ==> ', lineno: 6}\n",
      "    +-- : {lexeme: :, lineno: 6}\n",
      "    +-- ID {lexeme: z, lineno: 6}\n",
      "    +-- ; {lexeme: ;, lineno: 6}\n",
      "    +-- } {lexeme: }, lineno: 7}\n",
      "    +-- END {lexeme: end, lineno: 9}\n",
      "    +-- END {lexeme: end, lineno: 1}\n"
     ]
    }
   ],
   "source": [
    "%%sh \n",
    "python yylex.py example.txt"
   ]
  },
  {
   "cell_type": "code",
   "execution_count": 11,
   "metadata": {
    "collapsed": false,
    "scrolled": false
   },
   "outputs": [
    {
     "name": "stdout",
     "output_type": "stream",
     "text": [
      "+-- SYNTAXTREE\n",
      "    +-- FUNCTIONDECL {lineno: 1}\n",
      "    +-- MAINPROG {lineno: 1}\n",
      "        +-- VAR {lineno: 1}\n",
      "        |   +-- ID {datatype: num, lineno: 1, scope: 0, value: z}\n",
      "        +-- ASSIGN {lineno: 2, scope: 0, value: z}\n",
      "        |   +-- NUM {datatype: num, lineno: 2, value: 0}\n",
      "        +-- WHILE {lineno: 3}\n",
      "        |   +-- < {datatype: bool, lineno: 3}\n",
      "        |   |   +-- ID {lineno: 3, scope: 0, value: z}\n",
      "        |   |   +-- NUM {datatype: num, lineno: 3, value: 10}\n",
      "        |   +-- BLOCK {lineno: 5}\n",
      "        |       +-- ASSIGN {lineno: 5, scope: 0, value: z}\n",
      "        |       |   +-- + {datatype: num, lineno: 5}\n",
      "        |       |       +-- ID {lineno: 5, scope: 0, value: z}\n",
      "        |       |       +-- NUM {datatype: num, lineno: 5, value: 1}\n",
      "        |       +-- WRITE {lineno: 6}\n",
      "        |           +-- STR {datatype: str, lineno: 6, value: 'do while (1 a 10) ==> '}\n",
      "        |           +-- ID {lineno: 6, scope: 0, value: z}\n",
      "        +-- END {lineno: 9}\n"
     ]
    }
   ],
   "source": [
    "%%sh\n",
    "python yyparse.py example.txt"
   ]
  },
  {
   "cell_type": "markdown",
   "metadata": {},
   "source": [
    "---"
   ]
  },
  {
   "cell_type": "markdown",
   "metadata": {},
   "source": [
    "## Ejemplo 3"
   ]
  },
  {
   "cell_type": "markdown",
   "metadata": {},
   "source": [
    "[Contenido](#Contenido)"
   ]
  },
  {
   "cell_type": "code",
   "execution_count": 12,
   "metadata": {
    "collapsed": false
   },
   "outputs": [
    {
     "name": "stdout",
     "output_type": "stream",
     "text": [
      "Overwriting example.txt\n"
     ]
    }
   ],
   "source": [
    "%%writefile example.txt\n",
    "write '$chs( 1 ) ==> ':  \\$chs( 1 );\n",
    "write '$abs( 1 ) ==> ':  \\$abs( 1 );\n",
    "write '$sgn( 0 ) ==> ':  \\$sgn( 0 );\n",
    "write '$sgn( 1 ) ==> ':  \\$sgn( 1 );\n",
    "end "
   ]
  },
  {
   "cell_type": "code",
   "execution_count": 13,
   "metadata": {
    "collapsed": false
   },
   "outputs": [
    {
     "name": "stdout",
     "output_type": "stream",
     "text": [
      "example.txt:Lexical error at line <0>: Unexpected symbol <\\>\n"
     ]
    }
   ],
   "source": [
    "%%sh \n",
    "python yylex.py example.txt"
   ]
  },
  {
   "cell_type": "code",
   "execution_count": 14,
   "metadata": {
    "collapsed": false,
    "scrolled": false
   },
   "outputs": [
    {
     "name": "stdout",
     "output_type": "stream",
     "text": [
      "+-- SYNTAXTREE\n",
      "    +-- FUNCTIONDECL {lineno: 1}\n",
      "    +-- MAINPROG {lineno: 1}\n",
      "    |   +-- VAR {lineno: 1}\n",
      "    |   |   +-- ID {datatype: num, lineno: 1, scope: 0, value: z}\n",
      "    |   +-- ASSIGN {lineno: 2, scope: 0, value: z}\n",
      "    |   |   +-- NUM {datatype: num, lineno: 2, value: 0}\n",
      "    |   +-- WHILE {lineno: 3}\n",
      "    |   |   +-- < {datatype: bool, lineno: 3}\n",
      "    |   |   |   +-- ID {lineno: 3, scope: 0, value: z}\n",
      "    |   |   |   +-- NUM {datatype: num, lineno: 3, value: 10}\n",
      "    |   |   +-- BLOCK {lineno: 5}\n",
      "    |   |       +-- ASSIGN {lineno: 5, scope: 0, value: z}\n",
      "    |   |       |   +-- + {datatype: num, lineno: 5}\n",
      "    |   |       |       +-- ID {lineno: 5, scope: 0, value: z}\n",
      "    |   |       |       +-- NUM {datatype: num, lineno: 5, value: 1}\n",
      "    |   |       +-- WRITE {lineno: 6}\n",
      "    |   |           +-- STR {datatype: str, lineno: 6, value: 'do while (1 a 10) ==> '}\n",
      "    |   |           +-- ID {lineno: 6, scope: 0, value: z}\n",
      "    |   +-- END {lineno: 9}\n",
      "    +-- FUNCTIONDECL {lineno: 1}\n",
      "    +-- MAINPROG {lineno: 1}\n",
      "        +-- VAR {lineno: 1}\n",
      "        |   +-- ID {datatype: num, lineno: 1, scope: 0, value: z}\n",
      "        +-- ASSIGN {lineno: 2, scope: 0, value: z}\n",
      "        |   +-- NUM {datatype: num, lineno: 2, value: 0}\n",
      "        +-- WHILE {lineno: 3}\n",
      "        |   +-- < {datatype: bool, lineno: 3}\n",
      "        |   |   +-- ID {lineno: 3, scope: 0, value: z}\n",
      "        |   |   +-- NUM {datatype: num, lineno: 3, value: 10}\n",
      "        |   +-- BLOCK {lineno: 5}\n",
      "        |       +-- ASSIGN {lineno: 5, scope: 0, value: z}\n",
      "        |       |   +-- + {datatype: num, lineno: 5}\n",
      "        |       |       +-- ID {lineno: 5, scope: 0, value: z}\n",
      "        |       |       +-- NUM {datatype: num, lineno: 5, value: 1}\n",
      "        |       +-- WRITE {lineno: 6}\n",
      "        |           +-- STR {datatype: str, lineno: 6, value: 'do while (1 a 10) ==> '}\n",
      "        |           +-- ID {lineno: 6, scope: 0, value: z}\n",
      "        +-- END {lineno: 9}\n"
     ]
    }
   ],
   "source": [
    "%%sh\n",
    "python yyparse.py example.txt"
   ]
  },
  {
   "cell_type": "markdown",
   "metadata": {},
   "source": [
    "---"
   ]
  },
  {
   "cell_type": "markdown",
   "metadata": {},
   "source": [
    "## Ejemplo 4"
   ]
  },
  {
   "cell_type": "markdown",
   "metadata": {},
   "source": [
    "[Contenido](#Contenido)"
   ]
  },
  {
   "cell_type": "code",
   "execution_count": 15,
   "metadata": {
    "collapsed": false
   },
   "outputs": [
    {
     "name": "stdout",
     "output_type": "stream",
     "text": [
      "Overwriting example.txt\n"
     ]
    }
   ],
   "source": [
    "%%writefile example.txt\n",
    "function @min:num (x:num, y:num)\n",
    "   {\n",
    "   when ((x < y) == true) do return x;\n",
    "   return y;\n",
    "   }\n",
    "   \n",
    "## funcion max(x, y)\n",
    "function @max:num (x:num, y:num)   \n",
    "   {\n",
    "   if ((x < y) == false) do\n",
    "       {\n",
    "       return x;\n",
    "       }\n",
    "   else\n",
    "      {                 \n",
    "      return y;\n",
    "      }\n",
    "   }\n",
    "\n",
    "write 'min 1 -> ': @min(1,2);\n",
    "write 'max 2 -> ': @max(1,2);\n",
    "\n",
    "end"
   ]
  },
  {
   "cell_type": "code",
   "execution_count": 16,
   "metadata": {
    "collapsed": false
   },
   "outputs": [
    {
     "name": "stdout",
     "output_type": "stream",
     "text": [
      "+-- TOKENTABLE\n",
      "    +-- FUNCTION {lexeme: function, lineno: 0}\n",
      "    +-- UFID {lexeme: @min, lineno: 0}\n",
      "    +-- : {lexeme: :, lineno: 0}\n",
      "    +-- DATATYPE {lexeme: num, lineno: 0}\n",
      "    +-- ( {lexeme: (, lineno: 0}\n",
      "    +-- ID {lexeme: x, lineno: 0}\n",
      "    +-- : {lexeme: :, lineno: 0}\n",
      "    +-- DATATYPE {lexeme: num, lineno: 0}\n",
      "    +-- , {lexeme: ,, lineno: 0}\n",
      "    +-- ID {lexeme: y, lineno: 0}\n",
      "    +-- : {lexeme: :, lineno: 0}\n",
      "    +-- DATATYPE {lexeme: num, lineno: 0}\n",
      "    +-- ) {lexeme: ), lineno: 0}\n",
      "    +-- { {lexeme: {, lineno: 1}\n",
      "    +-- WHEN {lexeme: when, lineno: 2}\n",
      "    +-- ( {lexeme: (, lineno: 2}\n",
      "    +-- ( {lexeme: (, lineno: 2}\n",
      "    +-- ID {lexeme: x, lineno: 2}\n",
      "    +-- < {lexeme: <, lineno: 2}\n",
      "    +-- ID {lexeme: y, lineno: 2}\n",
      "    +-- ) {lexeme: ), lineno: 2}\n",
      "    +-- == {lexeme: ==, lineno: 2}\n",
      "    +-- BOOL {lexeme: true, lineno: 2}\n",
      "    +-- ) {lexeme: ), lineno: 2}\n",
      "    +-- DO {lexeme: do, lineno: 2}\n",
      "    +-- RETURN {lexeme: return, lineno: 2}\n",
      "    +-- ID {lexeme: x, lineno: 2}\n",
      "    +-- ; {lexeme: ;, lineno: 2}\n",
      "    +-- RETURN {lexeme: return, lineno: 3}\n",
      "    +-- ID {lexeme: y, lineno: 3}\n",
      "    +-- ; {lexeme: ;, lineno: 3}\n",
      "    +-- } {lexeme: }, lineno: 4}\n",
      "    +-- FUNCTION {lexeme: function, lineno: 7}\n",
      "    +-- UFID {lexeme: @max, lineno: 7}\n",
      "    +-- : {lexeme: :, lineno: 7}\n",
      "    +-- DATATYPE {lexeme: num, lineno: 7}\n",
      "    +-- ( {lexeme: (, lineno: 7}\n",
      "    +-- ID {lexeme: x, lineno: 7}\n",
      "    +-- : {lexeme: :, lineno: 7}\n",
      "    +-- DATATYPE {lexeme: num, lineno: 7}\n",
      "    +-- , {lexeme: ,, lineno: 7}\n",
      "    +-- ID {lexeme: y, lineno: 7}\n",
      "    +-- : {lexeme: :, lineno: 7}\n",
      "    +-- DATATYPE {lexeme: num, lineno: 7}\n",
      "    +-- ) {lexeme: ), lineno: 7}\n",
      "    +-- { {lexeme: {, lineno: 8}\n",
      "    +-- IF {lexeme: if, lineno: 9}\n",
      "    +-- ( {lexeme: (, lineno: 9}\n",
      "    +-- ( {lexeme: (, lineno: 9}\n",
      "    +-- ID {lexeme: x, lineno: 9}\n",
      "    +-- < {lexeme: <, lineno: 9}\n",
      "    +-- ID {lexeme: y, lineno: 9}\n",
      "    +-- ) {lexeme: ), lineno: 9}\n",
      "    +-- == {lexeme: ==, lineno: 9}\n",
      "    +-- BOOL {lexeme: false, lineno: 9}\n",
      "    +-- ) {lexeme: ), lineno: 9}\n",
      "    +-- DO {lexeme: do, lineno: 9}\n",
      "    +-- { {lexeme: {, lineno: 10}\n",
      "    +-- RETURN {lexeme: return, lineno: 11}\n",
      "    +-- ID {lexeme: x, lineno: 11}\n",
      "    +-- ; {lexeme: ;, lineno: 11}\n",
      "    +-- } {lexeme: }, lineno: 12}\n",
      "    +-- ELSE {lexeme: else, lineno: 13}\n",
      "    +-- { {lexeme: {, lineno: 14}\n",
      "    +-- RETURN {lexeme: return, lineno: 15}\n",
      "    +-- ID {lexeme: y, lineno: 15}\n",
      "    +-- ; {lexeme: ;, lineno: 15}\n",
      "    +-- } {lexeme: }, lineno: 16}\n",
      "    +-- } {lexeme: }, lineno: 17}\n",
      "    +-- WRITE {lexeme: write, lineno: 19}\n",
      "    +-- STR {lexeme: 'min 1 -> ', lineno: 19}\n",
      "    +-- : {lexeme: :, lineno: 19}\n",
      "    +-- UFID {lexeme: @min, lineno: 19}\n",
      "    +-- ( {lexeme: (, lineno: 19}\n",
      "    +-- NUM {lexeme: 1, lineno: 19}\n",
      "    +-- , {lexeme: ,, lineno: 19}\n",
      "    +-- NUM {lexeme: 2, lineno: 19}\n",
      "    +-- ) {lexeme: ), lineno: 19}\n",
      "    +-- ; {lexeme: ;, lineno: 19}\n",
      "    +-- WRITE {lexeme: write, lineno: 20}\n",
      "    +-- STR {lexeme: 'max 2 -> ', lineno: 20}\n",
      "    +-- : {lexeme: :, lineno: 20}\n",
      "    +-- UFID {lexeme: @max, lineno: 20}\n",
      "    +-- ( {lexeme: (, lineno: 20}\n",
      "    +-- NUM {lexeme: 1, lineno: 20}\n",
      "    +-- , {lexeme: ,, lineno: 20}\n",
      "    +-- NUM {lexeme: 2, lineno: 20}\n",
      "    +-- ) {lexeme: ), lineno: 20}\n",
      "    +-- ; {lexeme: ;, lineno: 20}\n",
      "    +-- END {lexeme: end, lineno: 22}\n",
      "    +-- END {lexeme: end, lineno: 1}\n"
     ]
    }
   ],
   "source": [
    "%%sh \n",
    "python yylex.py example.txt"
   ]
  },
  {
   "cell_type": "code",
   "execution_count": 17,
   "metadata": {
    "collapsed": false,
    "scrolled": false
   },
   "outputs": [
    {
     "name": "stdout",
     "output_type": "stream",
     "text": [
      "example.txt:Syntax error at line 2: Unexpected symbol <token := ')', symbol := '=='>\n"
     ]
    }
   ],
   "source": [
    "%%sh\n",
    "python yyparse.py example.txt"
   ]
  },
  {
   "cell_type": "markdown",
   "metadata": {},
   "source": [
    "---"
   ]
  },
  {
   "cell_type": "markdown",
   "metadata": {},
   "source": [
    "# Implementación de yyparse.py"
   ]
  },
  {
   "cell_type": "markdown",
   "metadata": {},
   "source": [
    "[Contenido](#Contenido)"
   ]
  },
  {
   "cell_type": "code",
   "execution_count": 18,
   "metadata": {
    "collapsed": false,
    "scrolled": false
   },
   "outputs": [
    {
     "name": "stdout",
     "output_type": "stream",
     "text": [
      "0001: \u001b[37m###< 2016-08-28 17:04:40.182903 >###\u001b[39;49;00m\n",
      "0002: \n",
      "0003: \u001b[37m#\u001b[39;49;00m\n",
      "0004: \u001b[37m#  yyparse.py\u001b[39;49;00m\n",
      "0005: \u001b[37m#    analizador sintactico para el lenguaje bcc\u001b[39;49;00m\n",
      "0006: \u001b[37m#\u001b[39;49;00m\n",
      "0007: \n",
      "0008: \u001b[34mimport\u001b[39;49;00m \u001b[04m\u001b[36mshlex\u001b[39;49;00m, \u001b[04m\u001b[36msys\u001b[39;49;00m, \u001b[04m\u001b[36mpickle\u001b[39;49;00m\n",
      "0009: \u001b[34mimport\u001b[39;49;00m \u001b[04m\u001b[36mdataTree\u001b[39;49;00m \u001b[34mas\u001b[39;49;00m \u001b[04m\u001b[36mdt\u001b[39;49;00m\n",
      "0010: \n",
      "0011: \n",
      "0012: \u001b[37m## analizador sintactico\u001b[39;49;00m\n",
      "0013: \u001b[34mdef\u001b[39;49;00m \u001b[32myyparse\u001b[39;49;00m(filename, quiet = \u001b[36mFalse\u001b[39;49;00m):\n",
      "0014: \n",
      "0015:     \u001b[37m## lee la estructura de datos generada por yylex()\u001b[39;49;00m\n",
      "0016:     \u001b[34mwith\u001b[39;49;00m \u001b[36mopen\u001b[39;49;00m(filename + \u001b[33m'\u001b[39;49;00m\u001b[33m.dataTree\u001b[39;49;00m\u001b[33m'\u001b[39;49;00m, \u001b[33m'\u001b[39;49;00m\u001b[33mrb\u001b[39;49;00m\u001b[33m'\u001b[39;49;00m) \u001b[34mas\u001b[39;49;00m f:\n",
      "0017:         DATA = pickle.load(f)\n",
      "0018: \n",
      "0019:     SOURCECODE  = DATA.find(\u001b[33m'\u001b[39;49;00m\u001b[33mSOURCECODE\u001b[39;49;00m\u001b[33m'\u001b[39;49;00m)\n",
      "0020:     TOKENTABLE  = DATA.find(\u001b[33m'\u001b[39;49;00m\u001b[33mTOKENTABLE\u001b[39;49;00m\u001b[33m'\u001b[39;49;00m)\n",
      "0021:     SYNTAXTREE  = DATA.find(\u001b[33m'\u001b[39;49;00m\u001b[33mSYNTAXTREE\u001b[39;49;00m\u001b[33m'\u001b[39;49;00m)\n",
      "0022:     SYMBOLTABLE = DATA.find(\u001b[33m'\u001b[39;49;00m\u001b[33mSYMBOLTABLE\u001b[39;49;00m\u001b[33m'\u001b[39;49;00m)\n",
      "0023: \n",
      "0024:     \u001b[37m# funciones auxiliares requeridas por\u001b[39;49;00m\n",
      "0025:     \u001b[37m# el parser durante el reconocimiento de\u001b[39;49;00m\n",
      "0026:     \u001b[37m# la gramatica\u001b[39;49;00m\n",
      "0027:     \u001b[34mdef\u001b[39;49;00m \u001b[32myytext\u001b[39;49;00m(offset=\u001b[34m0\u001b[39;49;00m):\n",
      "0028:         \u001b[37m#\u001b[39;49;00m\n",
      "0029:         \u001b[34mreturn\u001b[39;49;00m TOKENTABLE[TOKENTABLE.get(\u001b[33m'\u001b[39;49;00m\u001b[33mindex\u001b[39;49;00m\u001b[33m'\u001b[39;49;00m)].get(\u001b[33m'\u001b[39;49;00m\u001b[33mlexeme\u001b[39;49;00m\u001b[33m'\u001b[39;49;00m)\n",
      "0030:         \u001b[37m#\u001b[39;49;00m\n",
      "0031: \n",
      "0032:     \u001b[34mdef\u001b[39;49;00m \u001b[32myytoken\u001b[39;49;00m(offset=\u001b[34m0\u001b[39;49;00m):\n",
      "0033:         \u001b[37m#\u001b[39;49;00m\n",
      "0034:         \u001b[34mreturn\u001b[39;49;00m TOKENTABLE[TOKENTABLE.get(\u001b[33m'\u001b[39;49;00m\u001b[33mindex\u001b[39;49;00m\u001b[33m'\u001b[39;49;00m) + offset].tag\n",
      "0035:         \u001b[37m#\u001b[39;49;00m\n",
      "0036: \n",
      "0037:     \u001b[34mdef\u001b[39;49;00m \u001b[32myymatch\u001b[39;49;00m(token, offset=\u001b[34m0\u001b[39;49;00m):\n",
      "0038:         \u001b[37m#\u001b[39;49;00m\n",
      "0039:         \u001b[34mreturn\u001b[39;49;00m token == yytoken(offset)\n",
      "0040:         \u001b[37m#\u001b[39;49;00m\n",
      "0041: \n",
      "0042:     \u001b[34mdef\u001b[39;49;00m \u001b[32myyadvance\u001b[39;49;00m(offset=\u001b[34m1\u001b[39;49;00m):\n",
      "0043:         \u001b[37m#\u001b[39;49;00m\n",
      "0044:         TOKENTABLE.set(\u001b[33m'\u001b[39;49;00m\u001b[33mindex\u001b[39;49;00m\u001b[33m'\u001b[39;49;00m, TOKENTABLE.get(\u001b[33m'\u001b[39;49;00m\u001b[33mindex\u001b[39;49;00m\u001b[33m'\u001b[39;49;00m) + offset)\n",
      "0045:         \u001b[37m#\u001b[39;49;00m\n",
      "0046: \n",
      "0047:     \u001b[34mdef\u001b[39;49;00m \u001b[32myylineno\u001b[39;49;00m():\n",
      "0048:         \u001b[37m#\u001b[39;49;00m\n",
      "0049:         \u001b[34mreturn\u001b[39;49;00m TOKENTABLE[TOKENTABLE.get(\u001b[33m'\u001b[39;49;00m\u001b[33mindex\u001b[39;49;00m\u001b[33m'\u001b[39;49;00m)].get(\u001b[33m'\u001b[39;49;00m\u001b[33mlineno\u001b[39;49;00m\u001b[33m'\u001b[39;49;00m)\n",
      "0050:         \u001b[37m#\u001b[39;49;00m\n",
      "0051: \n",
      "0052:     \u001b[34mdef\u001b[39;49;00m \u001b[32myyaccept\u001b[39;49;00m(token, advance=\u001b[36mTrue\u001b[39;49;00m):\n",
      "0053:         \u001b[37m#\u001b[39;49;00m\n",
      "0054:         \u001b[34mif\u001b[39;49;00m \u001b[35mnot\u001b[39;49;00m yymatch(token):\n",
      "0055:             msg = \u001b[33m'\u001b[39;49;00m\u001b[33m{}:Syntax error at line {}: \u001b[39;49;00m\u001b[33m'\u001b[39;49;00m.format(filename, yylineno())\n",
      "0056:             msg += \u001b[33m'\u001b[39;49;00m\u001b[33mUnexpected symbol <token := \u001b[39;49;00m\u001b[33m\\'\u001b[39;49;00m\u001b[33m{}\u001b[39;49;00m\u001b[33m\\'\u001b[39;49;00m\u001b[33m, symbol := \u001b[39;49;00m\u001b[33m\\'\u001b[39;49;00m\u001b[33m{}\u001b[39;49;00m\u001b[33m\\'\u001b[39;49;00m\u001b[33m>\u001b[39;49;00m\u001b[33m'\u001b[39;49;00m.format(token, yytext())\n",
      "0057:             \u001b[34mprint\u001b[39;49;00m(msg)\n",
      "0058:             sys.exit()\n",
      "0059:         \u001b[37m#\u001b[39;49;00m\n",
      "0060:         \u001b[34mif\u001b[39;49;00m advance:\n",
      "0061:             yyadvance()\n",
      "0062: \n",
      "0063:     \u001b[37m#\u001b[39;49;00m\n",
      "0064:     \u001b[37m# crea un nuevo nodo del arbol sintactico\u001b[39;49;00m\n",
      "0065:     \u001b[37m# sin enlazarlo a los demas\u001b[39;49;00m\n",
      "0066:     \u001b[37m#\u001b[39;49;00m\n",
      "0067:     \u001b[34mdef\u001b[39;49;00m \u001b[32myynewnode\u001b[39;49;00m(kind, datatype=\u001b[36mNone\u001b[39;49;00m, value=\u001b[36mNone\u001b[39;49;00m, scope=\u001b[36mNone\u001b[39;49;00m):\n",
      "0068:         \u001b[37m#\u001b[39;49;00m\n",
      "0069:         attrib = {\u001b[33m'\u001b[39;49;00m\u001b[33mlineno\u001b[39;49;00m\u001b[33m'\u001b[39;49;00m:yylineno()}\n",
      "0070:         \u001b[37m#\u001b[39;49;00m\n",
      "0071:         \u001b[34mif\u001b[39;49;00m \u001b[35mnot\u001b[39;49;00m value \u001b[35mis\u001b[39;49;00m \u001b[36mNone\u001b[39;49;00m:\n",
      "0072:             attrib[\u001b[33m'\u001b[39;49;00m\u001b[33mvalue\u001b[39;49;00m\u001b[33m'\u001b[39;49;00m] = value\n",
      "0073:         \u001b[37m#\u001b[39;49;00m\n",
      "0074:         \u001b[34mif\u001b[39;49;00m \u001b[35mnot\u001b[39;49;00m datatype \u001b[35mis\u001b[39;49;00m \u001b[36mNone\u001b[39;49;00m:\n",
      "0075:             attrib[\u001b[33m'\u001b[39;49;00m\u001b[33mdatatype\u001b[39;49;00m\u001b[33m'\u001b[39;49;00m] = datatype\n",
      "0076:         \u001b[37m#\u001b[39;49;00m\n",
      "0077:         \u001b[34mif\u001b[39;49;00m \u001b[35mnot\u001b[39;49;00m scope \u001b[35mis\u001b[39;49;00m \u001b[36mNone\u001b[39;49;00m:\n",
      "0078:             attrib[\u001b[33m'\u001b[39;49;00m\u001b[33mscope\u001b[39;49;00m\u001b[33m'\u001b[39;49;00m] = scope\n",
      "0079:         \u001b[37m#\u001b[39;49;00m\n",
      "0080:         \u001b[34mreturn\u001b[39;49;00m dt.TreeNode(tag=kind, attrib=attrib)\n",
      "0081: \n",
      "0082:     \u001b[37m##\u001b[39;49;00m\n",
      "0083:     \u001b[37m##\u001b[39;49;00m\n",
      "0084:     \u001b[37m##  G R A M A T I C A\u001b[39;49;00m\n",
      "0085:     \u001b[37m##\u001b[39;49;00m\n",
      "0086:     \u001b[37m##\u001b[39;49;00m\n",
      "0087: \n",
      "0088:     \u001b[37m##\u001b[39;49;00m\n",
      "0089:     \u001b[37m##  program\u001b[39;49;00m\n",
      "0090:     \u001b[37m##    -> function_decl main_prog\u001b[39;49;00m\n",
      "0091:     \u001b[37m##\u001b[39;49;00m\n",
      "0092:     \u001b[34mdef\u001b[39;49;00m \u001b[32mprogram\u001b[39;49;00m():\n",
      "0093:         SYNTAXTREE.append(function_decl())\n",
      "0094:         SYNTAXTREE.append(main_prog())\n",
      "0095: \n",
      "0096:     \u001b[37m##\u001b[39;49;00m\n",
      "0097:     \u001b[37m## var_decl\u001b[39;49;00m\n",
      "0098:     \u001b[37m##   -> ID ':' DATATYPE [',' ID ':' DATATYPE]*\u001b[39;49;00m\n",
      "0099:     \u001b[37m##\u001b[39;49;00m\n",
      "0100:     \u001b[34mdef\u001b[39;49;00m \u001b[32mvar_decl\u001b[39;49;00m():\n",
      "0101:         r = []\n",
      "0102:         \u001b[34mwhile\u001b[39;49;00m yymatch(\u001b[33m'\u001b[39;49;00m\u001b[33mID\u001b[39;49;00m\u001b[33m'\u001b[39;49;00m):\n",
      "0103:             m = yynewnode(\u001b[33m'\u001b[39;49;00m\u001b[33mID\u001b[39;49;00m\u001b[33m'\u001b[39;49;00m, value=yytext(), scope=SYNTAXTREE.get(\u001b[33m'\u001b[39;49;00m\u001b[33mscope\u001b[39;49;00m\u001b[33m'\u001b[39;49;00m))\n",
      "0104:             r.append(m)\n",
      "0105:             yyadvance()\n",
      "0106:             yyaccept(\u001b[33m'\u001b[39;49;00m\u001b[33m:\u001b[39;49;00m\u001b[33m'\u001b[39;49;00m)\n",
      "0107:             yyaccept(\u001b[33m'\u001b[39;49;00m\u001b[33mDATATYPE\u001b[39;49;00m\u001b[33m'\u001b[39;49;00m, advance=\u001b[36mFalse\u001b[39;49;00m)\n",
      "0108:             m.set(\u001b[33m'\u001b[39;49;00m\u001b[33mdatatype\u001b[39;49;00m\u001b[33m'\u001b[39;49;00m, yytext())\n",
      "0109:             yyadvance()\n",
      "0110:             \u001b[34mif\u001b[39;49;00m yymatch(\u001b[33m'\u001b[39;49;00m\u001b[33m,\u001b[39;49;00m\u001b[33m'\u001b[39;49;00m):\n",
      "0111:                 yyadvance()\n",
      "0112:         \u001b[34mreturn\u001b[39;49;00m r\n",
      "0113: \n",
      "0114:     \u001b[37m##\u001b[39;49;00m\n",
      "0115:     \u001b[37m##  function_decl\u001b[39;49;00m\n",
      "0116:     \u001b[37m##    -> [ FUNTION FID ':' DATATYPE '(' [var_decl] ')'\u001b[39;49;00m\n",
      "0117:     \u001b[37m##         [VAR var_decl ';']\u001b[39;49;00m\n",
      "0118:     \u001b[37m##         stmt_block ]*\u001b[39;49;00m\n",
      "0119:     \u001b[37m##\u001b[39;49;00m\n",
      "0120:     \u001b[34mdef\u001b[39;49;00m \u001b[32mfunction_decl\u001b[39;49;00m():\n",
      "0121: \n",
      "0122:         r = yynewnode(\u001b[33m'\u001b[39;49;00m\u001b[33mFUNCTIONDECL\u001b[39;49;00m\u001b[33m'\u001b[39;49;00m)\n",
      "0123: \n",
      "0124:         \u001b[34mwhile\u001b[39;49;00m yymatch(\u001b[33m'\u001b[39;49;00m\u001b[33mFUNCTION\u001b[39;49;00m\u001b[33m'\u001b[39;49;00m):\n",
      "0125: \n",
      "0126:             SYNTAXTREE.set(\u001b[33m'\u001b[39;49;00m\u001b[33mscope\u001b[39;49;00m\u001b[33m'\u001b[39;49;00m, SYNTAXTREE.get(\u001b[33m'\u001b[39;49;00m\u001b[33mscope\u001b[39;49;00m\u001b[33m'\u001b[39;49;00m) + \u001b[34m1\u001b[39;49;00m)\n",
      "0127:             yyadvance()\n",
      "0128: \n",
      "0129:             \u001b[37m# nombre de la funcion y tipo retornado\u001b[39;49;00m\n",
      "0130:             f = yynewnode(\u001b[33m'\u001b[39;49;00m\u001b[33mFUNCTION\u001b[39;49;00m\u001b[33m'\u001b[39;49;00m, value=yytext(), scope=SYNTAXTREE.get(\u001b[33m'\u001b[39;49;00m\u001b[33mscope\u001b[39;49;00m\u001b[33m'\u001b[39;49;00m))\n",
      "0131:             r.append(f)\n",
      "0132:             yyadvance()\n",
      "0133:             yyaccept(\u001b[33m'\u001b[39;49;00m\u001b[33m:\u001b[39;49;00m\u001b[33m'\u001b[39;49;00m)\n",
      "0134:             yyaccept(\u001b[33m'\u001b[39;49;00m\u001b[33mDATATYPE\u001b[39;49;00m\u001b[33m'\u001b[39;49;00m, advance=\u001b[36mFalse\u001b[39;49;00m)\n",
      "0135:             f.set(\u001b[33m'\u001b[39;49;00m\u001b[33mdatatype\u001b[39;49;00m\u001b[33m'\u001b[39;49;00m, yytext())\n",
      "0136:             SYNTAXTREE.set(\u001b[33m'\u001b[39;49;00m\u001b[33mdatatype\u001b[39;49;00m\u001b[33m'\u001b[39;49;00m, yytext())\n",
      "0137:             yyadvance()\n",
      "0138: \n",
      "0139:             \u001b[37m# nombres de los argumentos y sus tipos\u001b[39;49;00m\n",
      "0140:             yyaccept(\u001b[33m'\u001b[39;49;00m\u001b[33m(\u001b[39;49;00m\u001b[33m'\u001b[39;49;00m)\n",
      "0141:             a = yynewnode(\u001b[33m'\u001b[39;49;00m\u001b[33mARGS\u001b[39;49;00m\u001b[33m'\u001b[39;49;00m)\n",
      "0142:             a.extend(var_decl())\n",
      "0143:             f.append(a)\n",
      "0144:             yyaccept(\u001b[33m'\u001b[39;49;00m\u001b[33m)\u001b[39;49;00m\u001b[33m'\u001b[39;49;00m)\n",
      "0145: \n",
      "0146:             \u001b[37m# cuerpo de la funcion\u001b[39;49;00m\n",
      "0147:             \u001b[34mif\u001b[39;49;00m yymatch(\u001b[33m'\u001b[39;49;00m\u001b[33mVAR\u001b[39;49;00m\u001b[33m'\u001b[39;49;00m):\n",
      "0148:                 v = yynewnode(\u001b[33m'\u001b[39;49;00m\u001b[33mVAR\u001b[39;49;00m\u001b[33m'\u001b[39;49;00m)\n",
      "0149:                 yyadvance()\n",
      "0150:                 v.extend(var_decl())\n",
      "0151:                 yyaccept(\u001b[33m'\u001b[39;49;00m\u001b[33m;\u001b[39;49;00m\u001b[33m'\u001b[39;49;00m)\n",
      "0152:                 f.append(v)\n",
      "0153: \n",
      "0154:             f.append(stmt_block())\n",
      "0155: \n",
      "0156:             SYNTAXTREE.set(\u001b[33m'\u001b[39;49;00m\u001b[33mdatatype\u001b[39;49;00m\u001b[33m'\u001b[39;49;00m, \u001b[36mNone\u001b[39;49;00m)\n",
      "0157: \n",
      "0158: \n",
      "0159:         \u001b[34mreturn\u001b[39;49;00m r\n",
      "0160: \n",
      "0161:     \u001b[37m##\u001b[39;49;00m\n",
      "0162:     \u001b[37m##  main_prog\u001b[39;49;00m\n",
      "0163:     \u001b[37m##    -> [VAR var_decl ';']  stmt*  END\u001b[39;49;00m\n",
      "0164:     \u001b[37m##\u001b[39;49;00m\n",
      "0165:     \u001b[34mdef\u001b[39;49;00m \u001b[32mmain_prog\u001b[39;49;00m():\n",
      "0166: \n",
      "0167:         r = yynewnode(\u001b[33m'\u001b[39;49;00m\u001b[33mMAINPROG\u001b[39;49;00m\u001b[33m'\u001b[39;49;00m)\n",
      "0168: \n",
      "0169:         \u001b[34mif\u001b[39;49;00m yymatch(\u001b[33m'\u001b[39;49;00m\u001b[33mVAR\u001b[39;49;00m\u001b[33m'\u001b[39;49;00m):\n",
      "0170:             v = yynewnode(\u001b[33m'\u001b[39;49;00m\u001b[33mVAR\u001b[39;49;00m\u001b[33m'\u001b[39;49;00m)\n",
      "0171:             r.append(v)\n",
      "0172:             yyadvance()\n",
      "0173:             v.extend(var_decl())\n",
      "0174:             yyaccept(\u001b[33m'\u001b[39;49;00m\u001b[33m;\u001b[39;49;00m\u001b[33m'\u001b[39;49;00m)\n",
      "0175: \n",
      "0176:         \u001b[34mwhile\u001b[39;49;00m \u001b[35mnot\u001b[39;49;00m yymatch(\u001b[33m'\u001b[39;49;00m\u001b[33mEND\u001b[39;49;00m\u001b[33m'\u001b[39;49;00m):\n",
      "0177:             r.append(stmt())\n",
      "0178: \n",
      "0179:         r.append(yynewnode(\u001b[33m'\u001b[39;49;00m\u001b[33mEND\u001b[39;49;00m\u001b[33m'\u001b[39;49;00m))\n",
      "0180: \n",
      "0181:         \u001b[34mreturn\u001b[39;49;00m r\n",
      "0182: \n",
      "0183:     \u001b[37m##\u001b[39;49;00m\n",
      "0184:     \u001b[37m##  stmt_block\u001b[39;49;00m\n",
      "0185:     \u001b[37m##    ->  '{' stmt+ '}'\u001b[39;49;00m\n",
      "0186:     \u001b[37m##     |  stmt\u001b[39;49;00m\n",
      "0187:     \u001b[37m##\u001b[39;49;00m\n",
      "0188:     \u001b[34mdef\u001b[39;49;00m \u001b[32mstmt_block\u001b[39;49;00m():\n",
      "0189:         \u001b[34mif\u001b[39;49;00m yymatch(\u001b[33m'\u001b[39;49;00m\u001b[33m{\u001b[39;49;00m\u001b[33m'\u001b[39;49;00m):\n",
      "0190:             yyadvance()\n",
      "0191:             r = yynewnode(\u001b[33m'\u001b[39;49;00m\u001b[33mBLOCK\u001b[39;49;00m\u001b[33m'\u001b[39;49;00m)\n",
      "0192:             \u001b[34mwhile\u001b[39;49;00m \u001b[35mnot\u001b[39;49;00m yymatch(\u001b[33m'\u001b[39;49;00m\u001b[33m}\u001b[39;49;00m\u001b[33m'\u001b[39;49;00m):\n",
      "0193:                 r.append(stmt())\n",
      "0194:             yyadvance()\n",
      "0195:             \u001b[34mreturn\u001b[39;49;00m r\n",
      "0196:         \u001b[34mreturn\u001b[39;49;00m stmt()\n",
      "0197: \n",
      "0198:     \u001b[37m##\u001b[39;49;00m\n",
      "0199:     \u001b[37m## stmt\u001b[39;49;00m\n",
      "0200:     \u001b[37m##\u001b[39;49;00m\n",
      "0201:     \u001b[34mdef\u001b[39;49;00m \u001b[32mstmt\u001b[39;49;00m():\n",
      "0202: \n",
      "0203:         \u001b[37m##\u001b[39;49;00m\n",
      "0204:         \u001b[37m##  stmt\u001b[39;49;00m\n",
      "0205:         \u001b[37m##    ->  WRITE [STR ':'] lexpr ';'\u001b[39;49;00m\n",
      "0206:         \u001b[37m##\u001b[39;49;00m\n",
      "0207:         \u001b[34mif\u001b[39;49;00m yymatch(\u001b[33m'\u001b[39;49;00m\u001b[33mWRITE\u001b[39;49;00m\u001b[33m'\u001b[39;49;00m):\n",
      "0208:             r = yynewnode(\u001b[33m'\u001b[39;49;00m\u001b[33mWRITE\u001b[39;49;00m\u001b[33m'\u001b[39;49;00m)\n",
      "0209:             yyadvance()\n",
      "0210:             \u001b[34mif\u001b[39;49;00m yymatch(\u001b[33m'\u001b[39;49;00m\u001b[33mSTR\u001b[39;49;00m\u001b[33m'\u001b[39;49;00m):\n",
      "0211:                 r.append(yynewnode(\u001b[33m'\u001b[39;49;00m\u001b[33mSTR\u001b[39;49;00m\u001b[33m'\u001b[39;49;00m, datatype=\u001b[33m'\u001b[39;49;00m\u001b[33mstr\u001b[39;49;00m\u001b[33m'\u001b[39;49;00m, value=yytext()))\n",
      "0212:                 yyadvance()\n",
      "0213:                 yyaccept(\u001b[33m'\u001b[39;49;00m\u001b[33m:\u001b[39;49;00m\u001b[33m'\u001b[39;49;00m)\n",
      "0214:             r.append(lexpr())\n",
      "0215:             yyaccept(\u001b[33m'\u001b[39;49;00m\u001b[33m;\u001b[39;49;00m\u001b[33m'\u001b[39;49;00m)\n",
      "0216:             \u001b[34mreturn\u001b[39;49;00m r\n",
      "0217: \n",
      "0218:         \u001b[37m##\u001b[39;49;00m\n",
      "0219:         \u001b[37m##  stmt\u001b[39;49;00m\n",
      "0220:         \u001b[37m##     ->  WHEN  '(' lexpr ')' DO stmt_block\u001b[39;49;00m\n",
      "0221:         \u001b[37m##\u001b[39;49;00m\n",
      "0222:         \u001b[34mif\u001b[39;49;00m yymatch(\u001b[33m'\u001b[39;49;00m\u001b[33mWHEN\u001b[39;49;00m\u001b[33m'\u001b[39;49;00m):\n",
      "0223:             r = yynewnode(\u001b[33m'\u001b[39;49;00m\u001b[33mWHEN\u001b[39;49;00m\u001b[33m'\u001b[39;49;00m)\n",
      "0224:             yyadvance()\n",
      "0225:             yyaccept(\u001b[33m'\u001b[39;49;00m\u001b[33m(\u001b[39;49;00m\u001b[33m'\u001b[39;49;00m)\n",
      "0226:             r.append(lexpr())\n",
      "0227:             yyaccept(\u001b[33m'\u001b[39;49;00m\u001b[33m)\u001b[39;49;00m\u001b[33m'\u001b[39;49;00m)\n",
      "0228:             yyaccept(\u001b[33m'\u001b[39;49;00m\u001b[33mDO\u001b[39;49;00m\u001b[33m'\u001b[39;49;00m)\n",
      "0229:             r.append(stmt_block())\n",
      "0230:             \u001b[34mreturn\u001b[39;49;00m r\n",
      "0231: \n",
      "0232:         \u001b[37m##\u001b[39;49;00m\n",
      "0233:         \u001b[37m##  stmt\u001b[39;49;00m\n",
      "0234:         \u001b[37m##     ->  IF    '(' lexpr ')' DO stmt_block  ELSE  stmt_block\u001b[39;49;00m\n",
      "0235:         \u001b[37m##\u001b[39;49;00m\n",
      "0236:         \u001b[34mif\u001b[39;49;00m yymatch(\u001b[33m'\u001b[39;49;00m\u001b[33mIF\u001b[39;49;00m\u001b[33m'\u001b[39;49;00m):\n",
      "0237:             r = yynewnode(\u001b[33m'\u001b[39;49;00m\u001b[33mIF\u001b[39;49;00m\u001b[33m'\u001b[39;49;00m)\n",
      "0238:             yyadvance()\n",
      "0239:             yyaccept(\u001b[33m'\u001b[39;49;00m\u001b[33m(\u001b[39;49;00m\u001b[33m'\u001b[39;49;00m)\n",
      "0240:             r.append(lexpr())\n",
      "0241:             yyaccept(\u001b[33m'\u001b[39;49;00m\u001b[33m)\u001b[39;49;00m\u001b[33m'\u001b[39;49;00m)\n",
      "0242:             yyaccept(\u001b[33m'\u001b[39;49;00m\u001b[33mDO\u001b[39;49;00m\u001b[33m'\u001b[39;49;00m)\n",
      "0243:             r.append(stmt_block())\n",
      "0244:             yyaccept(\u001b[33m'\u001b[39;49;00m\u001b[33mELSE\u001b[39;49;00m\u001b[33m'\u001b[39;49;00m)\n",
      "0245:             r.append(stmt_block())\n",
      "0246:             \u001b[34mreturn\u001b[39;49;00m r\n",
      "0247: \n",
      "0248:         \u001b[37m##\u001b[39;49;00m\n",
      "0249:         \u001b[37m##  stmt\u001b[39;49;00m\n",
      "0250:         \u001b[37m##     ->  WHILE '(' lexpr ')' DO stmt_block\u001b[39;49;00m\n",
      "0251:         \u001b[37m##\u001b[39;49;00m\n",
      "0252:         \u001b[34mif\u001b[39;49;00m yymatch(\u001b[33m'\u001b[39;49;00m\u001b[33mWHILE\u001b[39;49;00m\u001b[33m'\u001b[39;49;00m):\n",
      "0253:             r = yynewnode(\u001b[33m'\u001b[39;49;00m\u001b[33mWHILE\u001b[39;49;00m\u001b[33m'\u001b[39;49;00m)\n",
      "0254:             yyadvance()\n",
      "0255:             yyaccept(\u001b[33m'\u001b[39;49;00m\u001b[33m(\u001b[39;49;00m\u001b[33m'\u001b[39;49;00m)\n",
      "0256:             r.append(lexpr())\n",
      "0257:             yyaccept(\u001b[33m'\u001b[39;49;00m\u001b[33m)\u001b[39;49;00m\u001b[33m'\u001b[39;49;00m)\n",
      "0258:             yyaccept(\u001b[33m'\u001b[39;49;00m\u001b[33mDO\u001b[39;49;00m\u001b[33m'\u001b[39;49;00m)\n",
      "0259:             r.append(stmt_block())\n",
      "0260:             \u001b[34mreturn\u001b[39;49;00m r\n",
      "0261: \n",
      "0262:         \u001b[37m##\u001b[39;49;00m\n",
      "0263:         \u001b[37m##  stmt\u001b[39;49;00m\n",
      "0264:         \u001b[37m##     ->  RETURN lexpr ';'\u001b[39;49;00m\n",
      "0265:         \u001b[37m##\u001b[39;49;00m\n",
      "0266:         \u001b[34mif\u001b[39;49;00m yymatch(\u001b[33m'\u001b[39;49;00m\u001b[33mRETURN\u001b[39;49;00m\u001b[33m'\u001b[39;49;00m):\n",
      "0267:             r = yynewnode( \u001b[33m'\u001b[39;49;00m\u001b[33mRETURN\u001b[39;49;00m\u001b[33m'\u001b[39;49;00m,\n",
      "0268:                            datatype=SYNTAXTREE.get(\u001b[33m'\u001b[39;49;00m\u001b[33mdatatype\u001b[39;49;00m\u001b[33m'\u001b[39;49;00m),\n",
      "0269:                            scope=SYNTAXTREE.get(\u001b[33m'\u001b[39;49;00m\u001b[33mscope\u001b[39;49;00m\u001b[33m'\u001b[39;49;00m),\n",
      "0270:                            value=\u001b[33m'\u001b[39;49;00m\u001b[33m__return__\u001b[39;49;00m\u001b[33m'\u001b[39;49;00m)\n",
      "0271:             yyadvance()\n",
      "0272:             r.append(lexpr())\n",
      "0273:             yyaccept(\u001b[33m'\u001b[39;49;00m\u001b[33m;\u001b[39;49;00m\u001b[33m'\u001b[39;49;00m)\n",
      "0274:             \u001b[34mreturn\u001b[39;49;00m r\n",
      "0275: \n",
      "0276:         \u001b[37m##\u001b[39;49;00m\n",
      "0277:         \u001b[37m##  stmt\u001b[39;49;00m\n",
      "0278:         \u001b[37m##     ->  ID ':=' lexpr ';'\u001b[39;49;00m\n",
      "0279:         \u001b[37m##\u001b[39;49;00m\n",
      "0280: \n",
      "0281:         \u001b[34mif\u001b[39;49;00m yymatch(\u001b[33m'\u001b[39;49;00m\u001b[33mID\u001b[39;49;00m\u001b[33m'\u001b[39;49;00m) \u001b[35mand\u001b[39;49;00m yymatch(\u001b[33m'\u001b[39;49;00m\u001b[33m:=\u001b[39;49;00m\u001b[33m'\u001b[39;49;00m, offset=\u001b[34m1\u001b[39;49;00m):\n",
      "0282:             r = yynewnode(\u001b[33m'\u001b[39;49;00m\u001b[33mASSIGN\u001b[39;49;00m\u001b[33m'\u001b[39;49;00m, value=yytext(), scope=SYNTAXTREE.get(\u001b[33m'\u001b[39;49;00m\u001b[33mscope\u001b[39;49;00m\u001b[33m'\u001b[39;49;00m))\n",
      "0283:             yyadvance(\u001b[34m2\u001b[39;49;00m)\n",
      "0284:             r.append(lexpr())\n",
      "0285:             yyaccept(\u001b[33m'\u001b[39;49;00m\u001b[33m;\u001b[39;49;00m\u001b[33m'\u001b[39;49;00m)\n",
      "0286:             \u001b[34mreturn\u001b[39;49;00m r\n",
      "0287: \n",
      "0288:         \u001b[37m##\u001b[39;49;00m\n",
      "0289:         \u001b[37m##  stmt\u001b[39;49;00m\n",
      "0290:         \u001b[37m##     ->  UNLESS  '(' lexpr ')' DO stmt_block\u001b[39;49;00m\n",
      "0291:         \u001b[37m##\u001b[39;49;00m\n",
      "0292: \n",
      "0293: \n",
      "0294:         \u001b[37m##\u001b[39;49;00m\n",
      "0295:         \u001b[37m##  stmt\u001b[39;49;00m\n",
      "0296:         \u001b[37m##     ->  UNTIL '(' lexpr ')' DO stmt_block\u001b[39;49;00m\n",
      "0297:         \u001b[37m##\u001b[39;49;00m\n",
      "0298: \n",
      "0299: \n",
      "0300:         \u001b[37m##\u001b[39;49;00m\n",
      "0301:         \u001b[37m##  stmt\u001b[39;49;00m\n",
      "0302:         \u001b[37m##     ->  LOOP stmt_block\u001b[39;49;00m\n",
      "0303:         \u001b[37m##\u001b[39;49;00m\n",
      "0304: \n",
      "0305: \n",
      "0306:         \u001b[37m##\u001b[39;49;00m\n",
      "0307:         \u001b[37m##  stmt\u001b[39;49;00m\n",
      "0308:         \u001b[37m##     ->  DO stmt_block WHILE '(' lexpr ')'\u001b[39;49;00m\n",
      "0309:         \u001b[37m##     ->  DO stmt_block UNTIL '(' lexpr ')'\u001b[39;49;00m\n",
      "0310:         \u001b[37m##\u001b[39;49;00m\n",
      "0311: \n",
      "0312: \n",
      "0313:         \u001b[37m##\u001b[39;49;00m\n",
      "0314:         \u001b[37m##  stmt\u001b[39;49;00m\n",
      "0315:         \u001b[37m##     ->  REPEAT NUM ':' stmt_block\u001b[39;49;00m\n",
      "0316:         \u001b[37m##\u001b[39;49;00m\n",
      "0317: \n",
      "0318:         \u001b[37m# <inserte su codigo aqui > #\u001b[39;49;00m\n",
      "0319: \n",
      "0320: \n",
      "0321:         \u001b[37m##\u001b[39;49;00m\n",
      "0322:         \u001b[37m##  stmt\u001b[39;49;00m\n",
      "0323:         \u001b[37m##     ->  FOR ID ':=' lexpr, lexpr, lexpr DO stmt_block\u001b[39;49;00m\n",
      "0324:         \u001b[37m##\u001b[39;49;00m\n",
      "0325: \n",
      "0326: \n",
      "0327:         \u001b[37m##\u001b[39;49;00m\n",
      "0328:         \u001b[37m##  stmt\u001b[39;49;00m\n",
      "0329:         \u001b[37m##     ->  END ';'\u001b[39;49;00m\n",
      "0330:         \u001b[37m##\u001b[39;49;00m\n",
      "0331: \n",
      "0332: \n",
      "0333:         \u001b[37m##\u001b[39;49;00m\n",
      "0334:         \u001b[37m##  stmt\u001b[39;49;00m\n",
      "0335:         \u001b[37m##     ->  NEXT ';'\u001b[39;49;00m\n",
      "0336:         \u001b[37m##\u001b[39;49;00m\n",
      "0337: \n",
      "0338: \n",
      "0339:         \u001b[37m##\u001b[39;49;00m\n",
      "0340:         \u001b[37m##  stmt\u001b[39;49;00m\n",
      "0341:         \u001b[37m##     ->  BREAK ';'\u001b[39;49;00m\n",
      "0342:         \u001b[37m##\u001b[39;49;00m\n",
      "0343: \n",
      "0344: \n",
      "0345:         \u001b[37m##\u001b[39;49;00m\n",
      "0346:         \u001b[37m##  stmt\u001b[39;49;00m\n",
      "0347:         \u001b[37m##     ->  ID '+=' lexpr ';'\u001b[39;49;00m\n",
      "0348:         \u001b[37m##\u001b[39;49;00m\n",
      "0349: \n",
      "0350: \n",
      "0351:         \u001b[37m##\u001b[39;49;00m\n",
      "0352:         \u001b[37m##  stmt\u001b[39;49;00m\n",
      "0353:         \u001b[37m##     ->  ID '-=' lexpr ';'\u001b[39;49;00m\n",
      "0354:         \u001b[37m##\u001b[39;49;00m\n",
      "0355: \n",
      "0356: \n",
      "0357:         \u001b[37m##\u001b[39;49;00m\n",
      "0358:         \u001b[37m##  stmt\u001b[39;49;00m\n",
      "0359:         \u001b[37m##     ->  ID '*=' lexpr ';'\u001b[39;49;00m\n",
      "0360:         \u001b[37m##\u001b[39;49;00m\n",
      "0361: \n",
      "0362: \n",
      "0363:         \u001b[37m##\u001b[39;49;00m\n",
      "0364:         \u001b[37m##  stmt\u001b[39;49;00m\n",
      "0365:         \u001b[37m##     ->  ID '/=' lexpr ';'\u001b[39;49;00m\n",
      "0366:         \u001b[37m##\u001b[39;49;00m\n",
      "0367: \n",
      "0368: \n",
      "0369:         \u001b[37m##\u001b[39;49;00m\n",
      "0370:         \u001b[37m##  stmt\u001b[39;49;00m\n",
      "0371:         \u001b[37m##     ->  ID '%=' lexpr ';'\u001b[39;49;00m\n",
      "0372:         \u001b[37m##\u001b[39;49;00m\n",
      "0373: \n",
      "0374: \n",
      "0375:         \u001b[37m##\u001b[39;49;00m\n",
      "0376:         \u001b[37m##  stmt\u001b[39;49;00m\n",
      "0377:         \u001b[37m##     ->  ID ++ ';'\u001b[39;49;00m\n",
      "0378:         \u001b[37m##\u001b[39;49;00m\n",
      "0379: \n",
      "0380: \n",
      "0381:         \u001b[37m##\u001b[39;49;00m\n",
      "0382:         \u001b[37m##  stmt\u001b[39;49;00m\n",
      "0383:         \u001b[37m##     ->  ++ ID ';'\u001b[39;49;00m\n",
      "0384:         \u001b[37m##\u001b[39;49;00m\n",
      "0385: \n",
      "0386: \n",
      "0387:         \u001b[37m##\u001b[39;49;00m\n",
      "0388:         \u001b[37m##  stmt\u001b[39;49;00m\n",
      "0389:         \u001b[37m##     ->  ID -- ';'\u001b[39;49;00m\n",
      "0390:         \u001b[37m##\u001b[39;49;00m\n",
      "0391: \n",
      "0392: \n",
      "0393:         \u001b[37m##\u001b[39;49;00m\n",
      "0394:         \u001b[37m##  stmt\u001b[39;49;00m\n",
      "0395:         \u001b[37m##     ->  -- ID ';'\u001b[39;49;00m\n",
      "0396:         \u001b[37m##\u001b[39;49;00m\n",
      "0397: \n",
      "0398: \n",
      "0399:         msg = \u001b[33m'\u001b[39;49;00m\u001b[33m{}:Syntax error at line {}: \u001b[39;49;00m\u001b[33m'\u001b[39;49;00m.format(filename, yylineno())\n",
      "0400:         msg += \u001b[33m'\u001b[39;49;00m\u001b[33mUnknown token <{}>\u001b[39;49;00m\u001b[33m'\u001b[39;49;00m.format(yytoken())\n",
      "0401:         \u001b[34mprint\u001b[39;49;00m(msg)\n",
      "0402:         sys.exit()\n",
      "0403: \n",
      "0404:     \u001b[37m# -------------------------------------------------------------------------\u001b[39;49;00m\n",
      "0405:     \u001b[37m#\u001b[39;49;00m\n",
      "0406:     \u001b[37m#  lexpr\u001b[39;49;00m\n",
      "0407:     \u001b[37m#    ->  nexpr [[AND nexpr]* | [OR nexpr]*]\u001b[39;49;00m\n",
      "0408:     \u001b[37m#\u001b[39;49;00m\n",
      "0409:     \u001b[34mdef\u001b[39;49;00m \u001b[32mlexpr\u001b[39;49;00m():\n",
      "0410:         r = nexpr()\n",
      "0411:         \u001b[37m#\u001b[39;49;00m\n",
      "0412:         \u001b[37m# escriba su codigo aqui\u001b[39;49;00m\n",
      "0413:         \u001b[37m#\u001b[39;49;00m\n",
      "0414:         \u001b[34mreturn\u001b[39;49;00m r\n",
      "0415: \n",
      "0416: \n",
      "0417:     \u001b[37m# -------------------------------------------------------------------------\u001b[39;49;00m\n",
      "0418:     \u001b[37m#\u001b[39;49;00m\n",
      "0419:     \u001b[37m#  nexpr\u001b[39;49;00m\n",
      "0420:     \u001b[37m#    ->  NOT '(' lexpr ')'\u001b[39;49;00m\n",
      "0421:     \u001b[37m#     |  rexpr\u001b[39;49;00m\n",
      "0422:     \u001b[37m#\u001b[39;49;00m\n",
      "0423:     \u001b[34mdef\u001b[39;49;00m \u001b[32mnexpr\u001b[39;49;00m():\n",
      "0424: \n",
      "0425: \n",
      "0426:         \u001b[34mreturn\u001b[39;49;00m rexpr()\n",
      "0427: \n",
      "0428: \n",
      "0429: \n",
      "0430:     \u001b[37m#  rexpr\u001b[39;49;00m\n",
      "0431:     \u001b[37m#    ->  simple_expr '<'  simple_expr\u001b[39;49;00m\n",
      "0432:     \u001b[37m#     |  simple_expr '==' simple_expr\u001b[39;49;00m\n",
      "0433:     \u001b[37m#     |  simple_expr '<=' simple_expr\u001b[39;49;00m\n",
      "0434:     \u001b[37m#     |  simple_expr '>'  simple_expr\u001b[39;49;00m\n",
      "0435:     \u001b[37m#     |  simple_expr '>=' simple_expr\u001b[39;49;00m\n",
      "0436:     \u001b[37m#     |  simple_expr '!=' simple_expr\u001b[39;49;00m\n",
      "0437:     \u001b[37m#\u001b[39;49;00m\n",
      "0438:     \u001b[34mdef\u001b[39;49;00m \u001b[32mrexpr\u001b[39;49;00m():\n",
      "0439: \n",
      "0440:         r = simple_expr()\n",
      "0441: \n",
      "0442:         \u001b[34mif\u001b[39;49;00m yymatch(\u001b[33m'\u001b[39;49;00m\u001b[33m<\u001b[39;49;00m\u001b[33m'\u001b[39;49;00m):\n",
      "0443:             m = yynewnode(yytext(),  datatype=\u001b[33m'\u001b[39;49;00m\u001b[33mbool\u001b[39;49;00m\u001b[33m'\u001b[39;49;00m)\n",
      "0444:             yyadvance()\n",
      "0445:             m.append(r)\n",
      "0446:             m.append(simple_expr())\n",
      "0447:             \u001b[34mreturn\u001b[39;49;00m m\n",
      "0448: \n",
      "0449:         \u001b[34mif\u001b[39;49;00m yymatch(\u001b[33m'\u001b[39;49;00m\u001b[33m<=\u001b[39;49;00m\u001b[33m'\u001b[39;49;00m):\n",
      "0450:             m = yynewnode(yytext(),  datatype=\u001b[33m'\u001b[39;49;00m\u001b[33mbool\u001b[39;49;00m\u001b[33m'\u001b[39;49;00m)\n",
      "0451:             yyadvance()\n",
      "0452:             m.append(r)\n",
      "0453:             m.append(simple_expr())\n",
      "0454:             \u001b[34mreturn\u001b[39;49;00m m\n",
      "0455: \n",
      "0456: \n",
      "0457:         \u001b[34mreturn\u001b[39;49;00m r\n",
      "0458: \n",
      "0459:     \u001b[37m##\u001b[39;49;00m\n",
      "0460:     \u001b[37m##  simple_expr\u001b[39;49;00m\n",
      "0461:     \u001b[37m##    ->  term [('+'|'-') term]*\u001b[39;49;00m\n",
      "0462:     \u001b[37m##\u001b[39;49;00m\n",
      "0463:     \u001b[34mdef\u001b[39;49;00m \u001b[32msimple_expr\u001b[39;49;00m():\n",
      "0464:         r = term()\n",
      "0465: \n",
      "0466: \n",
      "0467:         \u001b[34mwhile\u001b[39;49;00m yymatch(\u001b[33m'\u001b[39;49;00m\u001b[33m+\u001b[39;49;00m\u001b[33m'\u001b[39;49;00m):\n",
      "0468:             n = yynewnode(yytext(), datatype=\u001b[33m'\u001b[39;49;00m\u001b[33mnum\u001b[39;49;00m\u001b[33m'\u001b[39;49;00m)\n",
      "0469:             yyadvance()\n",
      "0470:             n.append(r)\n",
      "0471:             n.append(term())\n",
      "0472:             r = n\n",
      "0473: \n",
      "0474:         \u001b[34mreturn\u001b[39;49;00m r\n",
      "0475: \n",
      "0476: \n",
      "0477:     \u001b[37m##\u001b[39;49;00m\n",
      "0478:     \u001b[37m##  term\u001b[39;49;00m\n",
      "0479:     \u001b[37m##    ->  factor [ ('*'|'/') factor]*\u001b[39;49;00m\n",
      "0480:     \u001b[37m##\u001b[39;49;00m\n",
      "0481:     \u001b[34mdef\u001b[39;49;00m \u001b[32mterm\u001b[39;49;00m():\n",
      "0482: \n",
      "0483:         r = factor()\n",
      "0484: \n",
      "0485: \n",
      "0486:         \u001b[34mwhile\u001b[39;49;00m yymatch(\u001b[33m'\u001b[39;49;00m\u001b[33m*\u001b[39;49;00m\u001b[33m'\u001b[39;49;00m):\n",
      "0487:             n = yynewnode(yytext(), datatype=\u001b[33m'\u001b[39;49;00m\u001b[33mnum\u001b[39;49;00m\u001b[33m'\u001b[39;49;00m)\n",
      "0488:             yyadvance()\n",
      "0489:             n.append(r)\n",
      "0490:             n.append(factor())\n",
      "0491:             r = n\n",
      "0492:         \u001b[34mreturn\u001b[39;49;00m r\n",
      "0493: \n",
      "0494: \n",
      "0495:     \u001b[37m##\u001b[39;49;00m\n",
      "0496:     \u001b[37m##  factor\u001b[39;49;00m\n",
      "0497:     \u001b[37m##    ->  ['+'|'-']? NUM\u001b[39;49;00m\n",
      "0498:     \u001b[37m##     |  ['+'|'-']? ID\u001b[39;49;00m\n",
      "0499:     \u001b[37m##     |  ['+'|'-']?  '(' lexpr ')'\u001b[39;49;00m\n",
      "0500:     \u001b[37m##     |  ['+'|'-']? UFID '(' [lexpr [',' lexpr]*] ')'\u001b[39;49;00m\n",
      "0501:     \u001b[37m##     |  ['+'|'-']? BFID '(' [lexpr [',' lexpr]*] ')'\u001b[39;49;00m\n",
      "0502:     \u001b[37m##     |  ++ID\u001b[39;49;00m\n",
      "0503:     \u001b[37m##     |  --ID\u001b[39;49;00m\n",
      "0504:     \u001b[37m##     |  ID++\u001b[39;49;00m\n",
      "0505:     \u001b[37m##     |  ID--\u001b[39;49;00m\n",
      "0506:     \u001b[37m##     |  BOOL\u001b[39;49;00m\n",
      "0507:     \u001b[37m##\u001b[39;49;00m\n",
      "0508: \n",
      "0509:     \u001b[34mdef\u001b[39;49;00m \u001b[32mfactor\u001b[39;49;00m():\n",
      "0510: \n",
      "0511:         \u001b[34mif\u001b[39;49;00m yymatch(\u001b[33m'\u001b[39;49;00m\u001b[33mNUM\u001b[39;49;00m\u001b[33m'\u001b[39;49;00m):\n",
      "0512:             value = yytext()\n",
      "0513:             \u001b[34mif\u001b[39;49;00m value.isdigit():\n",
      "0514:                 value = \u001b[36mint\u001b[39;49;00m(value)\n",
      "0515:             \u001b[34melse\u001b[39;49;00m:\n",
      "0516:                 value = \u001b[36mfloat\u001b[39;49;00m(value)\n",
      "0517:             r = yynewnode(\u001b[33m'\u001b[39;49;00m\u001b[33mNUM\u001b[39;49;00m\u001b[33m'\u001b[39;49;00m, datatype=\u001b[33m'\u001b[39;49;00m\u001b[33mnum\u001b[39;49;00m\u001b[33m'\u001b[39;49;00m, value=value)\n",
      "0518:             yyadvance()\n",
      "0519:             \u001b[34mreturn\u001b[39;49;00m r\n",
      "0520: \n",
      "0521: \n",
      "0522:         \u001b[34mif\u001b[39;49;00m yymatch(\u001b[33m'\u001b[39;49;00m\u001b[33mID\u001b[39;49;00m\u001b[33m'\u001b[39;49;00m):\n",
      "0523:             r = yynewnode(\u001b[33m'\u001b[39;49;00m\u001b[33mID\u001b[39;49;00m\u001b[33m'\u001b[39;49;00m, value=yytext(), scope=SYNTAXTREE.get(\u001b[33m'\u001b[39;49;00m\u001b[33mscope\u001b[39;49;00m\u001b[33m'\u001b[39;49;00m))\n",
      "0524:             yyadvance()\n",
      "0525:             \u001b[34mreturn\u001b[39;49;00m r\n",
      "0526: \n",
      "0527:         \u001b[34mif\u001b[39;49;00m yymatch(\u001b[33m'\u001b[39;49;00m\u001b[33m(\u001b[39;49;00m\u001b[33m'\u001b[39;49;00m):\n",
      "0528:             yyadvance()\n",
      "0529:             r = lexpr()\n",
      "0530:             yyaccept(\u001b[33m'\u001b[39;49;00m\u001b[33m)\u001b[39;49;00m\u001b[33m'\u001b[39;49;00m)\n",
      "0531:             \u001b[34mreturn\u001b[39;49;00m r\n",
      "0532: \n",
      "0533: \n",
      "0534:         \u001b[34mif\u001b[39;49;00m yymatch(\u001b[33m'\u001b[39;49;00m\u001b[33mUFID\u001b[39;49;00m\u001b[33m'\u001b[39;49;00m):\n",
      "0535:             r = yynewnode(\u001b[33m'\u001b[39;49;00m\u001b[33mUFCALL\u001b[39;49;00m\u001b[33m'\u001b[39;49;00m, value=yytext())\n",
      "0536:             yyadvance()\n",
      "0537:             yyaccept(\u001b[33m'\u001b[39;49;00m\u001b[33m(\u001b[39;49;00m\u001b[33m'\u001b[39;49;00m)\n",
      "0538:             \u001b[34mwhile\u001b[39;49;00m \u001b[35mnot\u001b[39;49;00m yymatch(\u001b[33m'\u001b[39;49;00m\u001b[33m)\u001b[39;49;00m\u001b[33m'\u001b[39;49;00m):\n",
      "0539:                 r.append(lexpr())\n",
      "0540:                 \u001b[34mif\u001b[39;49;00m yymatch(\u001b[33m'\u001b[39;49;00m\u001b[33m,\u001b[39;49;00m\u001b[33m'\u001b[39;49;00m):\n",
      "0541:                     yyadvance()\n",
      "0542:             yyaccept(\u001b[33m'\u001b[39;49;00m\u001b[33m)\u001b[39;49;00m\u001b[33m'\u001b[39;49;00m)\n",
      "0543:             \u001b[34mreturn\u001b[39;49;00m r\n",
      "0544: \n",
      "0545: \n",
      "0546:         \u001b[34mif\u001b[39;49;00m yymatch(\u001b[33m'\u001b[39;49;00m\u001b[33mBFID\u001b[39;49;00m\u001b[33m'\u001b[39;49;00m):\n",
      "0547:             r = yynewnode(\u001b[33m'\u001b[39;49;00m\u001b[33mBFCALL\u001b[39;49;00m\u001b[33m'\u001b[39;49;00m, value=yytext())\n",
      "0548:             yyadvance()\n",
      "0549:             yyaccept(\u001b[33m'\u001b[39;49;00m\u001b[33m(\u001b[39;49;00m\u001b[33m'\u001b[39;49;00m)\n",
      "0550:             \u001b[34mwhile\u001b[39;49;00m \u001b[35mnot\u001b[39;49;00m yymatch(\u001b[33m'\u001b[39;49;00m\u001b[33m)\u001b[39;49;00m\u001b[33m'\u001b[39;49;00m):\n",
      "0551:                 r.append(lexpr())\n",
      "0552:                 \u001b[34mif\u001b[39;49;00m yymatch(\u001b[33m'\u001b[39;49;00m\u001b[33m,\u001b[39;49;00m\u001b[33m'\u001b[39;49;00m):\n",
      "0553:                     yyadvance()\n",
      "0554:             yyaccept(\u001b[33m'\u001b[39;49;00m\u001b[33m)\u001b[39;49;00m\u001b[33m'\u001b[39;49;00m)\n",
      "0555:             \u001b[34mreturn\u001b[39;49;00m r\n",
      "0556: \n",
      "0557: \n",
      "0558:         \u001b[34mif\u001b[39;49;00m yymatch(\u001b[33m'\u001b[39;49;00m\u001b[33mBOOL\u001b[39;49;00m\u001b[33m'\u001b[39;49;00m):\n",
      "0559:             value = \u001b[36mTrue\u001b[39;49;00m \u001b[34mif\u001b[39;49;00m yytext() == \u001b[33m'\u001b[39;49;00m\u001b[33mtrue\u001b[39;49;00m\u001b[33m'\u001b[39;49;00m \u001b[34melse\u001b[39;49;00m \u001b[36mFalse\u001b[39;49;00m\n",
      "0560:             r = yynewnode(\u001b[33m'\u001b[39;49;00m\u001b[33mBOOL\u001b[39;49;00m\u001b[33m'\u001b[39;49;00m, datatype=\u001b[33m'\u001b[39;49;00m\u001b[33mbool\u001b[39;49;00m\u001b[33m'\u001b[39;49;00m, value=value)\n",
      "0561:             yyadvance()\n",
      "0562:             \u001b[34mreturn\u001b[39;49;00m r\n",
      "0563: \n",
      "0564:         msg = \u001b[33m'\u001b[39;49;00m\u001b[33m{}:Syntax error at line {}: \u001b[39;49;00m\u001b[33m'\u001b[39;49;00m.format(filename, yylineno())\n",
      "0565:         msg += \u001b[33m'\u001b[39;49;00m\u001b[33mUnexpected symbol <{}>\u001b[39;49;00m\u001b[33m'\u001b[39;49;00m.format(yytext())\n",
      "0566:         \u001b[34mprint\u001b[39;49;00m(msg)\n",
      "0567:         sys.exit()\n",
      "0568: \n",
      "0569:     \u001b[37m#\u001b[39;49;00m\n",
      "0570:     \u001b[37m# rutina principal\u001b[39;49;00m\n",
      "0571:     \u001b[37m#   inicia el reconocimiento llamando la funcion\u001b[39;49;00m\n",
      "0572:     \u001b[37m#   correspondiente al simbolo inicial de la gramatica\u001b[39;49;00m\n",
      "0573:     \u001b[37m#\u001b[39;49;00m\n",
      "0574: \n",
      "0575:     \u001b[37m#\u001b[39;49;00m\n",
      "0576:     \u001b[37m# 'index'\u001b[39;49;00m\n",
      "0577:     \u001b[37m#    es usado para recorrer secuencialmente la tabla de tokens\u001b[39;49;00m\n",
      "0578:     \u001b[37m#\u001b[39;49;00m\n",
      "0579:     \u001b[37m# 'scope'\u001b[39;49;00m\n",
      "0580:     \u001b[37m#   es el indice que indica la region que correspondiente\u001b[39;49;00m\n",
      "0581:     \u001b[37m#    a una funcion (porcion de codio en que es visible una\u001b[39;49;00m\n",
      "0582:     \u001b[37m#    variable)\u001b[39;49;00m\n",
      "0583:     \u001b[37m#\u001b[39;49;00m\n",
      "0584:     \u001b[37m# 'datatype'\u001b[39;49;00m\n",
      "0585:     \u001b[37m#    almacena el tipo de dato que retorna la funcion que\u001b[39;49;00m\n",
      "0586:     \u001b[37m#    esta siendo procesada\u001b[39;49;00m\n",
      "0587:     \u001b[37m#\u001b[39;49;00m\n",
      "0588:     \u001b[37m# 'repeat'\u001b[39;49;00m\n",
      "0589:     \u001b[37m#    es un contador usado para generar variables unicas\u001b[39;49;00m\n",
      "0590:     \u001b[37m#    que son usadas en los comados  'repeat'\u001b[39;49;00m\n",
      "0591:     \u001b[37m#\u001b[39;49;00m\n",
      "0592:     TOKENTABLE.set(\u001b[33m'\u001b[39;49;00m\u001b[33mindex\u001b[39;49;00m\u001b[33m'\u001b[39;49;00m, \u001b[34m0\u001b[39;49;00m)\n",
      "0593:     SYNTAXTREE.set(\u001b[33m'\u001b[39;49;00m\u001b[33mscope\u001b[39;49;00m\u001b[33m'\u001b[39;49;00m, \u001b[34m0\u001b[39;49;00m)\n",
      "0594:     SYNTAXTREE.set(\u001b[33m'\u001b[39;49;00m\u001b[33mdatatype\u001b[39;49;00m\u001b[33m'\u001b[39;49;00m, \u001b[36mNone\u001b[39;49;00m)\n",
      "0595:     SYNTAXTREE.set(\u001b[33m'\u001b[39;49;00m\u001b[33mrepeat\u001b[39;49;00m\u001b[33m'\u001b[39;49;00m, -\u001b[34m1\u001b[39;49;00m)\n",
      "0596: \n",
      "0597:     \u001b[37m# se realiza el proceso de analisis sintactico\u001b[39;49;00m\n",
      "0598:     \u001b[37m# del codigo fuente\u001b[39;49;00m\n",
      "0599:     program()\n",
      "0600: \n",
      "0601:     \u001b[34mdel\u001b[39;49;00m TOKENTABLE.attrib[\u001b[33m'\u001b[39;49;00m\u001b[33mindex\u001b[39;49;00m\u001b[33m'\u001b[39;49;00m]\n",
      "0602:     \u001b[34mdel\u001b[39;49;00m SYNTAXTREE.attrib[\u001b[33m'\u001b[39;49;00m\u001b[33mscope\u001b[39;49;00m\u001b[33m'\u001b[39;49;00m]\n",
      "0603:     \u001b[34mdel\u001b[39;49;00m SYNTAXTREE.attrib[\u001b[33m'\u001b[39;49;00m\u001b[33mdatatype\u001b[39;49;00m\u001b[33m'\u001b[39;49;00m]\n",
      "0604:     \u001b[34mdel\u001b[39;49;00m SYNTAXTREE.attrib[\u001b[33m'\u001b[39;49;00m\u001b[33mrepeat\u001b[39;49;00m\u001b[33m'\u001b[39;49;00m]\n",
      "0605: \n",
      "0606: \n",
      "0607:     \u001b[37m#   en este punto se ha construido el arbol sintactico\u001b[39;49;00m\n",
      "0608:     \u001b[37m#   y se procede a almacenar el resultado en un archivo\u001b[39;49;00m\n",
      "0609:     \u001b[37m#   en disco\u001b[39;49;00m\n",
      "0610:     \u001b[34mwith\u001b[39;49;00m \u001b[36mopen\u001b[39;49;00m(filename + \u001b[33m'\u001b[39;49;00m\u001b[33m.dataTree\u001b[39;49;00m\u001b[33m'\u001b[39;49;00m, \u001b[33m'\u001b[39;49;00m\u001b[33mwb\u001b[39;49;00m\u001b[33m'\u001b[39;49;00m) \u001b[34mas\u001b[39;49;00m f:\n",
      "0611:         pickle.dump(DATA, f)\n",
      "0612: \n",
      "0613:     \u001b[34mif\u001b[39;49;00m quiet == \u001b[36mFalse\u001b[39;49;00m:\n",
      "0614:         dt.printTree(SYNTAXTREE)\n",
      "0615: \n",
      "0616: \n",
      "0617: \u001b[34mif\u001b[39;49;00m __name__ == \u001b[33m'\u001b[39;49;00m\u001b[33m__main__\u001b[39;49;00m\u001b[33m'\u001b[39;49;00m:\n",
      "0618: \n",
      "0619: \n",
      "0620:     \u001b[34mif\u001b[39;49;00m \u001b[36mlen\u001b[39;49;00m(sys.argv) > \u001b[34m1\u001b[39;49;00m:\n",
      "0621:         \u001b[34mfor\u001b[39;49;00m filename \u001b[35min\u001b[39;49;00m sys.argv[\u001b[34m1\u001b[39;49;00m:]:\n",
      "0622:             yyparse(filename)\n",
      "0623:     \u001b[34melse\u001b[39;49;00m:\n",
      "0624:         filename = \u001b[36minput\u001b[39;49;00m()\n",
      "0625:         yyparse(filename)\n",
      "0626: \n"
     ]
    }
   ],
   "source": [
    "%%sh\n",
    "pygmentize -O linenos=1 -g yyparse.py"
   ]
  },
  {
   "cell_type": "markdown",
   "metadata": {
    "collapsed": true
   },
   "source": [
    "---"
   ]
  },
  {
   "cell_type": "markdown",
   "metadata": {},
   "source": [
    "[Contenido](#Contenido)"
   ]
  }
 ],
 "metadata": {
  "kernelspec": {
   "display_name": "Python 3",
   "language": "python",
   "name": "python3"
  },
  "language_info": {
   "codemirror_mode": {
    "name": "ipython",
    "version": 3
   },
   "file_extension": ".py",
   "mimetype": "text/x-python",
   "name": "python",
   "nbconvert_exporter": "python",
   "pygments_lexer": "ipython3",
   "version": "3.5.2"
  }
 },
 "nbformat": 4,
 "nbformat_minor": 0
}
