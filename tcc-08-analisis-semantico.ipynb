{
 "cells": [
  {
   "cell_type": "markdown",
   "metadata": {},
   "source": [
    "# Tabla de Símbolos y Chequeo de Tipos\n",
    "Notas de clase sobre Teoría de la Compilación"
   ]
  },
  {
   "cell_type": "markdown",
   "metadata": {},
   "source": [
    "**Juan David Velásquez Henao**   \n",
    "jdvelasq@unal.edu.co  \n",
    "Universidad Nacional de Colombia, Sede Medellín  \n",
    "Facultad de Minas  \n",
    "Medellín, Colombia  \n",
    "\n",
    "[Licencia](https://github.com/jdvelasq/teoria-de-la-compilacion/blob/master/LICENCIA.txt)  \n",
    "[Readme](https://github.com/jdvelasq/teoria-de-la-compilacion/blob/master/readme.md)"
   ]
  },
  {
   "cell_type": "markdown",
   "metadata": {},
   "source": [
    "**Software utilizado**.\n",
    "\n",
    "> Este es un documento interactivo escrito como un notebook de [Jupyter](http://jupyter.org), en el cual se presenta una introducción al diseño de lectores, generadores, traductores, interpretes y compiladores. Los notebooks de Jupyter permiten incoporar simultáneamente código, texto, gráficos y ecuaciones. El código presentado en este notebook puede ejecutarse en los sistemas operativos Windows, Linux y OS X.\n",
    "\n",
    "> Haga click [aquí](https://github.com/jdvelasq/guias-de-instalacion) para obtener instrucciones detalladas sobre como instalar Jupyter en Windows y Mac OS X.\n",
    "\n",
    "> Haga clic [aquí](http://nbviewer.jupyter.org/github/jdvelasq/teoria-de-la-compilacion/blob/master/01-introduccion.ipynb) para ver la última versión de este documento en nbviewer.\n",
    "\n",
    "> Descargue la última versión de este documento, los archivos de datos y los programas en Python a su disco duro; luego, carguelos y ejecutelos en línea en [Try Jupyter!](https://try.jupyter.org)"
   ]
  },
  {
   "cell_type": "markdown",
   "metadata": {},
   "source": [
    "#### Contenido"
   ]
  },
  {
   "cell_type": "markdown",
   "metadata": {},
   "source": [
    "> * [Introducción](#Introducción)\n",
    "    * [Objetivos](#Objetivos)\n",
    "    * [Tipos de verificaciones](#Tipos-de-verificaciones)\n",
    "    * [Sistemas de Tipo](#Sistemas-de-Tipo)\n",
    "* [Tabla de Símbolos](#Tabla-de-Símbolos)\n",
    "    * [Ejemplo 1](#Ejemplo-1)\n",
    "    * [Ejemplo 2](#Ejemplo-2)\n",
    "    * [Ejemplo 3](#Ejemplo-3)\n",
    "    * [Ejemplo 4](#Ejemplo-4)\n",
    "* [Implementación del Generador de la  Tabla de Símbolos](#Implementación-del-Generador-de-la--Tabla-de-Símbolos)\n",
    "* [Verificación de Tipos](#Verificación-de-Tipos)\n",
    "    * [Implementación](#Implementación)"
   ]
  },
  {
   "cell_type": "markdown",
   "metadata": {},
   "source": [
    "# Introducción"
   ]
  },
  {
   "cell_type": "markdown",
   "metadata": {},
   "source": [
    "[Contenido](#Contenido)"
   ]
  },
  {
   "cell_type": "markdown",
   "metadata": {},
   "source": [
    "## Objetivos"
   ]
  },
  {
   "cell_type": "markdown",
   "metadata": {},
   "source": [
    "[Contenido](#Contenido)"
   ]
  },
  {
   "cell_type": "markdown",
   "metadata": {},
   "source": [
    "<big>**Análisis Léxico**</big>  \n",
    "Reconoce tokens válidos en el programa.\n",
    "\n",
    "<big>**Análisis Sintáctico**</big>  \n",
    "Determina si el programa está escrito correctamente.\n",
    "\n",
    "<big>**Análisis Semántico**</big>  \n",
    "Última capa de revisión. Verifica propiedades del programa.\n",
    "\n",
    "* Verificación estática vs dinámica.\n",
    "\n",
    "* Verificación estática:\n",
    "   * Flujo.\n",
    "   * Unicidad.\n",
    "   * Tipos."
   ]
  },
  {
   "cell_type": "markdown",
   "metadata": {},
   "source": [
    "## Tipos de verificaciones"
   ]
  },
  {
   "cell_type": "markdown",
   "metadata": {},
   "source": [
    "[Contenido](#Contenido)"
   ]
  },
  {
   "cell_type": "markdown",
   "metadata": {},
   "source": [
    "<big>**Verificación del Flujo.**</big>  "
   ]
  },
  {
   "cell_type": "markdown",
   "metadata": {},
   "source": [
    "* Las variables debe ser declaradas antes de ser usadas.  "
   ]
  },
  {
   "cell_type": "markdown",
   "metadata": {},
   "source": [
    "* La declaración de una variable debe estar acorde con su ámbito.  "
   ]
  },
  {
   "cell_type": "markdown",
   "metadata": {},
   "source": [
    "* Cada trayectoria de salida retorna un valor del tipo correcto.  "
   ]
  },
  {
   "cell_type": "markdown",
   "metadata": {},
   "source": [
    "<big>**Unicidad**</big>  "
   ]
  },
  {
   "cell_type": "markdown",
   "metadata": {},
   "source": [
    "* Un identificador no puede ser usado en dos declaraciones diferentes en el mismo ámbito."
   ]
  },
  {
   "cell_type": "markdown",
   "metadata": {},
   "source": [
    "<big>**Verificación de tipos**</big>  "
   ]
  },
  {
   "cell_type": "markdown",
   "metadata": {},
   "source": [
    "* El número de argumentos y sus tipos concuerda con el número de parámetros y tipos en la llamada a funciones.  "
   ]
  },
  {
   "cell_type": "markdown",
   "metadata": {},
   "source": [
    "* Las funciones deben retornar valores del tipo apropiado.  "
   ]
  },
  {
   "cell_type": "markdown",
   "metadata": {},
   "source": [
    "* Los operadores operan sobre argumentos del tipo adecuado.  "
   ]
  },
  {
   "cell_type": "markdown",
   "metadata": {},
   "source": [
    "* El lado derecho de las asignaciones concuerda con el tipo del identificador.  "
   ]
  },
  {
   "cell_type": "markdown",
   "metadata": {},
   "source": [
    "* Los argumentos de las declaraciones son del tipo apropiado.  "
   ]
  },
  {
   "cell_type": "markdown",
   "metadata": {},
   "source": [
    "<big>**Verificación dinámica**</big>  "
   ]
  },
  {
   "cell_type": "markdown",
   "metadata": {},
   "source": [
    "* Límites de tamaño de vectores y punteros."
   ]
  },
  {
   "cell_type": "markdown",
   "metadata": {},
   "source": [
    "## Sistemas de Tipo"
   ]
  },
  {
   "cell_type": "markdown",
   "metadata": {},
   "source": [
    "[Contenido](#Contenido)"
   ]
  },
  {
   "cell_type": "markdown",
   "metadata": {},
   "source": [
    "**Lenguajes fuertemente tipados:** \n",
    "\n",
    "Los tipos  de algunos elementos del código fuente se definen mediante declaración.\n",
    "\n",
    "    int x, y;\n",
    "    double z;\n",
    "\n",
    "Los tipos de los demás elementos del código fuente se definen por inferencia.\n",
    "\n",
    "    x * y\t\tint * int -> int\n",
    "    x + z\t\tint + double -> double\n",
    "    x < y\t\tint < int -> bool"
   ]
  },
  {
   "cell_type": "markdown",
   "metadata": {},
   "source": [
    "# Tabla de Símbolos"
   ]
  },
  {
   "cell_type": "markdown",
   "metadata": {},
   "source": [
    "[Contenido](#Contenido)"
   ]
  },
  {
   "cell_type": "markdown",
   "metadata": {},
   "source": [
    "Estructura de datos que recopila información sobre identificadores en un programa:"
   ]
  },
  {
   "cell_type": "markdown",
   "metadata": {},
   "source": [
    "*\tNombre "
   ]
  },
  {
   "cell_type": "markdown",
   "metadata": {},
   "source": [
    "*\tClase: variable vs funcion"
   ]
  },
  {
   "cell_type": "markdown",
   "metadata": {},
   "source": [
    "*\tSi es función:\n",
    "    *\tNombre y tipo de cada uno de sus argumentos\n",
    "    *\tPunto de entrada\n",
    "    *\tTipo devuelto\n",
    "    *\tVisibilidad (ámbito)\n",
    "    *\tEtc."
   ]
  },
  {
   "cell_type": "markdown",
   "metadata": {},
   "source": [
    "*\tSi es identificador:\n",
    "    *\tVisibilidad (Ámbito)\n",
    "    *\tTipo."
   ]
  },
  {
   "cell_type": "markdown",
   "metadata": {},
   "source": [
    "**Recopilación de la Información.**  "
   ]
  },
  {
   "cell_type": "markdown",
   "metadata": {},
   "source": [
    "* La construcción de la tabla de símbolos (TS) se realiza mediante el recorrido del árbol sintáctico."
   ]
  },
  {
   "cell_type": "markdown",
   "metadata": {},
   "source": [
    "* Cada vez que se entra en una función se hace scope += 1. El programa principal tiene scope = 0."
   ]
  },
  {
   "cell_type": "markdown",
   "metadata": {},
   "source": [
    "* Cada vez que se encuentra una declaración de función (Nodo FUNCTION) se agrega la función a la TS, se agrega su tipo y se verifica que no exista."
   ]
  },
  {
   "cell_type": "markdown",
   "metadata": {},
   "source": [
    "* Cada vez que se encuentra una declaración de variables (Nodo VAR o argumentos de una función), se agregan las variables y sus tipos a la tabla de símbolos, verificando que no hayan sido instalados previamente."
   ]
  },
  {
   "cell_type": "markdown",
   "metadata": {},
   "source": [
    "* Cada vez que se encuentra un uso de variable o llamado a función (nodo FCALL) se verifica que haya sido declarada en la TS. Note que aquí no se verifican los tipos."
   ]
  },
  {
   "cell_type": "markdown",
   "metadata": {},
   "source": [
    "---"
   ]
  },
  {
   "cell_type": "markdown",
   "metadata": {},
   "source": [
    "## Ejemplo 1"
   ]
  },
  {
   "cell_type": "markdown",
   "metadata": {},
   "source": [
    "[Contenido](#Contenido)"
   ]
  },
  {
   "cell_type": "code",
   "execution_count": 1,
   "metadata": {
    "collapsed": false
   },
   "outputs": [
    {
     "name": "stdout",
     "output_type": "stream",
     "text": [
      "Overwriting example.txt\n"
     ]
    }
   ],
   "source": [
    "%%writefile example.txt\n",
    "\n",
    "function @sq:num (x:num)\n",
    "   {\n",
    "   return x * x;\n",
    "   }\n",
    "   \n",
    "write '2^2 -> ': @sq( 2 );\n",
    "end"
   ]
  },
  {
   "cell_type": "code",
   "execution_count": 2,
   "metadata": {
    "collapsed": false
   },
   "outputs": [
    {
     "name": "stdout",
     "output_type": "stream",
     "text": [
      "+-- TOKENTABLE\n",
      "    +-- FUNCTION {lexeme: function, lineno: 1}\n",
      "    +-- UFID {lexeme: @sq, lineno: 1}\n",
      "    +-- : {lexeme: :, lineno: 1}\n",
      "    +-- DATATYPE {lexeme: num, lineno: 1}\n",
      "    +-- ( {lexeme: (, lineno: 1}\n",
      "    +-- ID {lexeme: x, lineno: 1}\n",
      "    +-- : {lexeme: :, lineno: 1}\n",
      "    +-- DATATYPE {lexeme: num, lineno: 1}\n",
      "    +-- ) {lexeme: ), lineno: 1}\n",
      "    +-- { {lexeme: {, lineno: 2}\n",
      "    +-- RETURN {lexeme: return, lineno: 3}\n",
      "    +-- ID {lexeme: x, lineno: 3}\n",
      "    +-- * {lexeme: *, lineno: 3}\n",
      "    +-- ID {lexeme: x, lineno: 3}\n",
      "    +-- ; {lexeme: ;, lineno: 3}\n",
      "    +-- } {lexeme: }, lineno: 4}\n",
      "    +-- WRITE {lexeme: write, lineno: 6}\n",
      "    +-- STR {lexeme: '2^2 -> ', lineno: 6}\n",
      "    +-- : {lexeme: :, lineno: 6}\n",
      "    +-- UFID {lexeme: @sq, lineno: 6}\n",
      "    +-- ( {lexeme: (, lineno: 6}\n",
      "    +-- NUM {lexeme: 2, lineno: 6}\n",
      "    +-- ) {lexeme: ), lineno: 6}\n",
      "    +-- ; {lexeme: ;, lineno: 6}\n",
      "    +-- END {lexeme: end, lineno: 7}\n",
      "    +-- END {lexeme: end, lineno: 1}\n"
     ]
    }
   ],
   "source": [
    "%%sh\n",
    "python yylex.py example.txt"
   ]
  },
  {
   "cell_type": "code",
   "execution_count": 3,
   "metadata": {
    "collapsed": false
   },
   "outputs": [
    {
     "name": "stdout",
     "output_type": "stream",
     "text": [
      "+-- SYNTAXTREE\n",
      "    +-- FUNCTIONDECL {lineno: 1}\n",
      "    |   +-- FUNCTION {datatype: num, lineno: 1, scope: 1, value: @sq}\n",
      "    |       +-- ARGS {lineno: 1}\n",
      "    |       |   +-- ID {datatype: num, lineno: 1, scope: 1, value: x}\n",
      "    |       +-- BLOCK {lineno: 3}\n",
      "    |           +-- RETURN {datatype: num, lineno: 3, scope: 1, value: __return__}\n",
      "    |               +-- * {datatype: num, lineno: 3}\n",
      "    |                   +-- ID {lineno: 3, scope: 1, value: x}\n",
      "    |                   +-- ID {lineno: 3, scope: 1, value: x}\n",
      "    +-- MAINPROG {lineno: 6}\n",
      "        +-- WRITE {lineno: 6}\n",
      "        |   +-- STR {datatype: str, lineno: 6, value: '2^2 -> '}\n",
      "        |   +-- UFCALL {lineno: 6, value: @sq}\n",
      "        |       +-- NUM {datatype: num, lineno: 6, value: 2}\n",
      "        +-- END {lineno: 7}\n"
     ]
    }
   ],
   "source": [
    "%%sh \n",
    "python yyparse.py example.txt"
   ]
  },
  {
   "cell_type": "code",
   "execution_count": 4,
   "metadata": {
    "collapsed": false
   },
   "outputs": [
    {
     "name": "stdout",
     "output_type": "stream",
     "text": [
      "+-- SYMBOLTABLE\n",
      "    +-- $chs {argstype: ['num'], datatype: num, kind: bfun, nargs: 1}\n",
      "    +-- $abs {argstype: ['num'], datatype: num, kind: bfun, nargs: 1}\n",
      "    +-- $sgn {argstype: ['num'], datatype: num, kind: bfun, nargs: 1}\n",
      "    +-- @sq {argstype: ['num'], datatype: num, entrylabel: 0, kind: ufun, nargs: 1, scope: 1}\n",
      "    +-- __return__ {datatype: num, kind: uvar, location: 0, scope: 1}\n",
      "    +-- x {datatype: num, kind: uvar, location: 1, scope: 1}\n"
     ]
    }
   ],
   "source": [
    "%%sh\n",
    "python yysymboltab.py example.txt"
   ]
  },
  {
   "cell_type": "markdown",
   "metadata": {},
   "source": [
    "---"
   ]
  },
  {
   "cell_type": "markdown",
   "metadata": {},
   "source": [
    "## Ejemplo 2"
   ]
  },
  {
   "cell_type": "markdown",
   "metadata": {},
   "source": [
    "[Contenido](#Contenido)"
   ]
  },
  {
   "cell_type": "code",
   "execution_count": 5,
   "metadata": {
    "collapsed": false
   },
   "outputs": [
    {
     "name": "stdout",
     "output_type": "stream",
     "text": [
      "Overwriting example.txt\n"
     ]
    }
   ],
   "source": [
    "%%writefile example.txt\n",
    "\n",
    "var i:num;\n",
    "i := 1;\n",
    "\n",
    "while (i < 5) do\n",
    "    {\n",
    "    write 'i = ': i;\n",
    "    i := i + 1;\n",
    "    }\n",
    "\n",
    "end"
   ]
  },
  {
   "cell_type": "code",
   "execution_count": 6,
   "metadata": {
    "collapsed": false
   },
   "outputs": [
    {
     "name": "stdout",
     "output_type": "stream",
     "text": [
      "+-- TOKENTABLE\n",
      "    +-- VAR {lexeme: var, lineno: 1}\n",
      "    +-- ID {lexeme: i, lineno: 1}\n",
      "    +-- : {lexeme: :, lineno: 1}\n",
      "    +-- DATATYPE {lexeme: num, lineno: 1}\n",
      "    +-- ; {lexeme: ;, lineno: 1}\n",
      "    +-- ID {lexeme: i, lineno: 2}\n",
      "    +-- := {lexeme: :=, lineno: 2}\n",
      "    +-- NUM {lexeme: 1, lineno: 2}\n",
      "    +-- ; {lexeme: ;, lineno: 2}\n",
      "    +-- WHILE {lexeme: while, lineno: 4}\n",
      "    +-- ( {lexeme: (, lineno: 4}\n",
      "    +-- ID {lexeme: i, lineno: 4}\n",
      "    +-- < {lexeme: <, lineno: 4}\n",
      "    +-- NUM {lexeme: 5, lineno: 4}\n",
      "    +-- ) {lexeme: ), lineno: 4}\n",
      "    +-- DO {lexeme: do, lineno: 4}\n",
      "    +-- { {lexeme: {, lineno: 5}\n",
      "    +-- WRITE {lexeme: write, lineno: 6}\n",
      "    +-- STR {lexeme: 'i = ', lineno: 6}\n",
      "    +-- : {lexeme: :, lineno: 6}\n",
      "    +-- ID {lexeme: i, lineno: 6}\n",
      "    +-- ; {lexeme: ;, lineno: 6}\n",
      "    +-- ID {lexeme: i, lineno: 7}\n",
      "    +-- := {lexeme: :=, lineno: 7}\n",
      "    +-- ID {lexeme: i, lineno: 7}\n",
      "    +-- + {lexeme: +, lineno: 7}\n",
      "    +-- NUM {lexeme: 1, lineno: 7}\n",
      "    +-- ; {lexeme: ;, lineno: 7}\n",
      "    +-- } {lexeme: }, lineno: 8}\n",
      "    +-- END {lexeme: end, lineno: 10}\n",
      "    +-- END {lexeme: end, lineno: 1}\n"
     ]
    }
   ],
   "source": [
    "%%sh\n",
    "python yylex.py example.txt"
   ]
  },
  {
   "cell_type": "code",
   "execution_count": 7,
   "metadata": {
    "collapsed": false
   },
   "outputs": [
    {
     "name": "stdout",
     "output_type": "stream",
     "text": [
      "+-- SYNTAXTREE\n",
      "    +-- FUNCTIONDECL {lineno: 1}\n",
      "    +-- MAINPROG {lineno: 1}\n",
      "        +-- VAR {lineno: 1}\n",
      "        |   +-- ID {datatype: num, lineno: 1, scope: 0, value: i}\n",
      "        +-- ASSIGN {lineno: 2, scope: 0, value: i}\n",
      "        |   +-- NUM {datatype: num, lineno: 2, value: 1}\n",
      "        +-- WHILE {lineno: 4}\n",
      "        |   +-- < {datatype: bool, lineno: 4}\n",
      "        |   |   +-- ID {lineno: 4, scope: 0, value: i}\n",
      "        |   |   +-- NUM {datatype: num, lineno: 4, value: 5}\n",
      "        |   +-- BLOCK {lineno: 6}\n",
      "        |       +-- WRITE {lineno: 6}\n",
      "        |       |   +-- STR {datatype: str, lineno: 6, value: 'i = '}\n",
      "        |       |   +-- ID {lineno: 6, scope: 0, value: i}\n",
      "        |       +-- ASSIGN {lineno: 7, scope: 0, value: i}\n",
      "        |           +-- + {datatype: num, lineno: 7}\n",
      "        |               +-- ID {lineno: 7, scope: 0, value: i}\n",
      "        |               +-- NUM {datatype: num, lineno: 7, value: 1}\n",
      "        +-- END {lineno: 10}\n"
     ]
    }
   ],
   "source": [
    "%%sh\n",
    "python yyparse.py example.txt"
   ]
  },
  {
   "cell_type": "code",
   "execution_count": 8,
   "metadata": {
    "collapsed": false
   },
   "outputs": [
    {
     "name": "stdout",
     "output_type": "stream",
     "text": [
      "+-- SYMBOLTABLE\n",
      "    +-- $chs {argstype: ['num'], datatype: num, kind: bfun, nargs: 1}\n",
      "    +-- $abs {argstype: ['num'], datatype: num, kind: bfun, nargs: 1}\n",
      "    +-- $sgn {argstype: ['num'], datatype: num, kind: bfun, nargs: 1}\n",
      "    +-- i {datatype: num, kind: uvar, location: 0, scope: 0}\n"
     ]
    }
   ],
   "source": [
    "%%sh\n",
    "python yysymboltab.py example.txt"
   ]
  },
  {
   "cell_type": "markdown",
   "metadata": {},
   "source": [
    "## Ejemplo 3"
   ]
  },
  {
   "cell_type": "markdown",
   "metadata": {},
   "source": [
    "[Contenido](#Contenido)"
   ]
  },
  {
   "cell_type": "code",
   "execution_count": 9,
   "metadata": {
    "collapsed": false
   },
   "outputs": [
    {
     "name": "stdout",
     "output_type": "stream",
     "text": [
      "Overwriting example.txt\n"
     ]
    }
   ],
   "source": [
    "%%writefile example.txt\n",
    "\n",
    "var n:num, i:num, j:num;\n",
    "\n",
    "n := 5;\n",
    "i := 1;\n",
    "\n",
    "while (true) do\n",
    "  {\n",
    "  j := 1;\n",
    "  while (true) do\n",
    "    {\n",
    "    write 'i = ': i;\n",
    "    write 'j = ': j;\n",
    "    j := j + 1;\n",
    "    }\n",
    "  i := i + 1;\n",
    "  }\n",
    "\n",
    "end"
   ]
  },
  {
   "cell_type": "code",
   "execution_count": 10,
   "metadata": {
    "collapsed": false
   },
   "outputs": [
    {
     "name": "stdout",
     "output_type": "stream",
     "text": [
      "+-- TOKENTABLE\n",
      "    +-- VAR {lexeme: var, lineno: 1}\n",
      "    +-- ID {lexeme: n, lineno: 1}\n",
      "    +-- : {lexeme: :, lineno: 1}\n",
      "    +-- DATATYPE {lexeme: num, lineno: 1}\n",
      "    +-- , {lexeme: ,, lineno: 1}\n",
      "    +-- ID {lexeme: i, lineno: 1}\n",
      "    +-- : {lexeme: :, lineno: 1}\n",
      "    +-- DATATYPE {lexeme: num, lineno: 1}\n",
      "    +-- , {lexeme: ,, lineno: 1}\n",
      "    +-- ID {lexeme: j, lineno: 1}\n",
      "    +-- : {lexeme: :, lineno: 1}\n",
      "    +-- DATATYPE {lexeme: num, lineno: 1}\n",
      "    +-- ; {lexeme: ;, lineno: 1}\n",
      "    +-- ID {lexeme: n, lineno: 3}\n",
      "    +-- := {lexeme: :=, lineno: 3}\n",
      "    +-- NUM {lexeme: 5, lineno: 3}\n",
      "    +-- ; {lexeme: ;, lineno: 3}\n",
      "    +-- ID {lexeme: i, lineno: 4}\n",
      "    +-- := {lexeme: :=, lineno: 4}\n",
      "    +-- NUM {lexeme: 1, lineno: 4}\n",
      "    +-- ; {lexeme: ;, lineno: 4}\n",
      "    +-- WHILE {lexeme: while, lineno: 6}\n",
      "    +-- ( {lexeme: (, lineno: 6}\n",
      "    +-- BOOL {lexeme: true, lineno: 6}\n",
      "    +-- ) {lexeme: ), lineno: 6}\n",
      "    +-- DO {lexeme: do, lineno: 6}\n",
      "    +-- { {lexeme: {, lineno: 7}\n",
      "    +-- ID {lexeme: j, lineno: 8}\n",
      "    +-- := {lexeme: :=, lineno: 8}\n",
      "    +-- NUM {lexeme: 1, lineno: 8}\n",
      "    +-- ; {lexeme: ;, lineno: 8}\n",
      "    +-- WHILE {lexeme: while, lineno: 9}\n",
      "    +-- ( {lexeme: (, lineno: 9}\n",
      "    +-- BOOL {lexeme: true, lineno: 9}\n",
      "    +-- ) {lexeme: ), lineno: 9}\n",
      "    +-- DO {lexeme: do, lineno: 9}\n",
      "    +-- { {lexeme: {, lineno: 10}\n",
      "    +-- WRITE {lexeme: write, lineno: 11}\n",
      "    +-- STR {lexeme: 'i = ', lineno: 11}\n",
      "    +-- : {lexeme: :, lineno: 11}\n",
      "    +-- ID {lexeme: i, lineno: 11}\n",
      "    +-- ; {lexeme: ;, lineno: 11}\n",
      "    +-- WRITE {lexeme: write, lineno: 12}\n",
      "    +-- STR {lexeme: 'j = ', lineno: 12}\n",
      "    +-- : {lexeme: :, lineno: 12}\n",
      "    +-- ID {lexeme: j, lineno: 12}\n",
      "    +-- ; {lexeme: ;, lineno: 12}\n",
      "    +-- ID {lexeme: j, lineno: 13}\n",
      "    +-- := {lexeme: :=, lineno: 13}\n",
      "    +-- ID {lexeme: j, lineno: 13}\n",
      "    +-- + {lexeme: +, lineno: 13}\n",
      "    +-- NUM {lexeme: 1, lineno: 13}\n",
      "    +-- ; {lexeme: ;, lineno: 13}\n",
      "    +-- } {lexeme: }, lineno: 14}\n",
      "    +-- ID {lexeme: i, lineno: 15}\n",
      "    +-- := {lexeme: :=, lineno: 15}\n",
      "    +-- ID {lexeme: i, lineno: 15}\n",
      "    +-- + {lexeme: +, lineno: 15}\n",
      "    +-- NUM {lexeme: 1, lineno: 15}\n",
      "    +-- ; {lexeme: ;, lineno: 15}\n",
      "    +-- } {lexeme: }, lineno: 16}\n",
      "    +-- END {lexeme: end, lineno: 18}\n",
      "    +-- END {lexeme: end, lineno: 1}\n"
     ]
    }
   ],
   "source": [
    "%%sh \n",
    "python yylex.py example.txt"
   ]
  },
  {
   "cell_type": "code",
   "execution_count": 11,
   "metadata": {
    "collapsed": false
   },
   "outputs": [
    {
     "name": "stdout",
     "output_type": "stream",
     "text": [
      "+-- SYNTAXTREE\n",
      "    +-- FUNCTIONDECL {lineno: 1}\n",
      "    +-- MAINPROG {lineno: 1}\n",
      "        +-- VAR {lineno: 1}\n",
      "        |   +-- ID {datatype: num, lineno: 1, scope: 0, value: n}\n",
      "        |   +-- ID {datatype: num, lineno: 1, scope: 0, value: i}\n",
      "        |   +-- ID {datatype: num, lineno: 1, scope: 0, value: j}\n",
      "        +-- ASSIGN {lineno: 3, scope: 0, value: n}\n",
      "        |   +-- NUM {datatype: num, lineno: 3, value: 5}\n",
      "        +-- ASSIGN {lineno: 4, scope: 0, value: i}\n",
      "        |   +-- NUM {datatype: num, lineno: 4, value: 1}\n",
      "        +-- WHILE {lineno: 6}\n",
      "        |   +-- BOOL {datatype: bool, lineno: 6, value: True}\n",
      "        |   +-- BLOCK {lineno: 8}\n",
      "        |       +-- ASSIGN {lineno: 8, scope: 0, value: j}\n",
      "        |       |   +-- NUM {datatype: num, lineno: 8, value: 1}\n",
      "        |       +-- WHILE {lineno: 9}\n",
      "        |       |   +-- BOOL {datatype: bool, lineno: 9, value: True}\n",
      "        |       |   +-- BLOCK {lineno: 11}\n",
      "        |       |       +-- WRITE {lineno: 11}\n",
      "        |       |       |   +-- STR {datatype: str, lineno: 11, value: 'i = '}\n",
      "        |       |       |   +-- ID {lineno: 11, scope: 0, value: i}\n",
      "        |       |       +-- WRITE {lineno: 12}\n",
      "        |       |       |   +-- STR {datatype: str, lineno: 12, value: 'j = '}\n",
      "        |       |       |   +-- ID {lineno: 12, scope: 0, value: j}\n",
      "        |       |       +-- ASSIGN {lineno: 13, scope: 0, value: j}\n",
      "        |       |           +-- + {datatype: num, lineno: 13}\n",
      "        |       |               +-- ID {lineno: 13, scope: 0, value: j}\n",
      "        |       |               +-- NUM {datatype: num, lineno: 13, value: 1}\n",
      "        |       +-- ASSIGN {lineno: 15, scope: 0, value: i}\n",
      "        |           +-- + {datatype: num, lineno: 15}\n",
      "        |               +-- ID {lineno: 15, scope: 0, value: i}\n",
      "        |               +-- NUM {datatype: num, lineno: 15, value: 1}\n",
      "        +-- END {lineno: 18}\n"
     ]
    }
   ],
   "source": [
    "%%sh\n",
    "python yyparse.py example.txt"
   ]
  },
  {
   "cell_type": "code",
   "execution_count": 12,
   "metadata": {
    "collapsed": false,
    "scrolled": true
   },
   "outputs": [
    {
     "name": "stdout",
     "output_type": "stream",
     "text": [
      "+-- SYMBOLTABLE\n",
      "    +-- $chs {argstype: ['num'], datatype: num, kind: bfun, nargs: 1}\n",
      "    +-- $abs {argstype: ['num'], datatype: num, kind: bfun, nargs: 1}\n",
      "    +-- $sgn {argstype: ['num'], datatype: num, kind: bfun, nargs: 1}\n",
      "    +-- n {datatype: num, kind: uvar, location: 0, scope: 0}\n",
      "    +-- i {datatype: num, kind: uvar, location: 1, scope: 0}\n",
      "    +-- j {datatype: num, kind: uvar, location: 2, scope: 0}\n"
     ]
    }
   ],
   "source": [
    "%%sh\n",
    "python yysymboltab.py example.txt"
   ]
  },
  {
   "cell_type": "markdown",
   "metadata": {},
   "source": [
    "## Ejemplo 4"
   ]
  },
  {
   "cell_type": "markdown",
   "metadata": {},
   "source": [
    "[Contenido](#Contenido)"
   ]
  },
  {
   "cell_type": "code",
   "execution_count": 29,
   "metadata": {
    "collapsed": false
   },
   "outputs": [
    {
     "name": "stdout",
     "output_type": "stream",
     "text": [
      "Overwriting example.txt\n"
     ]
    }
   ],
   "source": [
    "%%writefile example.txt\n",
    "\n",
    "function @min:num (x:num, y:num)\n",
    "   {\n",
    "   when (x < y) do return x;\n",
    "   return y;\n",
    "   }\n",
    "\n",
    "function @max:num (x:num, y:num)   \n",
    "   {\n",
    "   if (x < y) do\n",
    "       {\n",
    "       return x;\n",
    "       }\n",
    "   else\n",
    "      {                 \n",
    "      return y;\n",
    "      }\n",
    "   }\n",
    "\n",
    "write 'min 1 -> ': @min(1,2);\n",
    "write 'max 2 -> ': @max(1,2);\n",
    "\n",
    "end"
   ]
  },
  {
   "cell_type": "code",
   "execution_count": 30,
   "metadata": {
    "collapsed": false
   },
   "outputs": [
    {
     "name": "stdout",
     "output_type": "stream",
     "text": [
      "+-- TOKENTABLE\n",
      "    +-- FUNCTION {lexeme: function, lineno: 1}\n",
      "    +-- UFID {lexeme: @min, lineno: 1}\n",
      "    +-- : {lexeme: :, lineno: 1}\n",
      "    +-- DATATYPE {lexeme: num, lineno: 1}\n",
      "    +-- ( {lexeme: (, lineno: 1}\n",
      "    +-- ID {lexeme: x, lineno: 1}\n",
      "    +-- : {lexeme: :, lineno: 1}\n",
      "    +-- DATATYPE {lexeme: num, lineno: 1}\n",
      "    +-- , {lexeme: ,, lineno: 1}\n",
      "    +-- ID {lexeme: y, lineno: 1}\n",
      "    +-- : {lexeme: :, lineno: 1}\n",
      "    +-- DATATYPE {lexeme: num, lineno: 1}\n",
      "    +-- ) {lexeme: ), lineno: 1}\n",
      "    +-- { {lexeme: {, lineno: 2}\n",
      "    +-- WHEN {lexeme: when, lineno: 3}\n",
      "    +-- ( {lexeme: (, lineno: 3}\n",
      "    +-- ID {lexeme: x, lineno: 3}\n",
      "    +-- < {lexeme: <, lineno: 3}\n",
      "    +-- ID {lexeme: y, lineno: 3}\n",
      "    +-- ) {lexeme: ), lineno: 3}\n",
      "    +-- DO {lexeme: do, lineno: 3}\n",
      "    +-- RETURN {lexeme: return, lineno: 3}\n",
      "    +-- ID {lexeme: x, lineno: 3}\n",
      "    +-- ; {lexeme: ;, lineno: 3}\n",
      "    +-- RETURN {lexeme: return, lineno: 4}\n",
      "    +-- ID {lexeme: y, lineno: 4}\n",
      "    +-- ; {lexeme: ;, lineno: 4}\n",
      "    +-- } {lexeme: }, lineno: 5}\n",
      "    +-- FUNCTION {lexeme: function, lineno: 7}\n",
      "    +-- UFID {lexeme: @max, lineno: 7}\n",
      "    +-- : {lexeme: :, lineno: 7}\n",
      "    +-- DATATYPE {lexeme: num, lineno: 7}\n",
      "    +-- ( {lexeme: (, lineno: 7}\n",
      "    +-- ID {lexeme: x, lineno: 7}\n",
      "    +-- : {lexeme: :, lineno: 7}\n",
      "    +-- DATATYPE {lexeme: num, lineno: 7}\n",
      "    +-- , {lexeme: ,, lineno: 7}\n",
      "    +-- ID {lexeme: y, lineno: 7}\n",
      "    +-- : {lexeme: :, lineno: 7}\n",
      "    +-- DATATYPE {lexeme: num, lineno: 7}\n",
      "    +-- ) {lexeme: ), lineno: 7}\n",
      "    +-- { {lexeme: {, lineno: 8}\n",
      "    +-- IF {lexeme: if, lineno: 9}\n",
      "    +-- ( {lexeme: (, lineno: 9}\n",
      "    +-- ID {lexeme: x, lineno: 9}\n",
      "    +-- < {lexeme: <, lineno: 9}\n",
      "    +-- ID {lexeme: y, lineno: 9}\n",
      "    +-- ) {lexeme: ), lineno: 9}\n",
      "    +-- DO {lexeme: do, lineno: 9}\n",
      "    +-- { {lexeme: {, lineno: 10}\n",
      "    +-- RETURN {lexeme: return, lineno: 11}\n",
      "    +-- ID {lexeme: x, lineno: 11}\n",
      "    +-- ; {lexeme: ;, lineno: 11}\n",
      "    +-- } {lexeme: }, lineno: 12}\n",
      "    +-- ELSE {lexeme: else, lineno: 13}\n",
      "    +-- { {lexeme: {, lineno: 14}\n",
      "    +-- RETURN {lexeme: return, lineno: 15}\n",
      "    +-- ID {lexeme: y, lineno: 15}\n",
      "    +-- ; {lexeme: ;, lineno: 15}\n",
      "    +-- } {lexeme: }, lineno: 16}\n",
      "    +-- } {lexeme: }, lineno: 17}\n",
      "    +-- WRITE {lexeme: write, lineno: 19}\n",
      "    +-- STR {lexeme: 'min 1 -> ', lineno: 19}\n",
      "    +-- : {lexeme: :, lineno: 19}\n",
      "    +-- UFID {lexeme: @min, lineno: 19}\n",
      "    +-- ( {lexeme: (, lineno: 19}\n",
      "    +-- NUM {lexeme: 1, lineno: 19}\n",
      "    +-- , {lexeme: ,, lineno: 19}\n",
      "    +-- NUM {lexeme: 2, lineno: 19}\n",
      "    +-- ) {lexeme: ), lineno: 19}\n",
      "    +-- ; {lexeme: ;, lineno: 19}\n",
      "    +-- WRITE {lexeme: write, lineno: 20}\n",
      "    +-- STR {lexeme: 'max 2 -> ', lineno: 20}\n",
      "    +-- : {lexeme: :, lineno: 20}\n",
      "    +-- UFID {lexeme: @max, lineno: 20}\n",
      "    +-- ( {lexeme: (, lineno: 20}\n",
      "    +-- NUM {lexeme: 1, lineno: 20}\n",
      "    +-- , {lexeme: ,, lineno: 20}\n",
      "    +-- NUM {lexeme: 2, lineno: 20}\n",
      "    +-- ) {lexeme: ), lineno: 20}\n",
      "    +-- ; {lexeme: ;, lineno: 20}\n",
      "    +-- END {lexeme: end, lineno: 22}\n",
      "    +-- END {lexeme: end, lineno: 1}\n"
     ]
    }
   ],
   "source": [
    "%%sh \n",
    "python yylex.py example.txt"
   ]
  },
  {
   "cell_type": "code",
   "execution_count": 31,
   "metadata": {
    "collapsed": false
   },
   "outputs": [
    {
     "name": "stdout",
     "output_type": "stream",
     "text": [
      "+-- SYNTAXTREE\n",
      "    +-- FUNCTIONDECL {lineno: 1}\n",
      "    |   +-- FUNCTION {datatype: num, lineno: 1, scope: 1, value: @min}\n",
      "    |   |   +-- ARGS {lineno: 1}\n",
      "    |   |   |   +-- ID {datatype: num, lineno: 1, scope: 1, value: x}\n",
      "    |   |   |   +-- ID {datatype: num, lineno: 1, scope: 1, value: y}\n",
      "    |   |   +-- BLOCK {lineno: 3}\n",
      "    |   |       +-- WHEN {lineno: 3}\n",
      "    |   |       |   +-- < {datatype: bool, lineno: 3}\n",
      "    |   |       |   |   +-- ID {lineno: 3, scope: 1, value: x}\n",
      "    |   |       |   |   +-- ID {lineno: 3, scope: 1, value: y}\n",
      "    |   |       |   +-- RETURN {datatype: num, lineno: 3, scope: 1, value: __return__}\n",
      "    |   |       |       +-- ID {lineno: 3, scope: 1, value: x}\n",
      "    |   |       +-- RETURN {datatype: num, lineno: 4, scope: 1, value: __return__}\n",
      "    |   |           +-- ID {lineno: 4, scope: 1, value: y}\n",
      "    |   +-- FUNCTION {datatype: num, lineno: 7, scope: 2, value: @max}\n",
      "    |       +-- ARGS {lineno: 7}\n",
      "    |       |   +-- ID {datatype: num, lineno: 7, scope: 2, value: x}\n",
      "    |       |   +-- ID {datatype: num, lineno: 7, scope: 2, value: y}\n",
      "    |       +-- BLOCK {lineno: 9}\n",
      "    |           +-- IF {lineno: 9}\n",
      "    |               +-- < {datatype: bool, lineno: 9}\n",
      "    |               |   +-- ID {lineno: 9, scope: 2, value: x}\n",
      "    |               |   +-- ID {lineno: 9, scope: 2, value: y}\n",
      "    |               +-- BLOCK {lineno: 11}\n",
      "    |               |   +-- RETURN {datatype: num, lineno: 11, scope: 2, value: __return__}\n",
      "    |               |       +-- ID {lineno: 11, scope: 2, value: x}\n",
      "    |               +-- BLOCK {lineno: 15}\n",
      "    |                   +-- RETURN {datatype: num, lineno: 15, scope: 2, value: __return__}\n",
      "    |                       +-- ID {lineno: 15, scope: 2, value: y}\n",
      "    +-- MAINPROG {lineno: 19}\n",
      "        +-- WRITE {lineno: 19}\n",
      "        |   +-- STR {datatype: str, lineno: 19, value: 'min 1 -> '}\n",
      "        |   +-- UFCALL {lineno: 19, value: @min}\n",
      "        |       +-- NUM {datatype: num, lineno: 19, value: 1}\n",
      "        |       +-- NUM {datatype: num, lineno: 19, value: 2}\n",
      "        +-- WRITE {lineno: 20}\n",
      "        |   +-- STR {datatype: str, lineno: 20, value: 'max 2 -> '}\n",
      "        |   +-- UFCALL {lineno: 20, value: @max}\n",
      "        |       +-- NUM {datatype: num, lineno: 20, value: 1}\n",
      "        |       +-- NUM {datatype: num, lineno: 20, value: 2}\n",
      "        +-- END {lineno: 22}\n"
     ]
    }
   ],
   "source": [
    "%%sh\n",
    "python yyparse.py example.txt"
   ]
  },
  {
   "cell_type": "code",
   "execution_count": 32,
   "metadata": {
    "collapsed": false
   },
   "outputs": [
    {
     "name": "stdout",
     "output_type": "stream",
     "text": [
      "+-- SYMBOLTABLE\n",
      "    +-- $chs {argstype: ['num'], datatype: num, kind: bfun, nargs: 1}\n",
      "    +-- $abs {argstype: ['num'], datatype: num, kind: bfun, nargs: 1}\n",
      "    +-- $sgn {argstype: ['num'], datatype: num, kind: bfun, nargs: 1}\n",
      "    +-- @min {argstype: ['num', 'num'], datatype: num, entrylabel: 0, kind: ufun, nargs: 2, scope: 1}\n",
      "    +-- __return__ {datatype: num, kind: uvar, location: 0, scope: 1}\n",
      "    +-- x {datatype: num, kind: uvar, location: 1, scope: 1}\n",
      "    +-- y {datatype: num, kind: uvar, location: 2, scope: 1}\n",
      "    +-- @max {argstype: ['num', 'num'], datatype: num, entrylabel: 1, kind: ufun, nargs: 2, scope: 2}\n",
      "    +-- __return__ {datatype: num, kind: uvar, location: 3, scope: 2}\n",
      "    +-- x {datatype: num, kind: uvar, location: 4, scope: 2}\n",
      "    +-- y {datatype: num, kind: uvar, location: 5, scope: 2}\n"
     ]
    }
   ],
   "source": [
    "%%sh\n",
    "python yysymboltab.py example.txt"
   ]
  },
  {
   "cell_type": "markdown",
   "metadata": {},
   "source": [
    "---"
   ]
  },
  {
   "cell_type": "markdown",
   "metadata": {},
   "source": [
    "# Implementación del Generador de la  Tabla de Símbolos"
   ]
  },
  {
   "cell_type": "markdown",
   "metadata": {},
   "source": [
    "[Contenido](#Contenido)"
   ]
  },
  {
   "cell_type": "code",
   "execution_count": 35,
   "metadata": {
    "collapsed": false,
    "scrolled": false
   },
   "outputs": [
    {
     "name": "stdout",
     "output_type": "stream",
     "text": [
      "0001: \u001b[37m###< 2016-08-28 17:04:40.183908 >###\u001b[39;49;00m\n",
      "0002: \n",
      "0003: \u001b[37m#\u001b[39;49;00m\n",
      "0004: \u001b[37m#  yysimboltab.py\u001b[39;49;00m\n",
      "0005: \u001b[37m#    generador de la tabla de simbolos\u001b[39;49;00m\n",
      "0006: \u001b[37m#\u001b[39;49;00m\n",
      "0007: \n",
      "0008: \u001b[34mimport\u001b[39;49;00m \u001b[04m\u001b[36mshlex\u001b[39;49;00m, \u001b[04m\u001b[36msys\u001b[39;49;00m, \u001b[04m\u001b[36mpickle\u001b[39;49;00m\n",
      "0009: \u001b[34mimport\u001b[39;49;00m \u001b[04m\u001b[36mdataTree\u001b[39;49;00m \u001b[34mas\u001b[39;49;00m \u001b[04m\u001b[36mdt\u001b[39;49;00m\n",
      "0010: \n",
      "0011: \n",
      "0012: \u001b[37m# generacion de la tabla de simbolos\u001b[39;49;00m\n",
      "0013: \u001b[34mdef\u001b[39;49;00m \u001b[32myysymboltab\u001b[39;49;00m(filename, quiet = \u001b[36mFalse\u001b[39;49;00m):\n",
      "0014: \n",
      "0015:     \u001b[37m# lee la estructura de datos\u001b[39;49;00m\n",
      "0016:     \u001b[34mwith\u001b[39;49;00m \u001b[36mopen\u001b[39;49;00m(filename + \u001b[33m'\u001b[39;49;00m\u001b[33m.dataTree\u001b[39;49;00m\u001b[33m'\u001b[39;49;00m, \u001b[33m'\u001b[39;49;00m\u001b[33mrb\u001b[39;49;00m\u001b[33m'\u001b[39;49;00m) \u001b[34mas\u001b[39;49;00m f:\n",
      "0017:         DATA = pickle.load(f)\n",
      "0018: \n",
      "0019:     SOURCECODE  = DATA.find(\u001b[33m'\u001b[39;49;00m\u001b[33mSOURCECODE\u001b[39;49;00m\u001b[33m'\u001b[39;49;00m)\n",
      "0020:     TOKENTABLE  = DATA.find(\u001b[33m'\u001b[39;49;00m\u001b[33mTOKENTABLE\u001b[39;49;00m\u001b[33m'\u001b[39;49;00m)\n",
      "0021:     SYNTAXTREE  = DATA.find(\u001b[33m'\u001b[39;49;00m\u001b[33mSYNTAXTREE\u001b[39;49;00m\u001b[33m'\u001b[39;49;00m)\n",
      "0022:     SYMBOLTABLE = DATA.find(\u001b[33m'\u001b[39;49;00m\u001b[33mSYMBOLTABLE\u001b[39;49;00m\u001b[33m'\u001b[39;49;00m)\n",
      "0023: \n",
      "0024:     \u001b[34mdef\u001b[39;49;00m \u001b[32myyerror\u001b[39;49;00m(node, msg):\n",
      "0025:         \u001b[37m# el simbolo ya existe en la tabla de simbolos\u001b[39;49;00m\n",
      "0026:         lineno = node.attrib[\u001b[33m'\u001b[39;49;00m\u001b[33mlineno\u001b[39;49;00m\u001b[33m'\u001b[39;49;00m]\n",
      "0027:         symbol = node.attrib[\u001b[33m'\u001b[39;49;00m\u001b[33mvalue\u001b[39;49;00m\u001b[33m'\u001b[39;49;00m]\n",
      "0028:         txt = \u001b[33m'\u001b[39;49;00m\u001b[33m{}:Semantic error at line {}: \u001b[39;49;00m\u001b[33m'\u001b[39;49;00m.format(filename, lineno)\n",
      "0029:         txt += \u001b[33m'\u001b[39;49;00m\u001b[33mSymbol <{}> {}\u001b[39;49;00m\u001b[33m'\u001b[39;49;00m.format(symbol, msg)\n",
      "0030:         \u001b[37m# msg += '--> ' + SOURCECODE[yylineno].text\u001b[39;49;00m\n",
      "0031:         \u001b[34mprint\u001b[39;49;00m(txt)\n",
      "0032:         sys.exit()\n",
      "0033: \n",
      "0034:     \u001b[34mdef\u001b[39;49;00m \u001b[32mfind_symbol\u001b[39;49;00m(symbol, scope=\u001b[36mNone\u001b[39;49;00m):\n",
      "0035:         \u001b[34mif\u001b[39;49;00m scope \u001b[35mis\u001b[39;49;00m \u001b[36mNone\u001b[39;49;00m:\n",
      "0036:             \u001b[37m# se esta buscando una funcion\u001b[39;49;00m\n",
      "0037:             \u001b[34mreturn\u001b[39;49;00m SYMBOLTABLE.find(symbol)\n",
      "0038:         \u001b[34mreturn\u001b[39;49;00m SYMBOLTABLE.search(symbol, \u001b[33m'\u001b[39;49;00m\u001b[33mscope\u001b[39;49;00m\u001b[33m'\u001b[39;49;00m, scope)\n",
      "0039: \n",
      "0040: \n",
      "0041: \n",
      "0042:     \u001b[37m# install_symbol.\u001b[39;49;00m\n",
      "0043:     \u001b[37m#    instala un nuevo simbolo en la tabla.\u001b[39;49;00m\n",
      "0044:     \u001b[34mdef\u001b[39;49;00m \u001b[32minstall_symbol\u001b[39;49;00m(symbol, kind, nargs=\u001b[36mNone\u001b[39;49;00m, datatype=\u001b[36mNone\u001b[39;49;00m, scope=\u001b[36mNone\u001b[39;49;00m,\n",
      "0045:                        argstype=\u001b[36mNone\u001b[39;49;00m):\n",
      "0046:         attrib = {\u001b[33m'\u001b[39;49;00m\u001b[33mkind\u001b[39;49;00m\u001b[33m'\u001b[39;49;00m: kind}\n",
      "0047:         \u001b[34mif\u001b[39;49;00m \u001b[35mnot\u001b[39;49;00m nargs \u001b[35mis\u001b[39;49;00m \u001b[36mNone\u001b[39;49;00m:\n",
      "0048:             attrib[\u001b[33m'\u001b[39;49;00m\u001b[33mnargs\u001b[39;49;00m\u001b[33m'\u001b[39;49;00m] = nargs\n",
      "0049:         \u001b[34mif\u001b[39;49;00m \u001b[35mnot\u001b[39;49;00m datatype \u001b[35mis\u001b[39;49;00m \u001b[36mNone\u001b[39;49;00m:\n",
      "0050:             attrib[\u001b[33m'\u001b[39;49;00m\u001b[33mdatatype\u001b[39;49;00m\u001b[33m'\u001b[39;49;00m] = datatype\n",
      "0051:         \u001b[34mif\u001b[39;49;00m \u001b[35mnot\u001b[39;49;00m scope \u001b[35mis\u001b[39;49;00m \u001b[36mNone\u001b[39;49;00m:\n",
      "0052:             attrib[\u001b[33m'\u001b[39;49;00m\u001b[33mscope\u001b[39;49;00m\u001b[33m'\u001b[39;49;00m] = scope\n",
      "0053:         \u001b[34mif\u001b[39;49;00m \u001b[35mnot\u001b[39;49;00m argstype \u001b[35mis\u001b[39;49;00m \u001b[36mNone\u001b[39;49;00m:\n",
      "0054:             attrib[\u001b[33m'\u001b[39;49;00m\u001b[33margstype\u001b[39;49;00m\u001b[33m'\u001b[39;49;00m] = argstype\n",
      "0055:         SYMBOLTABLE.append(dt.TreeNode(tag=symbol, attrib=attrib))\n",
      "0056: \n",
      "0057:     \u001b[34mdef\u001b[39;49;00m \u001b[32msymbol_table\u001b[39;49;00m(node):\n",
      "0058: \n",
      "0059:         \u001b[34mif\u001b[39;49;00m node.tag == \u001b[33m'\u001b[39;49;00m\u001b[33mFUNCTION\u001b[39;49;00m\u001b[33m'\u001b[39;49;00m:\n",
      "0060: \n",
      "0061:             \u001b[37m# varifica que la funcion\u001b[39;49;00m\n",
      "0062:             \u001b[37m# no exista en la tabla de simbolos\u001b[39;49;00m\n",
      "0063:             \u001b[34mif\u001b[39;49;00m \u001b[35mnot\u001b[39;49;00m find_symbol(node.get(\u001b[33m'\u001b[39;49;00m\u001b[33mvalue\u001b[39;49;00m\u001b[33m'\u001b[39;49;00m)) \u001b[35mis\u001b[39;49;00m \u001b[36mNone\u001b[39;49;00m:\n",
      "0064:                 yyerror(node, \u001b[33m'\u001b[39;49;00m\u001b[33malready defined\u001b[39;49;00m\u001b[33m'\u001b[39;49;00m)\n",
      "0065: \n",
      "0066:             \u001b[37m# cuenta el numero de argumentos\u001b[39;49;00m\n",
      "0067:             nargs = \u001b[36mlen\u001b[39;49;00m(node._children[\u001b[34m0\u001b[39;49;00m])\n",
      "0068: \n",
      "0069:             \u001b[37m# inserta la función en la tabla de simbolos\u001b[39;49;00m\n",
      "0070:             install_symbol( symbol   = node.get(\u001b[33m'\u001b[39;49;00m\u001b[33mvalue\u001b[39;49;00m\u001b[33m'\u001b[39;49;00m),\n",
      "0071:                             kind     = \u001b[33m'\u001b[39;49;00m\u001b[33mufun\u001b[39;49;00m\u001b[33m'\u001b[39;49;00m,\n",
      "0072:                             scope    = node.get(\u001b[33m'\u001b[39;49;00m\u001b[33mscope\u001b[39;49;00m\u001b[33m'\u001b[39;49;00m),\n",
      "0073:                             nargs    = nargs,\n",
      "0074:                             datatype = node.get(\u001b[33m'\u001b[39;49;00m\u001b[33mdatatype\u001b[39;49;00m\u001b[33m'\u001b[39;49;00m))\n",
      "0075: \n",
      "0076:             argstype = []\n",
      "0077:             \u001b[34mfor\u001b[39;49;00m arg \u001b[35min\u001b[39;49;00m node[\u001b[34m0\u001b[39;49;00m]:\n",
      "0078:                 argstype.append(arg.get(\u001b[33m'\u001b[39;49;00m\u001b[33mdatatype\u001b[39;49;00m\u001b[33m'\u001b[39;49;00m))\n",
      "0079:             symbol = find_symbol(node.attrib[\u001b[33m'\u001b[39;49;00m\u001b[33mvalue\u001b[39;49;00m\u001b[33m'\u001b[39;49;00m])\n",
      "0080:             symbol.set(\u001b[33m'\u001b[39;49;00m\u001b[33margstype\u001b[39;49;00m\u001b[33m'\u001b[39;49;00m, argstype)\n",
      "0081: \n",
      "0082:             \u001b[37m# inserta la variable de retorno\u001b[39;49;00m\n",
      "0083:             install_symbol( symbol   = \u001b[33m'\u001b[39;49;00m\u001b[33m__return__\u001b[39;49;00m\u001b[33m'\u001b[39;49;00m,\n",
      "0084:                             kind     = \u001b[33m'\u001b[39;49;00m\u001b[33muvar\u001b[39;49;00m\u001b[33m'\u001b[39;49;00m,\n",
      "0085:                             scope    = node.get(\u001b[33m'\u001b[39;49;00m\u001b[33mscope\u001b[39;49;00m\u001b[33m'\u001b[39;49;00m),\n",
      "0086:                             datatype = node.get(\u001b[33m'\u001b[39;49;00m\u001b[33mdatatype\u001b[39;49;00m\u001b[33m'\u001b[39;49;00m))\n",
      "0087: \n",
      "0088: \n",
      "0089:         \u001b[37m# tipos de nodos que instalan variables\u001b[39;49;00m\n",
      "0090:         \u001b[34mif\u001b[39;49;00m node.tag == \u001b[33m'\u001b[39;49;00m\u001b[33mARGS\u001b[39;49;00m\u001b[33m'\u001b[39;49;00m:\n",
      "0091:             \u001b[34mfor\u001b[39;49;00m arg \u001b[35min\u001b[39;49;00m node:\n",
      "0092:                 r = find_symbol(arg.get(\u001b[33m'\u001b[39;49;00m\u001b[33mvalue\u001b[39;49;00m\u001b[33m'\u001b[39;49;00m), arg.get(\u001b[33m'\u001b[39;49;00m\u001b[33mscope\u001b[39;49;00m\u001b[33m'\u001b[39;49;00m))\n",
      "0093:                 \u001b[34mif\u001b[39;49;00m \u001b[35mnot\u001b[39;49;00m r \u001b[35mis\u001b[39;49;00m \u001b[36mNone\u001b[39;49;00m:\n",
      "0094:                     yyerror(arg, \u001b[33m'\u001b[39;49;00m\u001b[33malready defined\u001b[39;49;00m\u001b[33m'\u001b[39;49;00m)\n",
      "0095:                 install_symbol( symbol   = arg.get(\u001b[33m'\u001b[39;49;00m\u001b[33mvalue\u001b[39;49;00m\u001b[33m'\u001b[39;49;00m),\n",
      "0096:                                 kind     = \u001b[33m'\u001b[39;49;00m\u001b[33muvar\u001b[39;49;00m\u001b[33m'\u001b[39;49;00m,\n",
      "0097:                                 scope    = arg.get(\u001b[33m'\u001b[39;49;00m\u001b[33mscope\u001b[39;49;00m\u001b[33m'\u001b[39;49;00m),\n",
      "0098:                                 datatype = arg.get(\u001b[33m'\u001b[39;49;00m\u001b[33mdatatype\u001b[39;49;00m\u001b[33m'\u001b[39;49;00m))\n",
      "0099: \n",
      "0100:         \u001b[34mif\u001b[39;49;00m node.tag == \u001b[33m'\u001b[39;49;00m\u001b[33mVAR\u001b[39;49;00m\u001b[33m'\u001b[39;49;00m:\n",
      "0101:             \u001b[34mfor\u001b[39;49;00m arg \u001b[35min\u001b[39;49;00m node:\n",
      "0102:                 r = find_symbol(arg.get(\u001b[33m'\u001b[39;49;00m\u001b[33mvalue\u001b[39;49;00m\u001b[33m'\u001b[39;49;00m), arg.get(\u001b[33m'\u001b[39;49;00m\u001b[33mscope\u001b[39;49;00m\u001b[33m'\u001b[39;49;00m))\n",
      "0103:                 \u001b[34mif\u001b[39;49;00m \u001b[35mnot\u001b[39;49;00m r \u001b[35mis\u001b[39;49;00m \u001b[36mNone\u001b[39;49;00m:\n",
      "0104:                     yyerror(arg, \u001b[33m'\u001b[39;49;00m\u001b[33malready defined\u001b[39;49;00m\u001b[33m'\u001b[39;49;00m)\n",
      "0105:                 install_symbol( symbol   = arg.get(\u001b[33m'\u001b[39;49;00m\u001b[33mvalue\u001b[39;49;00m\u001b[33m'\u001b[39;49;00m),\n",
      "0106:                                 kind     = \u001b[33m'\u001b[39;49;00m\u001b[33muvar\u001b[39;49;00m\u001b[33m'\u001b[39;49;00m,\n",
      "0107:                                 scope    = arg.get(\u001b[33m'\u001b[39;49;00m\u001b[33mscope\u001b[39;49;00m\u001b[33m'\u001b[39;49;00m),\n",
      "0108:                                 datatype = arg.get(\u001b[33m'\u001b[39;49;00m\u001b[33mdatatype\u001b[39;49;00m\u001b[33m'\u001b[39;49;00m))\n",
      "0109: \n",
      "0110: \n",
      "0111: \n",
      "0112: \n",
      "0113:         \u001b[34mif\u001b[39;49;00m node.tag \u001b[35min\u001b[39;49;00m (\u001b[33m'\u001b[39;49;00m\u001b[33mBFCALL\u001b[39;49;00m\u001b[33m'\u001b[39;49;00m,\n",
      "0114:                         \u001b[33m'\u001b[39;49;00m\u001b[33mUFCALL\u001b[39;49;00m\u001b[33m'\u001b[39;49;00m):\n",
      "0115: \n",
      "0116:             f = find_symbol(node.get(\u001b[33m'\u001b[39;49;00m\u001b[33mvalue\u001b[39;49;00m\u001b[33m'\u001b[39;49;00m))\n",
      "0117:             \u001b[34mif\u001b[39;49;00m f \u001b[35mis\u001b[39;49;00m \u001b[36mNone\u001b[39;49;00m:\n",
      "0118:                 yyerror(node, \u001b[33m'\u001b[39;49;00m\u001b[33mnot defined\u001b[39;49;00m\u001b[33m'\u001b[39;49;00m)\n",
      "0119: \n",
      "0120:             node.set(\u001b[33m'\u001b[39;49;00m\u001b[33mdatatype\u001b[39;49;00m\u001b[33m'\u001b[39;49;00m, f.get(\u001b[33m'\u001b[39;49;00m\u001b[33mdatatype\u001b[39;49;00m\u001b[33m'\u001b[39;49;00m))\n",
      "0121: \n",
      "0122:             nargs = \u001b[36mlen\u001b[39;49;00m(node)\n",
      "0123:             \u001b[34mif\u001b[39;49;00m nargs != f.get(\u001b[33m'\u001b[39;49;00m\u001b[33mnargs\u001b[39;49;00m\u001b[33m'\u001b[39;49;00m):\n",
      "0124:                 msg = \u001b[33m'\u001b[39;49;00m\u001b[33m{}:Semantic error at line {}: \u001b[39;49;00m\u001b[33m'\u001b[39;49;00m.format(filename, node.get(\u001b[33m'\u001b[39;49;00m\u001b[33mlineno\u001b[39;49;00m\u001b[33m'\u001b[39;49;00m))\n",
      "0125:                 msg += \u001b[33m'\u001b[39;49;00m\u001b[33mInvalid number of arguments for function <{}>\u001b[39;49;00m\u001b[33m'\u001b[39;49;00m.format(node.get(\u001b[33m'\u001b[39;49;00m\u001b[33mvalue\u001b[39;49;00m\u001b[33m'\u001b[39;49;00m))\n",
      "0126:                 \u001b[37m# msg += '--> ' + SOURCECODE[node.get('lineno')].text\u001b[39;49;00m\n",
      "0127:                 \u001b[34mprint\u001b[39;49;00m(msg)\n",
      "0128:                 sys.exit()\n",
      "0129: \n",
      "0130: \n",
      "0131:         \u001b[34mfor\u001b[39;49;00m b \u001b[35min\u001b[39;49;00m node:\n",
      "0132:             symbol_table(b)\n",
      "0133: \n",
      "0134:     \u001b[37m# rutina principal.\u001b[39;49;00m\n",
      "0135:     \u001b[37m#   instalacion de funciones internas\u001b[39;49;00m\n",
      "0136:     \u001b[37m#   soportadas por la maquina virtual\u001b[39;49;00m\n",
      "0137: \n",
      "0138:     install_symbol( symbol   = \u001b[33m'\u001b[39;49;00m\u001b[33m$chs\u001b[39;49;00m\u001b[33m'\u001b[39;49;00m,\n",
      "0139:                     kind     = \u001b[33m'\u001b[39;49;00m\u001b[33mbfun\u001b[39;49;00m\u001b[33m'\u001b[39;49;00m,\n",
      "0140:                     nargs    = \u001b[34m1\u001b[39;49;00m,\n",
      "0141:                     datatype = \u001b[33m'\u001b[39;49;00m\u001b[33mnum\u001b[39;49;00m\u001b[33m'\u001b[39;49;00m,\n",
      "0142:                     argstype = [\u001b[33m'\u001b[39;49;00m\u001b[33mnum\u001b[39;49;00m\u001b[33m'\u001b[39;49;00m])\n",
      "0143: \n",
      "0144:     install_symbol( symbol   = \u001b[33m'\u001b[39;49;00m\u001b[33m$abs\u001b[39;49;00m\u001b[33m'\u001b[39;49;00m,\n",
      "0145:                     kind     = \u001b[33m'\u001b[39;49;00m\u001b[33mbfun\u001b[39;49;00m\u001b[33m'\u001b[39;49;00m,\n",
      "0146:                     nargs    = \u001b[34m1\u001b[39;49;00m,\n",
      "0147:                     datatype = \u001b[33m'\u001b[39;49;00m\u001b[33mnum\u001b[39;49;00m\u001b[33m'\u001b[39;49;00m,\n",
      "0148:                     argstype = [\u001b[33m'\u001b[39;49;00m\u001b[33mnum\u001b[39;49;00m\u001b[33m'\u001b[39;49;00m])\n",
      "0149: \n",
      "0150:     install_symbol( symbol   = \u001b[33m'\u001b[39;49;00m\u001b[33m$sgn\u001b[39;49;00m\u001b[33m'\u001b[39;49;00m,\n",
      "0151:                     kind     = \u001b[33m'\u001b[39;49;00m\u001b[33mbfun\u001b[39;49;00m\u001b[33m'\u001b[39;49;00m,\n",
      "0152:                     nargs    = \u001b[34m1\u001b[39;49;00m,\n",
      "0153:                     datatype = \u001b[33m'\u001b[39;49;00m\u001b[33mnum\u001b[39;49;00m\u001b[33m'\u001b[39;49;00m,\n",
      "0154:                     argstype = [\u001b[33m'\u001b[39;49;00m\u001b[33mnum\u001b[39;49;00m\u001b[33m'\u001b[39;49;00m])\n",
      "0155: \n",
      "0156: \n",
      "0157:     symbol_table(SYNTAXTREE)\n",
      "0158: \n",
      "0159: \n",
      "0160: \n",
      "0161:     \u001b[37m#\u001b[39;49;00m\n",
      "0162:     \u001b[37m# el campo entrylabel es usando para asignar el punto (label)\u001b[39;49;00m\n",
      "0163:     \u001b[37m#   de entrada para las funciones de usuario\u001b[39;49;00m\n",
      "0164:     \u001b[37m#\u001b[39;49;00m\n",
      "0165:     \u001b[37m# el campo location es usado para enumerar las posiciones\u001b[39;49;00m\n",
      "0166:     \u001b[37m#   de memoria en el registro DS que ocupan las variables\u001b[39;49;00m\n",
      "0167:     \u001b[37m#   de usuario\u001b[39;49;00m\n",
      "0168:     \u001b[37m#\u001b[39;49;00m\n",
      "0169: \n",
      "0170:     m = \u001b[34m0\u001b[39;49;00m  \u001b[37m# contador de funciones de usuario\u001b[39;49;00m\n",
      "0171:     n = \u001b[34m0\u001b[39;49;00m  \u001b[37m# contador de variables de usuario\u001b[39;49;00m\n",
      "0172: \n",
      "0173:     \u001b[34mfor\u001b[39;49;00m symbol \u001b[35min\u001b[39;49;00m SYMBOLTABLE:\n",
      "0174: \n",
      "0175:         \u001b[34mif\u001b[39;49;00m symbol.get(\u001b[33m'\u001b[39;49;00m\u001b[33mkind\u001b[39;49;00m\u001b[33m'\u001b[39;49;00m) == \u001b[33m'\u001b[39;49;00m\u001b[33mufun\u001b[39;49;00m\u001b[33m'\u001b[39;49;00m:\n",
      "0176:             symbol.set(\u001b[33m'\u001b[39;49;00m\u001b[33mentrylabel\u001b[39;49;00m\u001b[33m'\u001b[39;49;00m, m)\n",
      "0177:             m += \u001b[34m1\u001b[39;49;00m\n",
      "0178: \n",
      "0179:         \u001b[34mif\u001b[39;49;00m symbol.get(\u001b[33m'\u001b[39;49;00m\u001b[33mkind\u001b[39;49;00m\u001b[33m'\u001b[39;49;00m) == \u001b[33m'\u001b[39;49;00m\u001b[33muvar\u001b[39;49;00m\u001b[33m'\u001b[39;49;00m:\n",
      "0180:             symbol.set(\u001b[33m'\u001b[39;49;00m\u001b[33mlocation\u001b[39;49;00m\u001b[33m'\u001b[39;49;00m, n)\n",
      "0181:             n += \u001b[34m1\u001b[39;49;00m\n",
      "0182: \n",
      "0183: \n",
      "0184:     \u001b[37m#   en este punto se ha construido la tabla de simbolos\u001b[39;49;00m\n",
      "0185:     \u001b[37m#   y se procede a almacenar el resultado en un archivo\u001b[39;49;00m\n",
      "0186:     \u001b[37m#   en disco\u001b[39;49;00m\n",
      "0187:     \u001b[34mwith\u001b[39;49;00m \u001b[36mopen\u001b[39;49;00m(filename + \u001b[33m'\u001b[39;49;00m\u001b[33m.dataTree\u001b[39;49;00m\u001b[33m'\u001b[39;49;00m, \u001b[33m'\u001b[39;49;00m\u001b[33mwb\u001b[39;49;00m\u001b[33m'\u001b[39;49;00m) \u001b[34mas\u001b[39;49;00m f:\n",
      "0188:         pickle.dump(DATA, f)\n",
      "0189: \n",
      "0190:     \u001b[34mif\u001b[39;49;00m quiet == \u001b[36mFalse\u001b[39;49;00m:\n",
      "0191:         dt.printTree(SYMBOLTABLE)\n",
      "0192: \n",
      "0193: \n",
      "0194: \u001b[34mif\u001b[39;49;00m __name__ == \u001b[33m'\u001b[39;49;00m\u001b[33m__main__\u001b[39;49;00m\u001b[33m'\u001b[39;49;00m:\n",
      "0195: \n",
      "0196: \n",
      "0197:     \u001b[34mif\u001b[39;49;00m \u001b[36mlen\u001b[39;49;00m(sys.argv) > \u001b[34m1\u001b[39;49;00m:\n",
      "0198:         \u001b[34mfor\u001b[39;49;00m filename \u001b[35min\u001b[39;49;00m sys.argv[\u001b[34m1\u001b[39;49;00m:]:\n",
      "0199:             yysymboltab(filename)\n",
      "0200:     \u001b[34melse\u001b[39;49;00m:\n",
      "0201:         filename = \u001b[36minput\u001b[39;49;00m()\n",
      "0202:         yysymboltab(filename)\n",
      "0203: \n"
     ]
    }
   ],
   "source": [
    "%%sh\n",
    "pygmentize -O linenos=1 -g yysymboltab.py"
   ]
  },
  {
   "cell_type": "markdown",
   "metadata": {},
   "source": [
    "---"
   ]
  },
  {
   "cell_type": "markdown",
   "metadata": {},
   "source": [
    "# Verificación de Tipos"
   ]
  },
  {
   "cell_type": "markdown",
   "metadata": {},
   "source": [
    "[Contenido](#Contenido)"
   ]
  },
  {
   "cell_type": "markdown",
   "metadata": {},
   "source": [
    "* Se hace recorriendo el árbol sintáctico."
   ]
  },
  {
   "cell_type": "markdown",
   "metadata": {},
   "source": [
    "* Se asignan tipos a algunos nodos del árbol sintáctico durante su construcción."
   ]
  },
  {
   "cell_type": "markdown",
   "metadata": {},
   "source": [
    "* Se construye la TS recopilando información sobre los tipos."
   ]
  },
  {
   "cell_type": "markdown",
   "metadata": {},
   "source": [
    "* Se recorre el árbol agregando los tipos a los nodos y verificando operaciones"
   ]
  },
  {
   "cell_type": "markdown",
   "metadata": {},
   "source": [
    "Para facilitar la verificación de tipo se agregan propiedades a los nodos de los árboles, tal como el scope."
   ]
  },
  {
   "cell_type": "code",
   "execution_count": 38,
   "metadata": {
    "collapsed": false
   },
   "outputs": [
    {
     "name": "stdout",
     "output_type": "stream",
     "text": [
      "Overwriting example.txt\n"
     ]
    }
   ],
   "source": [
    "%%writefile example.txt\n",
    "\n",
    "function @min:num (x:num, y:num)\n",
    "   {\n",
    "   when (x < y) do return x;\n",
    "   return y;\n",
    "   }\n",
    "\n",
    "function @max:num (x:num, y:num)   \n",
    "   {\n",
    "   if (x < y) do\n",
    "       {\n",
    "       return x;\n",
    "       }\n",
    "   else\n",
    "      {                 \n",
    "      return y;\n",
    "      }\n",
    "   }\n",
    "\n",
    "write 'min 1 -> ': @min(1,2);\n",
    "write 'max 2 -> ': @max(1,2);\n",
    "\n",
    "end"
   ]
  },
  {
   "cell_type": "code",
   "execution_count": 39,
   "metadata": {
    "collapsed": false
   },
   "outputs": [
    {
     "name": "stdout",
     "output_type": "stream",
     "text": [
      "+-- TOKENTABLE\n",
      "    +-- FUNCTION {lexeme: function, lineno: 1}\n",
      "    +-- UFID {lexeme: @min, lineno: 1}\n",
      "    +-- : {lexeme: :, lineno: 1}\n",
      "    +-- DATATYPE {lexeme: num, lineno: 1}\n",
      "    +-- ( {lexeme: (, lineno: 1}\n",
      "    +-- ID {lexeme: x, lineno: 1}\n",
      "    +-- : {lexeme: :, lineno: 1}\n",
      "    +-- DATATYPE {lexeme: num, lineno: 1}\n",
      "    +-- , {lexeme: ,, lineno: 1}\n",
      "    +-- ID {lexeme: y, lineno: 1}\n",
      "    +-- : {lexeme: :, lineno: 1}\n",
      "    +-- DATATYPE {lexeme: num, lineno: 1}\n",
      "    +-- ) {lexeme: ), lineno: 1}\n",
      "    +-- { {lexeme: {, lineno: 2}\n",
      "    +-- WHEN {lexeme: when, lineno: 3}\n",
      "    +-- ( {lexeme: (, lineno: 3}\n",
      "    +-- ID {lexeme: x, lineno: 3}\n",
      "    +-- < {lexeme: <, lineno: 3}\n",
      "    +-- ID {lexeme: y, lineno: 3}\n",
      "    +-- ) {lexeme: ), lineno: 3}\n",
      "    +-- DO {lexeme: do, lineno: 3}\n",
      "    +-- RETURN {lexeme: return, lineno: 3}\n",
      "    +-- ID {lexeme: x, lineno: 3}\n",
      "    +-- ; {lexeme: ;, lineno: 3}\n",
      "    +-- RETURN {lexeme: return, lineno: 4}\n",
      "    +-- ID {lexeme: y, lineno: 4}\n",
      "    +-- ; {lexeme: ;, lineno: 4}\n",
      "    +-- } {lexeme: }, lineno: 5}\n",
      "    +-- FUNCTION {lexeme: function, lineno: 7}\n",
      "    +-- UFID {lexeme: @max, lineno: 7}\n",
      "    +-- : {lexeme: :, lineno: 7}\n",
      "    +-- DATATYPE {lexeme: num, lineno: 7}\n",
      "    +-- ( {lexeme: (, lineno: 7}\n",
      "    +-- ID {lexeme: x, lineno: 7}\n",
      "    +-- : {lexeme: :, lineno: 7}\n",
      "    +-- DATATYPE {lexeme: num, lineno: 7}\n",
      "    +-- , {lexeme: ,, lineno: 7}\n",
      "    +-- ID {lexeme: y, lineno: 7}\n",
      "    +-- : {lexeme: :, lineno: 7}\n",
      "    +-- DATATYPE {lexeme: num, lineno: 7}\n",
      "    +-- ) {lexeme: ), lineno: 7}\n",
      "    +-- { {lexeme: {, lineno: 8}\n",
      "    +-- IF {lexeme: if, lineno: 9}\n",
      "    +-- ( {lexeme: (, lineno: 9}\n",
      "    +-- ID {lexeme: x, lineno: 9}\n",
      "    +-- < {lexeme: <, lineno: 9}\n",
      "    +-- ID {lexeme: y, lineno: 9}\n",
      "    +-- ) {lexeme: ), lineno: 9}\n",
      "    +-- DO {lexeme: do, lineno: 9}\n",
      "    +-- { {lexeme: {, lineno: 10}\n",
      "    +-- RETURN {lexeme: return, lineno: 11}\n",
      "    +-- ID {lexeme: x, lineno: 11}\n",
      "    +-- ; {lexeme: ;, lineno: 11}\n",
      "    +-- } {lexeme: }, lineno: 12}\n",
      "    +-- ELSE {lexeme: else, lineno: 13}\n",
      "    +-- { {lexeme: {, lineno: 14}\n",
      "    +-- RETURN {lexeme: return, lineno: 15}\n",
      "    +-- ID {lexeme: y, lineno: 15}\n",
      "    +-- ; {lexeme: ;, lineno: 15}\n",
      "    +-- } {lexeme: }, lineno: 16}\n",
      "    +-- } {lexeme: }, lineno: 17}\n",
      "    +-- WRITE {lexeme: write, lineno: 19}\n",
      "    +-- STR {lexeme: 'min 1 -> ', lineno: 19}\n",
      "    +-- : {lexeme: :, lineno: 19}\n",
      "    +-- UFID {lexeme: @min, lineno: 19}\n",
      "    +-- ( {lexeme: (, lineno: 19}\n",
      "    +-- NUM {lexeme: 1, lineno: 19}\n",
      "    +-- , {lexeme: ,, lineno: 19}\n",
      "    +-- NUM {lexeme: 2, lineno: 19}\n",
      "    +-- ) {lexeme: ), lineno: 19}\n",
      "    +-- ; {lexeme: ;, lineno: 19}\n",
      "    +-- WRITE {lexeme: write, lineno: 20}\n",
      "    +-- STR {lexeme: 'max 2 -> ', lineno: 20}\n",
      "    +-- : {lexeme: :, lineno: 20}\n",
      "    +-- UFID {lexeme: @max, lineno: 20}\n",
      "    +-- ( {lexeme: (, lineno: 20}\n",
      "    +-- NUM {lexeme: 1, lineno: 20}\n",
      "    +-- , {lexeme: ,, lineno: 20}\n",
      "    +-- NUM {lexeme: 2, lineno: 20}\n",
      "    +-- ) {lexeme: ), lineno: 20}\n",
      "    +-- ; {lexeme: ;, lineno: 20}\n",
      "    +-- END {lexeme: end, lineno: 22}\n",
      "    +-- END {lexeme: end, lineno: 1}\n"
     ]
    }
   ],
   "source": [
    "%%sh \n",
    "python yylex.py example.txt"
   ]
  },
  {
   "cell_type": "code",
   "execution_count": 40,
   "metadata": {
    "collapsed": false
   },
   "outputs": [
    {
     "name": "stdout",
     "output_type": "stream",
     "text": [
      "+-- SYNTAXTREE\n",
      "    +-- FUNCTIONDECL {lineno: 1}\n",
      "    |   +-- FUNCTION {datatype: num, lineno: 1, scope: 1, value: @min}\n",
      "    |   |   +-- ARGS {lineno: 1}\n",
      "    |   |   |   +-- ID {datatype: num, lineno: 1, scope: 1, value: x}\n",
      "    |   |   |   +-- ID {datatype: num, lineno: 1, scope: 1, value: y}\n",
      "    |   |   +-- BLOCK {lineno: 3}\n",
      "    |   |       +-- WHEN {lineno: 3}\n",
      "    |   |       |   +-- < {datatype: bool, lineno: 3}\n",
      "    |   |       |   |   +-- ID {lineno: 3, scope: 1, value: x}\n",
      "    |   |       |   |   +-- ID {lineno: 3, scope: 1, value: y}\n",
      "    |   |       |   +-- RETURN {datatype: num, lineno: 3, scope: 1, value: __return__}\n",
      "    |   |       |       +-- ID {lineno: 3, scope: 1, value: x}\n",
      "    |   |       +-- RETURN {datatype: num, lineno: 4, scope: 1, value: __return__}\n",
      "    |   |           +-- ID {lineno: 4, scope: 1, value: y}\n",
      "    |   +-- FUNCTION {datatype: num, lineno: 7, scope: 2, value: @max}\n",
      "    |       +-- ARGS {lineno: 7}\n",
      "    |       |   +-- ID {datatype: num, lineno: 7, scope: 2, value: x}\n",
      "    |       |   +-- ID {datatype: num, lineno: 7, scope: 2, value: y}\n",
      "    |       +-- BLOCK {lineno: 9}\n",
      "    |           +-- IF {lineno: 9}\n",
      "    |               +-- < {datatype: bool, lineno: 9}\n",
      "    |               |   +-- ID {lineno: 9, scope: 2, value: x}\n",
      "    |               |   +-- ID {lineno: 9, scope: 2, value: y}\n",
      "    |               +-- BLOCK {lineno: 11}\n",
      "    |               |   +-- RETURN {datatype: num, lineno: 11, scope: 2, value: __return__}\n",
      "    |               |       +-- ID {lineno: 11, scope: 2, value: x}\n",
      "    |               +-- BLOCK {lineno: 15}\n",
      "    |                   +-- RETURN {datatype: num, lineno: 15, scope: 2, value: __return__}\n",
      "    |                       +-- ID {lineno: 15, scope: 2, value: y}\n",
      "    +-- MAINPROG {lineno: 19}\n",
      "        +-- WRITE {lineno: 19}\n",
      "        |   +-- STR {datatype: str, lineno: 19, value: 'min 1 -> '}\n",
      "        |   +-- UFCALL {lineno: 19, value: @min}\n",
      "        |       +-- NUM {datatype: num, lineno: 19, value: 1}\n",
      "        |       +-- NUM {datatype: num, lineno: 19, value: 2}\n",
      "        +-- WRITE {lineno: 20}\n",
      "        |   +-- STR {datatype: str, lineno: 20, value: 'max 2 -> '}\n",
      "        |   +-- UFCALL {lineno: 20, value: @max}\n",
      "        |       +-- NUM {datatype: num, lineno: 20, value: 1}\n",
      "        |       +-- NUM {datatype: num, lineno: 20, value: 2}\n",
      "        +-- END {lineno: 22}\n"
     ]
    }
   ],
   "source": [
    "%%sh \n",
    "python yyparse.py example.txt"
   ]
  },
  {
   "cell_type": "code",
   "execution_count": 41,
   "metadata": {
    "collapsed": false
   },
   "outputs": [
    {
     "name": "stdout",
     "output_type": "stream",
     "text": [
      "+-- SYMBOLTABLE\n",
      "    +-- $chs {argstype: ['num'], datatype: num, kind: bfun, nargs: 1}\n",
      "    +-- $abs {argstype: ['num'], datatype: num, kind: bfun, nargs: 1}\n",
      "    +-- $sgn {argstype: ['num'], datatype: num, kind: bfun, nargs: 1}\n",
      "    +-- @min {argstype: ['num', 'num'], datatype: num, entrylabel: 0, kind: ufun, nargs: 2, scope: 1}\n",
      "    +-- __return__ {datatype: num, kind: uvar, location: 0, scope: 1}\n",
      "    +-- x {datatype: num, kind: uvar, location: 1, scope: 1}\n",
      "    +-- y {datatype: num, kind: uvar, location: 2, scope: 1}\n",
      "    +-- @max {argstype: ['num', 'num'], datatype: num, entrylabel: 1, kind: ufun, nargs: 2, scope: 2}\n",
      "    +-- __return__ {datatype: num, kind: uvar, location: 3, scope: 2}\n",
      "    +-- x {datatype: num, kind: uvar, location: 4, scope: 2}\n",
      "    +-- y {datatype: num, kind: uvar, location: 5, scope: 2}\n"
     ]
    }
   ],
   "source": [
    "%%sh \n",
    "python yysymboltab.py example.txt"
   ]
  },
  {
   "cell_type": "code",
   "execution_count": 42,
   "metadata": {
    "collapsed": false
   },
   "outputs": [
    {
     "name": "stdout",
     "output_type": "stream",
     "text": [
      "+-- SYNTAXTREE\n",
      "    +-- FUNCTIONDECL {lineno: 1}\n",
      "    |   +-- FUNCTION {datatype: num, lineno: 1, scope: 1, value: @min}\n",
      "    |   |   +-- ARGS {lineno: 1}\n",
      "    |   |   |   +-- ID {datatype: num, lineno: 1, scope: 1, value: x}\n",
      "    |   |   |   +-- ID {datatype: num, lineno: 1, scope: 1, value: y}\n",
      "    |   |   +-- BLOCK {lineno: 3}\n",
      "    |   |       +-- WHEN {lineno: 3}\n",
      "    |   |       |   +-- < {datatype: bool, lineno: 3}\n",
      "    |   |       |   |   +-- ID {datatype: num, lineno: 3, scope: 1, value: x}\n",
      "    |   |       |   |   +-- ID {datatype: num, lineno: 3, scope: 1, value: y}\n",
      "    |   |       |   +-- RETURN {datatype: num, lineno: 3, scope: 1, value: __return__}\n",
      "    |   |       |       +-- ID {datatype: num, lineno: 3, scope: 1, value: x}\n",
      "    |   |       +-- RETURN {datatype: num, lineno: 4, scope: 1, value: __return__}\n",
      "    |   |           +-- ID {datatype: num, lineno: 4, scope: 1, value: y}\n",
      "    |   +-- FUNCTION {datatype: num, lineno: 7, scope: 2, value: @max}\n",
      "    |       +-- ARGS {lineno: 7}\n",
      "    |       |   +-- ID {datatype: num, lineno: 7, scope: 2, value: x}\n",
      "    |       |   +-- ID {datatype: num, lineno: 7, scope: 2, value: y}\n",
      "    |       +-- BLOCK {lineno: 9}\n",
      "    |           +-- IF {lineno: 9}\n",
      "    |               +-- < {datatype: bool, lineno: 9}\n",
      "    |               |   +-- ID {datatype: num, lineno: 9, scope: 2, value: x}\n",
      "    |               |   +-- ID {datatype: num, lineno: 9, scope: 2, value: y}\n",
      "    |               +-- BLOCK {lineno: 11}\n",
      "    |               |   +-- RETURN {datatype: num, lineno: 11, scope: 2, value: __return__}\n",
      "    |               |       +-- ID {datatype: num, lineno: 11, scope: 2, value: x}\n",
      "    |               +-- BLOCK {lineno: 15}\n",
      "    |                   +-- RETURN {datatype: num, lineno: 15, scope: 2, value: __return__}\n",
      "    |                       +-- ID {datatype: num, lineno: 15, scope: 2, value: y}\n",
      "    +-- MAINPROG {lineno: 19}\n",
      "        +-- WRITE {lineno: 19}\n",
      "        |   +-- STR {datatype: str, lineno: 19, value: 'min 1 -> '}\n",
      "        |   +-- UFCALL {datatype: num, lineno: 19, value: @min}\n",
      "        |       +-- NUM {datatype: num, lineno: 19, value: 1}\n",
      "        |       +-- NUM {datatype: num, lineno: 19, value: 2}\n",
      "        +-- WRITE {lineno: 20}\n",
      "        |   +-- STR {datatype: str, lineno: 20, value: 'max 2 -> '}\n",
      "        |   +-- UFCALL {datatype: num, lineno: 20, value: @max}\n",
      "        |       +-- NUM {datatype: num, lineno: 20, value: 1}\n",
      "        |       +-- NUM {datatype: num, lineno: 20, value: 2}\n",
      "        +-- END {lineno: 22}\n"
     ]
    }
   ],
   "source": [
    "%%sh \n",
    "python yytypecheck.py example.txt"
   ]
  },
  {
   "cell_type": "markdown",
   "metadata": {},
   "source": [
    "### Implementación"
   ]
  },
  {
   "cell_type": "markdown",
   "metadata": {},
   "source": [
    "[Contenido](#Contenido)"
   ]
  },
  {
   "cell_type": "code",
   "execution_count": 37,
   "metadata": {
    "collapsed": false,
    "scrolled": false
   },
   "outputs": [
    {
     "name": "stdout",
     "output_type": "stream",
     "text": [
      "0001: \u001b[37m###< 2016-08-28 17:04:40.184297 >###\u001b[39;49;00m\n",
      "0002: \n",
      "0003: \u001b[37m#\u001b[39;49;00m\n",
      "0004: \u001b[37m#  yytypecheck.py\u001b[39;49;00m\n",
      "0005: \u001b[37m#    verificador de tipos\u001b[39;49;00m\n",
      "0006: \u001b[37m#\u001b[39;49;00m\n",
      "0007: \n",
      "0008: \u001b[34mimport\u001b[39;49;00m \u001b[04m\u001b[36mshlex\u001b[39;49;00m, \u001b[04m\u001b[36msys\u001b[39;49;00m, \u001b[04m\u001b[36mpickle\u001b[39;49;00m\n",
      "0009: \u001b[34mimport\u001b[39;49;00m \u001b[04m\u001b[36mdataTree\u001b[39;49;00m \u001b[34mas\u001b[39;49;00m \u001b[04m\u001b[36mdt\u001b[39;49;00m\n",
      "0010: \n",
      "0011: \n",
      "0012: \n",
      "0013: \u001b[34mdef\u001b[39;49;00m \u001b[32myytypecheck\u001b[39;49;00m(filename, quiet=\u001b[36mFalse\u001b[39;49;00m):\n",
      "0014: \n",
      "0015:     \u001b[37m# lee la estructura de datos\u001b[39;49;00m\n",
      "0016:     \u001b[34mwith\u001b[39;49;00m \u001b[36mopen\u001b[39;49;00m(filename + \u001b[33m'\u001b[39;49;00m\u001b[33m.dataTree\u001b[39;49;00m\u001b[33m'\u001b[39;49;00m, \u001b[33m'\u001b[39;49;00m\u001b[33mrb\u001b[39;49;00m\u001b[33m'\u001b[39;49;00m) \u001b[34mas\u001b[39;49;00m f:\n",
      "0017:         DATA = pickle.load(f)\n",
      "0018: \n",
      "0019:     SOURCECODE  = DATA.find(\u001b[33m'\u001b[39;49;00m\u001b[33mSOURCECODE\u001b[39;49;00m\u001b[33m'\u001b[39;49;00m)\n",
      "0020:     TOKENTABLE  = DATA.find(\u001b[33m'\u001b[39;49;00m\u001b[33mTOKENTABLE\u001b[39;49;00m\u001b[33m'\u001b[39;49;00m)\n",
      "0021:     SYNTAXTREE  = DATA.find(\u001b[33m'\u001b[39;49;00m\u001b[33mSYNTAXTREE\u001b[39;49;00m\u001b[33m'\u001b[39;49;00m)\n",
      "0022:     SYMBOLTABLE = DATA.find(\u001b[33m'\u001b[39;49;00m\u001b[33mSYMBOLTABLE\u001b[39;49;00m\u001b[33m'\u001b[39;49;00m)\n",
      "0023: \n",
      "0024: \n",
      "0025:     \u001b[34mdef\u001b[39;49;00m \u001b[32myyerror\u001b[39;49;00m(node):\n",
      "0026:         msg = \u001b[33m'\u001b[39;49;00m\u001b[33m{}:Type error at line {}: \u001b[39;49;00m\u001b[33m'\u001b[39;49;00m.format(filename, node.get(\u001b[33m'\u001b[39;49;00m\u001b[33mlineno\u001b[39;49;00m\u001b[33m'\u001b[39;49;00m))\n",
      "0027:         msg += \u001b[33m'\u001b[39;49;00m\u001b[33mInvalid type <{}> found\u001b[39;49;00m\u001b[33m'\u001b[39;49;00m.format(node.get(\u001b[33m'\u001b[39;49;00m\u001b[33mdatatype\u001b[39;49;00m\u001b[33m'\u001b[39;49;00m))\n",
      "0028:         \u001b[34mprint\u001b[39;49;00m(msg)\n",
      "0029:         sys.exit()\n",
      "0030: \n",
      "0031:     \u001b[34mdef\u001b[39;49;00m \u001b[32mfind_symbol\u001b[39;49;00m(symbol, scope=\u001b[36mNone\u001b[39;49;00m):\n",
      "0032:         \u001b[34mif\u001b[39;49;00m scope \u001b[35mis\u001b[39;49;00m \u001b[36mNone\u001b[39;49;00m:\n",
      "0033:             \u001b[37m# se esta buscando una funcion\u001b[39;49;00m\n",
      "0034:             \u001b[34mreturn\u001b[39;49;00m SYMBOLTABLE.find(symbol)\n",
      "0035:         \u001b[34mreturn\u001b[39;49;00m SYMBOLTABLE.search(symbol, \u001b[33m'\u001b[39;49;00m\u001b[33mscope\u001b[39;49;00m\u001b[33m'\u001b[39;49;00m, scope)\n",
      "0036: \n",
      "0037: \n",
      "0038:     \u001b[34mdef\u001b[39;49;00m \u001b[32mtypecheck\u001b[39;49;00m(node):\n",
      "0039: \n",
      "0040:         \u001b[37m# verifica los nodos hijos primero\u001b[39;49;00m\n",
      "0041:         \u001b[34mfor\u001b[39;49;00m n \u001b[35min\u001b[39;49;00m node:\n",
      "0042:             typecheck(n)\n",
      "0043: \n",
      "0044:         \u001b[34mif\u001b[39;49;00m node.tag \u001b[35mis\u001b[39;49;00m (\u001b[33m'\u001b[39;49;00m\u001b[33mWHEN\u001b[39;49;00m\u001b[33m'\u001b[39;49;00m,\n",
      "0045:                         \u001b[33m'\u001b[39;49;00m\u001b[33mIF\u001b[39;49;00m\u001b[33m'\u001b[39;49;00m,\n",
      "0046:                         \u001b[33m'\u001b[39;49;00m\u001b[33mWHILE\u001b[39;49;00m\u001b[33m'\u001b[39;49;00m):\n",
      "0047: \n",
      "0048:             \u001b[34mif\u001b[39;49;00m node[\u001b[34m0\u001b[39;49;00m].get(\u001b[33m'\u001b[39;49;00m\u001b[33mdatatype\u001b[39;49;00m\u001b[33m'\u001b[39;49;00m) != \u001b[33m'\u001b[39;49;00m\u001b[33mbool\u001b[39;49;00m\u001b[33m'\u001b[39;49;00m:\n",
      "0049:                 yyerror(n[\u001b[34m0\u001b[39;49;00m])\n",
      "0050: \n",
      "0051: \n",
      "0052: \n",
      "0053:         \u001b[34mif\u001b[39;49;00m node.tag == \u001b[33m'\u001b[39;49;00m\u001b[33mASSIGN\u001b[39;49;00m\u001b[33m'\u001b[39;49;00m:\n",
      "0054:             n = find_symbol(node.get(\u001b[33m'\u001b[39;49;00m\u001b[33mvalue\u001b[39;49;00m\u001b[33m'\u001b[39;49;00m), node.get(\u001b[33m'\u001b[39;49;00m\u001b[33mscope\u001b[39;49;00m\u001b[33m'\u001b[39;49;00m))\n",
      "0055:             \u001b[34mif\u001b[39;49;00m n.get(\u001b[33m'\u001b[39;49;00m\u001b[33mdatatype\u001b[39;49;00m\u001b[33m'\u001b[39;49;00m) != node[\u001b[34m0\u001b[39;49;00m].get(\u001b[33m'\u001b[39;49;00m\u001b[33mdatatype\u001b[39;49;00m\u001b[33m'\u001b[39;49;00m):\n",
      "0056:                 yyerror(node)\n",
      "0057: \n",
      "0058: \n",
      "0059:         \u001b[34mif\u001b[39;49;00m node.tag == \u001b[33m'\u001b[39;49;00m\u001b[33mID\u001b[39;49;00m\u001b[33m'\u001b[39;49;00m:\n",
      "0060:             n = find_symbol(node.get(\u001b[33m'\u001b[39;49;00m\u001b[33mvalue\u001b[39;49;00m\u001b[33m'\u001b[39;49;00m), node.get(\u001b[33m'\u001b[39;49;00m\u001b[33mscope\u001b[39;49;00m\u001b[33m'\u001b[39;49;00m))\n",
      "0061:             node.set(\u001b[33m'\u001b[39;49;00m\u001b[33mdatatype\u001b[39;49;00m\u001b[33m'\u001b[39;49;00m, n.get(\u001b[33m'\u001b[39;49;00m\u001b[33mdatatype\u001b[39;49;00m\u001b[33m'\u001b[39;49;00m))\n",
      "0062: \n",
      "0063: \n",
      "0064:         \u001b[34mif\u001b[39;49;00m node.tag \u001b[35min\u001b[39;49;00m (\u001b[33m'\u001b[39;49;00m\u001b[33m<\u001b[39;49;00m\u001b[33m'\u001b[39;49;00m,\n",
      "0065:                         \u001b[33m'\u001b[39;49;00m\u001b[33m<=\u001b[39;49;00m\u001b[33m'\u001b[39;49;00m):\n",
      "0066: \n",
      "0067:             \u001b[34mif\u001b[39;49;00m node[\u001b[34m0\u001b[39;49;00m].get(\u001b[33m'\u001b[39;49;00m\u001b[33mdatatype\u001b[39;49;00m\u001b[33m'\u001b[39;49;00m) != \u001b[33m'\u001b[39;49;00m\u001b[33mnum\u001b[39;49;00m\u001b[33m'\u001b[39;49;00m:\n",
      "0068:                 yyerror(node[\u001b[34m0\u001b[39;49;00m])\n",
      "0069:             \u001b[34mif\u001b[39;49;00m node[\u001b[34m1\u001b[39;49;00m].get(\u001b[33m'\u001b[39;49;00m\u001b[33mdatatype\u001b[39;49;00m\u001b[33m'\u001b[39;49;00m) != \u001b[33m'\u001b[39;49;00m\u001b[33mnum\u001b[39;49;00m\u001b[33m'\u001b[39;49;00m:\n",
      "0070:                 yyerror(node[\u001b[34m1\u001b[39;49;00m])\n",
      "0071: \n",
      "0072: \n",
      "0073:         \u001b[34mif\u001b[39;49;00m node.tag == \u001b[33m'\u001b[39;49;00m\u001b[33mRETURN\u001b[39;49;00m\u001b[33m'\u001b[39;49;00m:\n",
      "0074:             \u001b[34mif\u001b[39;49;00m node[\u001b[34m0\u001b[39;49;00m].get(\u001b[33m'\u001b[39;49;00m\u001b[33mdatatype\u001b[39;49;00m\u001b[33m'\u001b[39;49;00m) != node.get(\u001b[33m'\u001b[39;49;00m\u001b[33mdatatype\u001b[39;49;00m\u001b[33m'\u001b[39;49;00m):\n",
      "0075:                 yyerror(node[\u001b[34m0\u001b[39;49;00m])\n",
      "0076: \n",
      "0077: \n",
      "0078:         \u001b[34mif\u001b[39;49;00m node.tag == \u001b[33m'\u001b[39;49;00m\u001b[33mBFID\u001b[39;49;00m\u001b[33m'\u001b[39;49;00m:\n",
      "0079:             \u001b[37m# obtiene la funcion de la tabla de simbolos\u001b[39;49;00m\n",
      "0080:             symbol = find_symbol(node.get(\u001b[33m'\u001b[39;49;00m\u001b[33mvalue\u001b[39;49;00m\u001b[33m'\u001b[39;49;00m))\n",
      "0081: \n",
      "0082:             \u001b[37m# verifica la cantidad de argumentos de la funcion\u001b[39;49;00m\n",
      "0083:             nargs = symbol.get(\u001b[33m'\u001b[39;49;00m\u001b[33mnargs\u001b[39;49;00m\u001b[33m'\u001b[39;49;00m)\n",
      "0084:             nparams = \u001b[36mlen\u001b[39;49;00m(node[\u001b[34m0\u001b[39;49;00m])\n",
      "0085: \n",
      "0086:             \u001b[34mif\u001b[39;49;00m nargs != nparams:\n",
      "0087:                 msg = \u001b[33m'\u001b[39;49;00m\u001b[33m{}:Type error at line {}:\u001b[39;49;00m\u001b[33m\\n\u001b[39;49;00m\u001b[33m'\u001b[39;49;00m.format(filename, node.get(\u001b[33m'\u001b[39;49;00m\u001b[33mlineno\u001b[39;49;00m\u001b[33m'\u001b[39;49;00m))\n",
      "0088:                 msg += \u001b[33m'\u001b[39;49;00m\u001b[33mInvalid number of arguments in function call\u001b[39;49;00m\u001b[33m'\u001b[39;49;00m\n",
      "0089:                 \u001b[37m# msg += '--> ' + SOURCECODE[node.get('lineno')].text\u001b[39;49;00m\n",
      "0090:                 \u001b[34mprint\u001b[39;49;00m(msg)\n",
      "0091:                 sys.exit()\n",
      "0092: \n",
      "0093: \n",
      "0094:             \u001b[34mfor\u001b[39;49;00m a, b \u001b[35min\u001b[39;49;00m \u001b[36mzip\u001b[39;49;00m(m, node):\n",
      "0095:                 \u001b[34mif\u001b[39;49;00m a.get(\u001b[33m'\u001b[39;49;00m\u001b[33mdatatype\u001b[39;49;00m\u001b[33m'\u001b[39;49;00m) != b.get(\u001b[33m'\u001b[39;49;00m\u001b[33mdatatype\u001b[39;49;00m\u001b[33m'\u001b[39;49;00m):\n",
      "0096:                     msg = \u001b[33m'\u001b[39;49;00m\u001b[33m{}:Type error at line {}:\u001b[39;49;00m\u001b[33m\\n\u001b[39;49;00m\u001b[33m'\u001b[39;49;00m.format(filename, node.get(\u001b[33m'\u001b[39;49;00m\u001b[33mlineno\u001b[39;49;00m\u001b[33m'\u001b[39;49;00m))\n",
      "0097:                     msg += \u001b[33m'\u001b[39;49;00m\u001b[33mInvalid type of arguments in function call\u001b[39;49;00m\u001b[33m'\u001b[39;49;00m\n",
      "0098:                     \u001b[37m# msg += '--> ' + SOURCECODE[node.get('lineno')].text\u001b[39;49;00m\n",
      "0099:                     \u001b[34mprint\u001b[39;49;00m(msg)\n",
      "0100:                     sys.exit()\n",
      "0101: \n",
      "0102: \n",
      "0103:         \u001b[34mif\u001b[39;49;00m node.tag \u001b[35min\u001b[39;49;00m (\u001b[33m'\u001b[39;49;00m\u001b[33mBFCALL\u001b[39;49;00m\u001b[33m'\u001b[39;49;00m, \u001b[33m'\u001b[39;49;00m\u001b[33mUFCALL\u001b[39;49;00m\u001b[33m'\u001b[39;49;00m):\n",
      "0104:             \u001b[37m# obtiene la funcion de la tabla de simbolos\u001b[39;49;00m\n",
      "0105:             symbol = find_symbol(node.get(\u001b[33m'\u001b[39;49;00m\u001b[33mvalue\u001b[39;49;00m\u001b[33m'\u001b[39;49;00m))\n",
      "0106: \n",
      "0107:             \u001b[37m# verifica la cantidad de argumentos de la funcion\u001b[39;49;00m\n",
      "0108:             nargs = symbol.get(\u001b[33m'\u001b[39;49;00m\u001b[33mnargs\u001b[39;49;00m\u001b[33m'\u001b[39;49;00m)\n",
      "0109:             \u001b[34mif\u001b[39;49;00m nargs != \u001b[36mlen\u001b[39;49;00m(node):\n",
      "0110:                 msg = \u001b[33m'\u001b[39;49;00m\u001b[33m{}:Type error at line {}: \u001b[39;49;00m\u001b[33m'\u001b[39;49;00m.format(filename, node.get(\u001b[33m'\u001b[39;49;00m\u001b[33mlineno\u001b[39;49;00m\u001b[33m'\u001b[39;49;00m))\n",
      "0111:                 msg += \u001b[33m'\u001b[39;49;00m\u001b[33mInvalid number of arguments in function call\u001b[39;49;00m\u001b[33m'\u001b[39;49;00m\n",
      "0112:                 \u001b[37m# msg += '--> ' + SOURCECODE[node.get('lineno')].text\u001b[39;49;00m\n",
      "0113:                 \u001b[34mprint\u001b[39;49;00m(msg)\n",
      "0114:                 sys.exit()\n",
      "0115: \n",
      "0116:             \u001b[34mfor\u001b[39;49;00m a, b \u001b[35min\u001b[39;49;00m \u001b[36mzip\u001b[39;49;00m(symbol.get(\u001b[33m'\u001b[39;49;00m\u001b[33margstype\u001b[39;49;00m\u001b[33m'\u001b[39;49;00m), node):\n",
      "0117:                 \u001b[34mif\u001b[39;49;00m a != b.get(\u001b[33m'\u001b[39;49;00m\u001b[33mdatatype\u001b[39;49;00m\u001b[33m'\u001b[39;49;00m):\n",
      "0118:                     msg = \u001b[33m'\u001b[39;49;00m\u001b[33m{}:Type error at line {}: \u001b[39;49;00m\u001b[33m'\u001b[39;49;00m.format(filename, node.get(\u001b[33m'\u001b[39;49;00m\u001b[33mlineno\u001b[39;49;00m\u001b[33m'\u001b[39;49;00m))\n",
      "0119:                     msg += \u001b[33m'\u001b[39;49;00m\u001b[33mInvalid type of arguments in function call\u001b[39;49;00m\u001b[33m'\u001b[39;49;00m\n",
      "0120:                     \u001b[37m# msg += '--> ' + SOURCECODE[node.get('lineno')].text\u001b[39;49;00m\n",
      "0121:                     \u001b[34mprint\u001b[39;49;00m(msg)\n",
      "0122:                     sys.exit()\n",
      "0123: \n",
      "0124: \n",
      "0125:     typecheck(SYNTAXTREE)\n",
      "0126: \n",
      "0127:     \u001b[37m#   el proceso se ejecuto correctamente y se\u001b[39;49;00m\n",
      "0128:     \u001b[37m#   procede a almacenar el resultado en un archivo\u001b[39;49;00m\n",
      "0129:     \u001b[37m#   en disco\u001b[39;49;00m\n",
      "0130:     \u001b[34mwith\u001b[39;49;00m \u001b[36mopen\u001b[39;49;00m(filename + \u001b[33m'\u001b[39;49;00m\u001b[33m.dataTree\u001b[39;49;00m\u001b[33m'\u001b[39;49;00m, \u001b[33m'\u001b[39;49;00m\u001b[33mwb\u001b[39;49;00m\u001b[33m'\u001b[39;49;00m) \u001b[34mas\u001b[39;49;00m f:\n",
      "0131:         pickle.dump(DATA, f)\n",
      "0132: \n",
      "0133:     \u001b[34mif\u001b[39;49;00m quiet == \u001b[36mFalse\u001b[39;49;00m:\n",
      "0134:         dt.printTree(SYNTAXTREE)\n",
      "0135: \n",
      "0136: \n",
      "0137: \n",
      "0138: \n",
      "0139: \u001b[34mif\u001b[39;49;00m __name__ == \u001b[33m'\u001b[39;49;00m\u001b[33m__main__\u001b[39;49;00m\u001b[33m'\u001b[39;49;00m:\n",
      "0140: \n",
      "0141: \n",
      "0142:     \u001b[34mif\u001b[39;49;00m \u001b[36mlen\u001b[39;49;00m(sys.argv) > \u001b[34m1\u001b[39;49;00m:\n",
      "0143:         \u001b[34mfor\u001b[39;49;00m filename \u001b[35min\u001b[39;49;00m sys.argv[\u001b[34m1\u001b[39;49;00m:]:\n",
      "0144:             yytypecheck(filename)\n",
      "0145:     \u001b[34melse\u001b[39;49;00m:\n",
      "0146:         filename = \u001b[36minput\u001b[39;49;00m()\n",
      "0147:         yytypecheck(filename)\n",
      "0148: \n"
     ]
    }
   ],
   "source": [
    "%%sh\n",
    "pygmentize -O linenos=1 -g yytypecheck.py"
   ]
  },
  {
   "cell_type": "markdown",
   "metadata": {},
   "source": [
    "---"
   ]
  },
  {
   "cell_type": "markdown",
   "metadata": {},
   "source": [
    "[Contenido](#Contenido)"
   ]
  }
 ],
 "metadata": {
  "kernelspec": {
   "display_name": "Python 3",
   "language": "python",
   "name": "python3"
  },
  "language_info": {
   "codemirror_mode": {
    "name": "ipython",
    "version": 3
   },
   "file_extension": ".py",
   "mimetype": "text/x-python",
   "name": "python",
   "nbconvert_exporter": "python",
   "pygments_lexer": "ipython3",
   "version": "3.5.2"
  }
 },
 "nbformat": 4,
 "nbformat_minor": 0
}
