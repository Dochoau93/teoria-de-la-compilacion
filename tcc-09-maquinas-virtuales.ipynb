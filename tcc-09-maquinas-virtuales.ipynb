{
 "cells": [
  {
   "cell_type": "markdown",
   "metadata": {},
   "source": [
    "# Máquinas Virtuales de Stack y de Registros\n",
    "Notas de clase sobre Teoría de la Compilación"
   ]
  },
  {
   "cell_type": "markdown",
   "metadata": {},
   "source": [
    "**Juan David Velásquez Henao**   \n",
    "jdvelasq@unal.edu.co  \n",
    "Universidad Nacional de Colombia, Sede Medellín  \n",
    "Facultad de Minas  \n",
    "Medellín, Colombia  \n",
    "\n",
    "[Licencia](https://github.com/jdvelasq/teoria-de-la-compilacion/blob/master/LICENCIA.txt)  \n",
    "[Readme](https://github.com/jdvelasq/teoria-de-la-compilacion/blob/master/readme.md)"
   ]
  },
  {
   "cell_type": "markdown",
   "metadata": {},
   "source": [
    "**Software utilizado**.\n",
    "\n",
    "> Este es un documento interactivo escrito como un notebook de [Jupyter](http://jupyter.org), en el cual se presenta una introducción al diseño de lectores, generadores, traductores, interpretes y compiladores. Los notebooks de Jupyter permiten incoporar simultáneamente código, texto, gráficos y ecuaciones. El código presentado en este notebook puede ejecutarse en los sistemas operativos Windows, Linux y OS X.\n",
    "\n",
    "> Haga click [aquí](https://github.com/jdvelasq/guias-de-instalacion) para obtener instrucciones detalladas sobre como instalar Jupyter en Windows y Mac OS X.\n",
    "\n",
    "> Haga clic [aquí](http://nbviewer.jupyter.org/github/jdvelasq/teoria-de-la-compilacion/blob/master/compiladores-08-maquinas-virtuales.ipynb) para ver la última versión de este documento en nbviewer.\n",
    "\n",
    "> Descargue la última versión de este documento, los archivos de datos y los programas en Python a su disco duro; luego, carguelos y ejecutelos en línea en [Try Jupyter!](https://try.jupyter.org)"
   ]
  },
  {
   "cell_type": "markdown",
   "metadata": {},
   "source": [
    "#### Contenido"
   ]
  },
  {
   "cell_type": "markdown",
   "metadata": {},
   "source": [
    "> * [Máquinas abstractas y reales](#Máquinas-abstractas-y-reales)\n",
    "    * [Estructura general del procesador y memoria](#Estructura-general-del-procesador-y-memoria)\n",
    "    * [Clasificación por el número de direcciones en las instrucciones](#Clasificación-por-el-número-de-direcciones-en-las-instrucciones)\n",
    "    * [Arquitectura Load/Store](#Arquitectura-Load/Store)\n",
    "    * [Clasificación por complejidad de las instrucciones](#Clasificación-por-complejidad-de-las-instrucciones)\n",
    "    * [Control del flujo del programa](#Control-del-flujo-del-programa)\n",
    "* [Características del Lenguaje de Alto Nivel del Proyecto de Clase](#Características-del-Lenguaje-de-Alto-Nivel-del-Proyecto-de-Clase)\n",
    "    * [Conjunto de Instrucciones](#Conjunto-de-Instrucciones)\n",
    "* [Máquina de cero direcciones (máquina de stack)](#Máquina-de-cero-direcciones)\n",
    "    * [Implementación de una máquina virtual de stack](#Implementación-de-una-máquina-virtual-de-stack)\n",
    "    * [Ejemplos de programación](#Ejemplos-de-programación---sbm)\n",
    "      * [Operaciones aritméticas simples](#Operaciones-aritméticas-simples---sbm)\n",
    "      * [Asignación de variables](#Asignación-de-variables---sbm)\n",
    "      * [Impresión de los números del 1 al 5](#Impresión-de-los-números-del-1-al-5---sbm)\n",
    "      * [Funciones de usuario](#Funciones-de-usuario---sbm)\n",
    "* [Máquina de tres direcciones](#Máquina-de-tres-direcciones)\n",
    "    * [Implementación de una máquina virtual de registros](#Implementación-de-una-máquina-virtual-de-registros)\n",
    "    * [Ejemplos de programación](#Ejemplos-de-programación---rbm)\n",
    "      * [Operaciones aritméticas simples](#Operaciones-aritméticas-simples---rbm)\n",
    "      * [Asignación de Variables](#Asignación-de-Variables---rbm)\n",
    "      * [Impresión de los números del 1 al 5](#Impresión-de-los-números-del-1-al-5---rbm)\n",
    "      * [Funciones de usuario](#Funciones-de-usuario---rbm)"
   ]
  },
  {
   "cell_type": "markdown",
   "metadata": {},
   "source": [
    "# Máquinas abstractas y reales"
   ]
  },
  {
   "cell_type": "markdown",
   "metadata": {},
   "source": [
    "[Contenido](#Contenido)"
   ]
  },
  {
   "cell_type": "markdown",
   "metadata": {},
   "source": [
    "## Estructura general del procesador y memoria"
   ]
  },
  {
   "cell_type": "markdown",
   "metadata": {},
   "source": [
    "[Contenido](#Contenido)"
   ]
  },
  {
   "cell_type": "markdown",
   "metadata": {},
   "source": [
    "![alt text](images/tcc-09-1-estruct.jpg) "
   ]
  },
  {
   "cell_type": "markdown",
   "metadata": {},
   "source": [
    "*El registro IP también se conoce como PC (program counter)"
   ]
  },
  {
   "cell_type": "markdown",
   "metadata": {},
   "source": [
    "## Clasificación por el número de direcciones en las instrucciones"
   ]
  },
  {
   "cell_type": "markdown",
   "metadata": {},
   "source": [
    "[Contenido](#Contenido)"
   ]
  },
  {
   "cell_type": "markdown",
   "metadata": {},
   "source": [
    "Código de ejemplo:   \n",
    "```\n",
    "A = B + C * D  - E + F + A\n",
    "```\n",
    "\n",
    "**Máquina de tres direcciones**\n",
    "\n",
    "    mult T, C, D\n",
    "    add  T, T, B\n",
    "    sub  T, T, E\n",
    "    add  T, T, F\n",
    "    add  A, A, T\n",
    "\n",
    "\n",
    "**Máquina de dos direcciones**\n",
    "\n",
    "    load T, C\n",
    "    mult T, D\n",
    "    add  T, B\n",
    "    sub  T, E\n",
    "    add  T, F\n",
    "    add  A, T\n",
    "\n",
    "** Máquina de una dirección**\n",
    "\n",
    "\n",
    "    load  C\n",
    "    mult  D\n",
    "    add   B\n",
    "    sub   E\n",
    "    add   F\n",
    "    add   A\n",
    "    store A\n",
    "\n",
    "**Máquina de 0 direcciones** (hay un stack de operandos).\n",
    "\n",
    "    push B\n",
    "    push C\n",
    "    push D\n",
    "    mult\n",
    "    sum\n",
    "    push E\n",
    "    sub\n",
    "    push F\n",
    "    sum\n",
    "    push A\n",
    "    sum\n",
    "    pop  A"
   ]
  },
  {
   "cell_type": "markdown",
   "metadata": {},
   "source": [
    "## Arquitectura Load/Store"
   ]
  },
  {
   "cell_type": "markdown",
   "metadata": {},
   "source": [
    "[Contenido](#Contenido)"
   ]
  },
  {
   "cell_type": "markdown",
   "metadata": {},
   "source": [
    "Las instrucciones operan únicamente en los registros del procesador; las instrucciones load y store mueven los datos entre la memoria y los registros.\n",
    "\n",
    "Código de ejemplo:   `A = B + C * D  - E + F + A` \n",
    "\n",
    "    load   R1, B\n",
    "    load   R2, C\n",
    "    load   R3, D\n",
    "    load   R4, E\n",
    "    load   R5, F\n",
    "    load   R6, A\n",
    "    mult   R2, R2, R3\n",
    "    add    R2, R2, R1\n",
    "    sub    R2, R2, R4\n",
    "    add    R2, R2, R5\n",
    "    add    R2, R2, R6\n",
    "    store  A,  R2"
   ]
  },
  {
   "cell_type": "markdown",
   "metadata": {},
   "source": [
    "## Clasificación por complejidad de las instrucciones"
   ]
  },
  {
   "cell_type": "markdown",
   "metadata": {},
   "source": [
    "[Contenido](#Contenido)"
   ]
  },
  {
   "cell_type": "markdown",
   "metadata": {},
   "source": [
    "**Complex Instruction Set Computer  (CISC):** \n",
    "* Tamaño variable en bytes de las instrucciones.\n",
    "* Mayor cantidad de instrucciones.\n",
    "* Operaciones register–to–register,  register–to–memory, memory–to–register; note que no se permiten operaciones memory–to–memory. \n",
    "\n",
    "Ejemplos:  VAX 11/780, Intel 486\n",
    "\n",
    "**Reduced Instruction Set Computer (RISC):** \n",
    "* Tamaño fijo en bytes de las instrucciones.\n",
    "* Menor cantidad de instrucciones.\n",
    "* Operaciones únicamente register–to–register.\n",
    "\n",
    "Ejemplos: MIPS R4000, SPARC, PowerPC, "
   ]
  },
  {
   "cell_type": "markdown",
   "metadata": {},
   "source": [
    "## Control del flujo del programa"
   ]
  },
  {
   "cell_type": "markdown",
   "metadata": {},
   "source": [
    "[Contenido](#Contenido)"
   ]
  },
  {
   "cell_type": "markdown",
   "metadata": {},
   "source": [
    "**IP**:  Contiene la dirección de la instrucción a ser ejecutada"
   ]
  },
  {
   "cell_type": "markdown",
   "metadata": {},
   "source": [
    "* **Bifurcación**: <br><br>\n",
    "\n",
    "   * Salto incondicional:   <br> <BR>\n",
    "     * `j target` --  salto (jump) hacia target usando dirección absoluta\n",
    "     * `b target` --  salto (branch) hacia target usando dirección relativa al IP. <br><br>\n",
    "   * Salto condicional: <br><br>\n",
    "     * `Set–then–jump` -- usa registros de condición; la condición y el salto son instrucciones separadas.\n",
    "     * `Test–then–jump` -- chequea la condición y salta en una sola instrucción."
   ]
  },
  {
   "cell_type": "markdown",
   "metadata": {},
   "source": [
    "* **Llamada de procedimientos**:\n",
    "\n",
    "  * Punto de entrada.\n",
    "  * Final de procedimiento.\n",
    "  * Dirección de retorno."
   ]
  },
  {
   "cell_type": "markdown",
   "metadata": {},
   "source": [
    "![alt text](images/tcc-09-2-llamadafunciones.jpg) "
   ]
  },
  {
   "cell_type": "markdown",
   "metadata": {},
   "source": [
    "* **Paso de parámetros**:\n",
    "\n",
    "  * Paso usando registros.\n",
    "  * Paso directo a memoria.\n",
    "  * Paso usando el stack."
   ]
  },
  {
   "cell_type": "markdown",
   "metadata": {},
   "source": [
    "* **Valor de retorno**:\n",
    "\n",
    "  * Retorno usando registro específico.\n",
    "  * Retorno usando una posición específica de memoria.\n",
    "  * Retorno usando el stack."
   ]
  },
  {
   "cell_type": "markdown",
   "metadata": {},
   "source": [
    "# Características del Lenguaje de Alto Nivel del Proyecto de Clase"
   ]
  },
  {
   "cell_type": "markdown",
   "metadata": {},
   "source": [
    "[Contenido](#Contenido)"
   ]
  },
  {
   "cell_type": "markdown",
   "metadata": {},
   "source": [
    "El diseño del compilador y la máquina virtual están interrelacionados. \n",
    "\n",
    "Las características del lenguaje de alto nivel (nuestro lenguaje *S*) son las siguientes:\n",
    "\n",
    "* Todas las variables son locales al procedimiento donde están definidas; no hay variables globales.    \n",
    "* No hay punteros ni asignación dinámica de memoria.\n",
    "* Las rutinas no pueden ser llamadas recursivamente, ni directa ni indirectamente.\n",
    "* Una rutina puede llamar a otra."
   ]
  },
  {
   "cell_type": "markdown",
   "metadata": {},
   "source": [
    "## Conjunto de Instrucciones"
   ]
  },
  {
   "cell_type": "markdown",
   "metadata": {},
   "source": [
    "[Contenido](#Contenido)"
   ]
  },
  {
   "cell_type": "markdown",
   "metadata": {},
   "source": [
    "Las instrucciones deben ejecutar las siguientes operaciones:"
   ]
  },
  {
   "cell_type": "markdown",
   "metadata": {},
   "source": [
    "* Evaluación de expresiones."
   ]
  },
  {
   "cell_type": "markdown",
   "metadata": {},
   "source": [
    "* Acceso y actualización de variables locales (asignación)."
   ]
  },
  {
   "cell_type": "markdown",
   "metadata": {},
   "source": [
    "* Manejo del stack."
   ]
  },
  {
   "cell_type": "markdown",
   "metadata": {},
   "source": [
    "* Acceso a literales."
   ]
  },
  {
   "cell_type": "markdown",
   "metadata": {},
   "source": [
    "* Saltos."
   ]
  },
  {
   "cell_type": "markdown",
   "metadata": {},
   "source": [
    "* Impresión"
   ]
  },
  {
   "cell_type": "markdown",
   "metadata": {},
   "source": [
    "* Repetición"
   ]
  },
  {
   "cell_type": "markdown",
   "metadata": {},
   "source": [
    "* Llamado de rutinas."
   ]
  },
  {
   "cell_type": "markdown",
   "metadata": {},
   "source": [
    "* Retorno de rutinas."
   ]
  },
  {
   "cell_type": "markdown",
   "metadata": {},
   "source": [
    "# Máquina de cero direcciones"
   ]
  },
  {
   "cell_type": "markdown",
   "metadata": {},
   "source": [
    "[Contenido](#Contenido)"
   ]
  },
  {
   "cell_type": "markdown",
   "metadata": {},
   "source": [
    "## Implementación de una máquina virtual de stack"
   ]
  },
  {
   "cell_type": "markdown",
   "metadata": {},
   "source": [
    "[Contenido](#Contenido)"
   ]
  },
  {
   "cell_type": "markdown",
   "metadata": {},
   "source": [
    "La celda de abajo debe ser ejecutada para generar el archivo `sbm.py` el cual se requiere para poder correr los ejemplos que siguen en esta misma sección."
   ]
  },
  {
   "cell_type": "code",
   "execution_count": null,
   "metadata": {
    "collapsed": true
   },
   "outputs": [],
   "source": [
    "%%sh\n",
    "pygmentize -O linenos=1 -g sbm.py"
   ]
  },
  {
   "cell_type": "markdown",
   "metadata": {},
   "source": [
    "## Ejemplos de programación - sbm"
   ]
  },
  {
   "cell_type": "markdown",
   "metadata": {},
   "source": [
    "[Contenido](#Contenido)"
   ]
  },
  {
   "cell_type": "markdown",
   "metadata": {},
   "source": [
    "### Operaciones aritméticas simples - sbm"
   ]
  },
  {
   "cell_type": "markdown",
   "metadata": {},
   "source": [
    "[Contenido](#Contenido)"
   ]
  },
  {
   "cell_type": "code",
   "execution_count": 5,
   "metadata": {
    "collapsed": false
   },
   "outputs": [
    {
     "name": "stdout",
     "output_type": "stream",
     "text": [
      "Overwriting example.txt\n"
     ]
    }
   ],
   "source": [
    "%%writefile example.txt\n",
    "# ------------------------------\n",
    "# write (10 * 20 + 30 * 40);\n",
    "# end\n",
    "# ------------------------------\n",
    "#\n",
    "#       Stack\n",
    "#----#---------------------------\n",
    "%%\n",
    "     #  []\n",
    "10   #  [10]\n",
    "20   #  [10, 20]\n",
    "*    #  [200]\n",
    "30   #  [200, 30]\n",
    "40   #  [200, 30, 40]\n",
    "*    #  [200, 1200]\n",
    "+    #  [1400]\n",
    "PRN  #  [], imprime 1400\n",
    "HLT  #  [], termina el programa\n",
    "     #"
   ]
  },
  {
   "cell_type": "code",
   "execution_count": 6,
   "metadata": {
    "collapsed": false
   },
   "outputs": [
    {
     "name": "stdout",
     "output_type": "stream",
     "text": [
      "1400\n"
     ]
    }
   ],
   "source": [
    "%%sh\n",
    "python sbm.py example.txt"
   ]
  },
  {
   "cell_type": "markdown",
   "metadata": {},
   "source": [
    "### Asignación de variables - sbm"
   ]
  },
  {
   "cell_type": "markdown",
   "metadata": {},
   "source": [
    "[Contenido](#Contenido)"
   ]
  },
  {
   "cell_type": "code",
   "execution_count": 7,
   "metadata": {
    "collapsed": false
   },
   "outputs": [
    {
     "name": "stdout",
     "output_type": "stream",
     "text": [
      "Overwriting example.txt\n"
     ]
    }
   ],
   "source": [
    "%%writefile example.txt\n",
    "\n",
    "# ----------------------------\n",
    "# var x:num, y:num;\n",
    "# x := 20;\n",
    "# y := x + 10;\n",
    "# write(y);\n",
    "# end\n",
    "# ----------------------------\n",
    "#\n",
    "# x tendria la posicion 0 en el DS y\n",
    "# y tendria la posicion 1\n",
    "#\n",
    "#           Stack     DS (memory)\n",
    "#--------#--------------------------\n",
    "%%\n",
    "         #\n",
    "         #  []        [0, 0]\n",
    "20       #  [20]      [0, 0]\n",
    "STO  0   #  []        [20, 0]\n",
    "RCL  0   #  [20]      [20, 0]\n",
    "10       #  [20, 10]  [20, 0]\n",
    "+        #  [30]      [20, 0]\n",
    "STO  1   #  []        [20, 30]\n",
    "RCL  1   #  [30]      [20, 30]\n",
    "PRN      #  []        [20, 30]\n",
    "HLT      #  []        [20, 30]\n",
    "         #\n"
   ]
  },
  {
   "cell_type": "code",
   "execution_count": 8,
   "metadata": {
    "collapsed": false
   },
   "outputs": [
    {
     "name": "stdout",
     "output_type": "stream",
     "text": [
      "30\n"
     ]
    }
   ],
   "source": [
    "%%sh\n",
    "python sbm.py example.txt"
   ]
  },
  {
   "cell_type": "markdown",
   "metadata": {},
   "source": [
    "### Impresión de los números del 1 al 5 - sbm"
   ]
  },
  {
   "cell_type": "markdown",
   "metadata": {},
   "source": [
    "[Contenido](#Contenido)"
   ]
  },
  {
   "cell_type": "code",
   "execution_count": 9,
   "metadata": {
    "collapsed": false
   },
   "outputs": [
    {
     "name": "stdout",
     "output_type": "stream",
     "text": [
      "Overwriting example.txt\n"
     ]
    }
   ],
   "source": [
    "%%writefile example.txt\n",
    "\n",
    "# ------------------------------------\n",
    "# var n:num;\n",
    "# n := 1;\n",
    "# while (n <= 5) do\n",
    "#     {\n",
    "#     write(n);\n",
    "#     n := n + 1;\n",
    "#     }\n",
    "# end\n",
    "# ------------------------------------\n",
    "%%\n",
    "        1          #\n",
    "        STO  0     #\n",
    "LBL 0              #\n",
    "        RCL  0     #\n",
    "        5          #\n",
    "        <=         #\n",
    "        IFZ  1     # salto al LBL 1 cuando la condicion sea False\n",
    "        RCL  0     #\n",
    "        PRN        #\n",
    "        RCL  0     #\n",
    "        INCR       # incrementa en +1 la cima del stack\n",
    "        STO  0     #\n",
    "        GTO  0     # salto incondicional al LBL 0\n",
    "LBL 1              #\n",
    "        HLT        #\n"
   ]
  },
  {
   "cell_type": "code",
   "execution_count": 10,
   "metadata": {
    "collapsed": false
   },
   "outputs": [
    {
     "name": "stdout",
     "output_type": "stream",
     "text": [
      "1\n",
      "2\n",
      "3\n",
      "4\n",
      "5\n"
     ]
    }
   ],
   "source": [
    "%%sh\n",
    "python sbm.py example.txt"
   ]
  },
  {
   "cell_type": "markdown",
   "metadata": {},
   "source": [
    "### Funciones de usuario - sbm"
   ]
  },
  {
   "cell_type": "markdown",
   "metadata": {},
   "source": [
    "[Contenido](#Contenido)"
   ]
  },
  {
   "cell_type": "code",
   "execution_count": 11,
   "metadata": {
    "collapsed": false
   },
   "outputs": [
    {
     "name": "stdout",
     "output_type": "stream",
     "text": [
      "Overwriting example.txt\n"
     ]
    }
   ],
   "source": [
    "%%writefile example.txt\n",
    "\n",
    "# ----------------------------------------------\n",
    "# function @sum2:num(x:num, y:num)\n",
    "#     {\n",
    "#     return x + y;\n",
    "#     }\n",
    "#\n",
    "# function @sum4(x:num, y:num, z:num, w:num)\n",
    "#     {\n",
    "#     return @sum2(x, y) + @sum2(z, w);\n",
    "#     }\n",
    "#\n",
    "# write( @sum4(10, 20, 30, 40) );\n",
    "# end\n",
    "# ----------------------------------------------\n",
    "#\n",
    "#  DR  contenido\n",
    "#   0  x:@sum2\n",
    "#   1  y:@sum2\n",
    "#   2  x:@sum4\n",
    "#   3  y:@sum4\n",
    "#   4  z:@sum4\n",
    "#   5  w:@sum4\n",
    "#   6  ret:@sum2\n",
    "#   7  ret:@sum4\n",
    "#\n",
    "#------------------------------------------------------\n",
    "%%\n",
    "        GTO  2\n",
    "\n",
    "LBL 0             # entry point @sum2()\n",
    "\n",
    "        RCL  0    # x:@sum2\n",
    "        RCL  1    # y:@sum2\n",
    "        +         #\n",
    "        STO  6    # ret:@sum2\n",
    "        RET\n",
    "LBL 1             # entry point @sum4()\n",
    "\n",
    "        RCL  2    # x:@sum4\n",
    "        STO  0    # x:@sum2\n",
    "        RCL  3    # y:@sum4\n",
    "        STO  1    # y:@sum2\n",
    "        GSB  0    # call @sum2\n",
    "        RCL  6    # ret:@sum2\n",
    "\n",
    "        RCL  4    # z:@sum4\n",
    "        STO  0    # x:@sum2\n",
    "        RCL  5    # w:@sum4\n",
    "        STO  1    # y:@sum2\n",
    "        GSB  0    # call @sum2\n",
    "        RCL  6    # ret:@sum2\n",
    "\n",
    "        +\n",
    "        STO  7    # ret:@sum4\n",
    "        RET\n",
    "\n",
    "LBL 2             # programa principal\n",
    "\n",
    "        10\n",
    "        STO  2    # x:@summ4\n",
    "        20\n",
    "        STO  3    # y:@sum4\n",
    "        30\n",
    "        STO  4    # z:@sum4\n",
    "        40\n",
    "        STO  5    # w:@sum4\n",
    "        GSB  1    # call @sum4\n",
    "        RCL  7    # ret:@sum4\n",
    "        PRN\n",
    "        HLT"
   ]
  },
  {
   "cell_type": "code",
   "execution_count": 12,
   "metadata": {
    "collapsed": false
   },
   "outputs": [
    {
     "name": "stdout",
     "output_type": "stream",
     "text": [
      "100\n"
     ]
    }
   ],
   "source": [
    "%%sh\n",
    "python sbm.py example.txt"
   ]
  },
  {
   "cell_type": "markdown",
   "metadata": {},
   "source": [
    "# Máquina de tres direcciones"
   ]
  },
  {
   "cell_type": "markdown",
   "metadata": {},
   "source": [
    "[Contenido](#Contenido)"
   ]
  },
  {
   "cell_type": "markdown",
   "metadata": {},
   "source": [
    "## Implementación de una máquina virtual de registros"
   ]
  },
  {
   "cell_type": "markdown",
   "metadata": {},
   "source": [
    "[Contenido](#Contenido)"
   ]
  },
  {
   "cell_type": "code",
   "execution_count": 13,
   "metadata": {
    "collapsed": false,
    "scrolled": false
   },
   "outputs": [
    {
     "name": "stdout",
     "output_type": "stream",
     "text": [
      "0001: \u001b[37m###< 2016-08-28 18:12:00.911927 >###\u001b[39;49;00m\n",
      "0002: \n",
      "0003: \u001b[37m#\u001b[39;49;00m\n",
      "0004: \u001b[37m#  rbm.py\u001b[39;49;00m\n",
      "0005: \u001b[37m#    maquina virtual de registros\u001b[39;49;00m\n",
      "0006: \u001b[37m#\u001b[39;49;00m\n",
      "0007: \n",
      "0008: \u001b[34mimport\u001b[39;49;00m \u001b[04m\u001b[36mshlex\u001b[39;49;00m, \u001b[04m\u001b[36msys\u001b[39;49;00m, \u001b[04m\u001b[36mmath\u001b[39;49;00m\n",
      "0009: \n",
      "0010: \n",
      "0011: \u001b[34mdef\u001b[39;49;00m \u001b[32mrbm\u001b[39;49;00m(filename):\n",
      "0012:     \u001b[37m#\u001b[39;49;00m\n",
      "0013:     \u001b[37m# registros del procesador\u001b[39;49;00m\n",
      "0014:     \u001b[37m#\u001b[39;49;00m\n",
      "0015:     DR  = [\u001b[34m0\u001b[39;49;00m]    * \u001b[34m256\u001b[39;49;00m   \u001b[37m# Data Registers\u001b[39;49;00m\n",
      "0016:     TR  = [\u001b[34m0\u001b[39;49;00m]    * \u001b[34m256\u001b[39;49;00m   \u001b[37m# Temporary Registers\u001b[39;49;00m\n",
      "0017:     JT  = [\u001b[36mNone\u001b[39;49;00m] * \u001b[34m256\u001b[39;49;00m   \u001b[37m# Jump Table\u001b[39;49;00m\n",
      "0018:     SF  = []             \u001b[37m# Stack Frame\u001b[39;49;00m\n",
      "0019:     SS  = []             \u001b[37m# Stack\u001b[39;49;00m\n",
      "0020:     LP  = []             \u001b[37m# Literal Pool\u001b[39;49;00m\n",
      "0021:     IP  = \u001b[34m0\u001b[39;49;00m              \u001b[37m# Instruction Pointer\u001b[39;49;00m\n",
      "0022:     HLT = \u001b[36mFalse\u001b[39;49;00m          \u001b[37m# HaLT register\u001b[39;49;00m\n",
      "0023:     CS  = \u001b[33m'\u001b[39;49;00m\u001b[33m'\u001b[39;49;00m             \u001b[37m# Code Segment\u001b[39;49;00m\n",
      "0024: \n",
      "0025: \n",
      "0026:     \u001b[37m#\u001b[39;49;00m\n",
      "0027:     \u001b[37m# Carga del programa desde el archivo y lo separa en cadenas de texto\u001b[39;49;00m\n",
      "0028:     \u001b[37m#\u001b[39;49;00m\n",
      "0029:     x = \u001b[36mopen\u001b[39;49;00m(filename, \u001b[33m'\u001b[39;49;00m\u001b[33mr\u001b[39;49;00m\u001b[33m'\u001b[39;49;00m).readlines()\n",
      "0030:     \u001b[34mfor\u001b[39;49;00m n, line \u001b[35min\u001b[39;49;00m \u001b[36menumerate\u001b[39;49;00m(x):\n",
      "0031:         \u001b[34mif\u001b[39;49;00m line[-\u001b[34m1\u001b[39;49;00m] == \u001b[33m'\u001b[39;49;00m\u001b[33m\\n\u001b[39;49;00m\u001b[33m'\u001b[39;49;00m:\n",
      "0032:             line = line[:-\u001b[34m1\u001b[39;49;00m]\n",
      "0033:         \u001b[34mif\u001b[39;49;00m line == \u001b[33m'\u001b[39;49;00m\u001b[33m%%\u001b[39;49;00m\u001b[33m'\u001b[39;49;00m:\n",
      "0034:             \u001b[34mbreak\u001b[39;49;00m\n",
      "0035:         LP.append(line)\n",
      "0036: \n",
      "0037:     x = x[n+\u001b[34m1\u001b[39;49;00m:]\n",
      "0038: \n",
      "0039:     x = \u001b[33m'\u001b[39;49;00m\u001b[33m'\u001b[39;49;00m.join(x)\n",
      "0040:     x = \u001b[36mlist\u001b[39;49;00m(shlex.shlex(x))\n",
      "0041: \n",
      "0042:     \u001b[37m#\u001b[39;49;00m\n",
      "0043:     \u001b[37m# shlex separa la cadena '123.456' como '123', '.', '456'\u001b[39;49;00m\n",
      "0044:     \u001b[37m# y debe unirse como un numero. La cadena de texto debe\u001b[39;49;00m\n",
      "0045:     \u001b[37m# convertirse en numero\u001b[39;49;00m\n",
      "0046:     \u001b[37m#\u001b[39;49;00m\n",
      "0047:     m = []\n",
      "0048:     n = \u001b[34m0\u001b[39;49;00m\n",
      "0049:     \u001b[34mwhile\u001b[39;49;00m n < \u001b[36mlen\u001b[39;49;00m(x):\n",
      "0050: \n",
      "0051:         \u001b[34mif\u001b[39;49;00m x[n] == \u001b[33m'\u001b[39;49;00m\u001b[33mRCL\u001b[39;49;00m\u001b[33m'\u001b[39;49;00m \u001b[35mand\u001b[39;49;00m x[n+\u001b[34m1\u001b[39;49;00m] \u001b[35min\u001b[39;49;00m (\u001b[33m'\u001b[39;49;00m\u001b[33m+\u001b[39;49;00m\u001b[33m'\u001b[39;49;00m, \u001b[33m'\u001b[39;49;00m\u001b[33m-\u001b[39;49;00m\u001b[33m'\u001b[39;49;00m, \u001b[33m'\u001b[39;49;00m\u001b[33m*\u001b[39;49;00m\u001b[33m'\u001b[39;49;00m, \u001b[33m'\u001b[39;49;00m\u001b[33m/\u001b[39;49;00m\u001b[33m'\u001b[39;49;00m, \u001b[33m'\u001b[39;49;00m\u001b[33m%\u001b[39;49;00m\u001b[33m'\u001b[39;49;00m):\n",
      "0052:             m.append(\u001b[33m'\u001b[39;49;00m\u001b[33mRCL\u001b[39;49;00m\u001b[33m'\u001b[39;49;00m + x[n+\u001b[34m1\u001b[39;49;00m])\n",
      "0053:             n += \u001b[34m2\u001b[39;49;00m\n",
      "0054: \n",
      "0055:         \u001b[34melif\u001b[39;49;00m x[n] == \u001b[33m'\u001b[39;49;00m\u001b[33mSTO\u001b[39;49;00m\u001b[33m'\u001b[39;49;00m \u001b[35mand\u001b[39;49;00m x[n+\u001b[34m1\u001b[39;49;00m] == \u001b[33m'\u001b[39;49;00m\u001b[33m+\u001b[39;49;00m\u001b[33m'\u001b[39;49;00m \u001b[35mand\u001b[39;49;00m x[n+\u001b[34m2\u001b[39;49;00m] == \u001b[33m'\u001b[39;49;00m\u001b[33m+\u001b[39;49;00m\u001b[33m'\u001b[39;49;00m:\n",
      "0056:             m.append(\u001b[33m'\u001b[39;49;00m\u001b[33mSTO++\u001b[39;49;00m\u001b[33m'\u001b[39;49;00m)\n",
      "0057:             n += \u001b[34m3\u001b[39;49;00m\n",
      "0058: \n",
      "0059:         \u001b[34melif\u001b[39;49;00m x[n] == \u001b[33m'\u001b[39;49;00m\u001b[33mSTO\u001b[39;49;00m\u001b[33m'\u001b[39;49;00m \u001b[35mand\u001b[39;49;00m x[n+\u001b[34m1\u001b[39;49;00m] == \u001b[33m'\u001b[39;49;00m\u001b[33m-\u001b[39;49;00m\u001b[33m'\u001b[39;49;00m \u001b[35mand\u001b[39;49;00m x[n+\u001b[34m2\u001b[39;49;00m] == \u001b[33m'\u001b[39;49;00m\u001b[33m-\u001b[39;49;00m\u001b[33m'\u001b[39;49;00m:\n",
      "0060:             m.append(\u001b[33m'\u001b[39;49;00m\u001b[33mSTO--\u001b[39;49;00m\u001b[33m'\u001b[39;49;00m)\n",
      "0061:             n += \u001b[34m3\u001b[39;49;00m\n",
      "0062: \n",
      "0063:         \u001b[34melif\u001b[39;49;00m x[n] == \u001b[33m'\u001b[39;49;00m\u001b[33mSTO\u001b[39;49;00m\u001b[33m'\u001b[39;49;00m \u001b[35mand\u001b[39;49;00m x[n+\u001b[34m1\u001b[39;49;00m] \u001b[35min\u001b[39;49;00m (\u001b[33m'\u001b[39;49;00m\u001b[33m+\u001b[39;49;00m\u001b[33m'\u001b[39;49;00m, \u001b[33m'\u001b[39;49;00m\u001b[33m-\u001b[39;49;00m\u001b[33m'\u001b[39;49;00m, \u001b[33m'\u001b[39;49;00m\u001b[33m*\u001b[39;49;00m\u001b[33m'\u001b[39;49;00m, \u001b[33m'\u001b[39;49;00m\u001b[33m/\u001b[39;49;00m\u001b[33m'\u001b[39;49;00m, \u001b[33m'\u001b[39;49;00m\u001b[33m%\u001b[39;49;00m\u001b[33m'\u001b[39;49;00m):\n",
      "0064:             m.append(\u001b[33m'\u001b[39;49;00m\u001b[33mSTO\u001b[39;49;00m\u001b[33m'\u001b[39;49;00m + x[n+\u001b[34m1\u001b[39;49;00m])\n",
      "0065:             n += \u001b[34m2\u001b[39;49;00m\n",
      "0066: \n",
      "0067:         \u001b[34melif\u001b[39;49;00m x[n] == \u001b[33m'\u001b[39;49;00m\u001b[33mADD\u001b[39;49;00m\u001b[33m'\u001b[39;49;00m \u001b[35mand\u001b[39;49;00m x[n+\u001b[34m1\u001b[39;49;00m] == \u001b[33m'\u001b[39;49;00m\u001b[33m+\u001b[39;49;00m\u001b[33m'\u001b[39;49;00m:\n",
      "0068:             m.append(\u001b[33m'\u001b[39;49;00m\u001b[33mADD+\u001b[39;49;00m\u001b[33m'\u001b[39;49;00m)\n",
      "0069:             n += \u001b[34m2\u001b[39;49;00m\n",
      "0070: \n",
      "0071:         \u001b[34melif\u001b[39;49;00m x[n] == \u001b[33m'\u001b[39;49;00m\u001b[33m<\u001b[39;49;00m\u001b[33m'\u001b[39;49;00m \u001b[35mand\u001b[39;49;00m x[n+\u001b[34m1\u001b[39;49;00m] == \u001b[33m'\u001b[39;49;00m\u001b[33m=\u001b[39;49;00m\u001b[33m'\u001b[39;49;00m:\n",
      "0072:             m.append(\u001b[33m'\u001b[39;49;00m\u001b[33m<=\u001b[39;49;00m\u001b[33m'\u001b[39;49;00m)\n",
      "0073:             n += \u001b[34m2\u001b[39;49;00m\n",
      "0074: \n",
      "0075:         \u001b[34melif\u001b[39;49;00m x[n] == \u001b[33m'\u001b[39;49;00m\u001b[33m>\u001b[39;49;00m\u001b[33m'\u001b[39;49;00m \u001b[35mand\u001b[39;49;00m x[n+\u001b[34m1\u001b[39;49;00m] == \u001b[33m'\u001b[39;49;00m\u001b[33m=\u001b[39;49;00m\u001b[33m'\u001b[39;49;00m:\n",
      "0076:             m.append(\u001b[33m'\u001b[39;49;00m\u001b[33m>=\u001b[39;49;00m\u001b[33m'\u001b[39;49;00m)\n",
      "0077:             n += \u001b[34m2\u001b[39;49;00m\n",
      "0078: \n",
      "0079:         \u001b[34melif\u001b[39;49;00m x[n] == \u001b[33m'\u001b[39;49;00m\u001b[33m=\u001b[39;49;00m\u001b[33m'\u001b[39;49;00m \u001b[35mand\u001b[39;49;00m x[n+\u001b[34m1\u001b[39;49;00m] == \u001b[33m'\u001b[39;49;00m\u001b[33m=\u001b[39;49;00m\u001b[33m'\u001b[39;49;00m:\n",
      "0080:             m.append(\u001b[33m'\u001b[39;49;00m\u001b[33m==\u001b[39;49;00m\u001b[33m'\u001b[39;49;00m)\n",
      "0081:             n += \u001b[34m2\u001b[39;49;00m\n",
      "0082: \n",
      "0083:         \u001b[34melif\u001b[39;49;00m x[n] == \u001b[33m'\u001b[39;49;00m\u001b[33m!\u001b[39;49;00m\u001b[33m'\u001b[39;49;00m \u001b[35mand\u001b[39;49;00m x[n+\u001b[34m1\u001b[39;49;00m] == \u001b[33m'\u001b[39;49;00m\u001b[33m=\u001b[39;49;00m\u001b[33m'\u001b[39;49;00m:\n",
      "0084:             m.append(\u001b[33m'\u001b[39;49;00m\u001b[33m!=\u001b[39;49;00m\u001b[33m'\u001b[39;49;00m)\n",
      "0085:             n += \u001b[34m2\u001b[39;49;00m\n",
      "0086: \n",
      "0087:         \u001b[34melif\u001b[39;49;00m \u001b[36mlen\u001b[39;49;00m(m) >= \u001b[34m3\u001b[39;49;00m \u001b[35mand\u001b[39;49;00m m[-\u001b[34m3\u001b[39;49;00m] == \u001b[33m'\u001b[39;49;00m\u001b[33mADD+\u001b[39;49;00m\u001b[33m'\u001b[39;49;00m:\n",
      "0088: \n",
      "0089:             \u001b[34mif\u001b[39;49;00m x[n] == \u001b[33m'\u001b[39;49;00m\u001b[33m.\u001b[39;49;00m\u001b[33m'\u001b[39;49;00m:\n",
      "0090:                 txt = \u001b[33m'\u001b[39;49;00m\u001b[33m.\u001b[39;49;00m\u001b[33m'\u001b[39;49;00m + x[n+\u001b[34m1\u001b[39;49;00m]\n",
      "0091:                 m[-\u001b[34m1\u001b[39;49;00m] = \u001b[36mfloat\u001b[39;49;00m(txt)\n",
      "0092:                 n += \u001b[34m2\u001b[39;49;00m\n",
      "0093: \n",
      "0094:             \u001b[34melif\u001b[39;49;00m x[n] == \u001b[33m'\u001b[39;49;00m\u001b[33m-\u001b[39;49;00m\u001b[33m'\u001b[39;49;00m \u001b[35mand\u001b[39;49;00m x[n+\u001b[34m1\u001b[39;49;00m].isdigit() \u001b[35mand\u001b[39;49;00m x[n+\u001b[34m2\u001b[39;49;00m] != \u001b[33m'\u001b[39;49;00m\u001b[33m.\u001b[39;49;00m\u001b[33m'\u001b[39;49;00m:\n",
      "0095:                 m.append(-\u001b[36mint\u001b[39;49;00m(x[n+\u001b[34m1\u001b[39;49;00m]))\n",
      "0096:                 n += \u001b[34m2\u001b[39;49;00m\n",
      "0097: \n",
      "0098:             \u001b[34melif\u001b[39;49;00m x[n] == \u001b[33m'\u001b[39;49;00m\u001b[33m-\u001b[39;49;00m\u001b[33m'\u001b[39;49;00m \u001b[35mand\u001b[39;49;00m x[n+\u001b[34m1\u001b[39;49;00m].isdigit() \u001b[35mand\u001b[39;49;00m x[n+\u001b[34m2\u001b[39;49;00m] == \u001b[33m'\u001b[39;49;00m\u001b[33m.\u001b[39;49;00m\u001b[33m'\u001b[39;49;00m \u001b[35mand\u001b[39;49;00m \u001b[35mnot\u001b[39;49;00m x[n+\u001b[34m3\u001b[39;49;00m]:\n",
      "0099:                 txt = \u001b[33m'\u001b[39;49;00m\u001b[33m-\u001b[39;49;00m\u001b[33m'\u001b[39;49;00m + x[n+\u001b[34m1\u001b[39;49;00m] + \u001b[33m'\u001b[39;49;00m\u001b[33m.\u001b[39;49;00m\u001b[33m'\u001b[39;49;00m\n",
      "0100:                 m.append(-\u001b[36mfloat\u001b[39;49;00m(txt))\n",
      "0101:                 n += \u001b[34m3\u001b[39;49;00m\n",
      "0102: \n",
      "0103:             \u001b[34melif\u001b[39;49;00m x[n] == \u001b[33m'\u001b[39;49;00m\u001b[33m-\u001b[39;49;00m\u001b[33m'\u001b[39;49;00m \u001b[35mand\u001b[39;49;00m x[n+\u001b[34m1\u001b[39;49;00m].isdigit() \u001b[35mand\u001b[39;49;00m x[n+\u001b[34m2\u001b[39;49;00m] == \u001b[33m'\u001b[39;49;00m\u001b[33m.\u001b[39;49;00m\u001b[33m'\u001b[39;49;00m \u001b[35mand\u001b[39;49;00m x[n+\u001b[34m3\u001b[39;49;00m].isdigit():\n",
      "0104:                 txt = \u001b[33m'\u001b[39;49;00m\u001b[33m-\u001b[39;49;00m\u001b[33m'\u001b[39;49;00m + x[n+\u001b[34m1\u001b[39;49;00m] + \u001b[33m'\u001b[39;49;00m\u001b[33m.\u001b[39;49;00m\u001b[33m'\u001b[39;49;00m + x[n+\u001b[34m3\u001b[39;49;00m]\n",
      "0105:                 m.append(-\u001b[36mfloat\u001b[39;49;00m(txt))\n",
      "0106:                 n += \u001b[34m4\u001b[39;49;00m\n",
      "0107: \n",
      "0108:             \u001b[34melif\u001b[39;49;00m x[n].isdigit() \u001b[35mand\u001b[39;49;00m x[n+\u001b[34m1\u001b[39;49;00m] == \u001b[33m'\u001b[39;49;00m\u001b[33m.\u001b[39;49;00m\u001b[33m'\u001b[39;49;00m \u001b[35mand\u001b[39;49;00m \u001b[35mnot\u001b[39;49;00m x[n+\u001b[34m2\u001b[39;49;00m].isdigit():\n",
      "0109:                 txt = x[n] + \u001b[33m'\u001b[39;49;00m\u001b[33m.\u001b[39;49;00m\u001b[33m'\u001b[39;49;00m\n",
      "0110:                 m.append(\u001b[36mfloat\u001b[39;49;00m(txt))\n",
      "0111:                 n += \u001b[34m2\u001b[39;49;00m\n",
      "0112: \n",
      "0113:             \u001b[34melif\u001b[39;49;00m x[n].isdigit() \u001b[35mand\u001b[39;49;00m x[n+\u001b[34m1\u001b[39;49;00m] == \u001b[33m'\u001b[39;49;00m\u001b[33m.\u001b[39;49;00m\u001b[33m'\u001b[39;49;00m \u001b[35mand\u001b[39;49;00m x[n+\u001b[34m2\u001b[39;49;00m].isdigit():\n",
      "0114:                 txt = x[n] + \u001b[33m'\u001b[39;49;00m\u001b[33m.\u001b[39;49;00m\u001b[33m'\u001b[39;49;00m + x[n+\u001b[34m2\u001b[39;49;00m]\n",
      "0115:                 m.append(\u001b[36mfloat\u001b[39;49;00m(txt))\n",
      "0116:                 n += \u001b[34m3\u001b[39;49;00m\n",
      "0117: \n",
      "0118:             \u001b[34melse\u001b[39;49;00m:\n",
      "0119:                 m.append(\u001b[36mint\u001b[39;49;00m(x[n]))\n",
      "0120:                 n += \u001b[34m1\u001b[39;49;00m\n",
      "0121: \n",
      "0122:         \u001b[34melif\u001b[39;49;00m x[n].isdigit():\n",
      "0123:             m.append(\u001b[36mint\u001b[39;49;00m(x[n]))\n",
      "0124:             n += \u001b[34m1\u001b[39;49;00m\n",
      "0125: \n",
      "0126:         \u001b[34melse\u001b[39;49;00m:\n",
      "0127:             m.append(x[n])\n",
      "0128:             n += \u001b[34m1\u001b[39;49;00m\n",
      "0129: \n",
      "0130:     CS = m\n",
      "0131: \n",
      "0132:     \u001b[37m#\u001b[39;49;00m\n",
      "0133:     \u001b[37m# Se actualiza la tabla de saltos (JT) con las\u001b[39;49;00m\n",
      "0134:     \u001b[37m# posiciones de las etiquetas 'lbl' dentro del codigo.\u001b[39;49;00m\n",
      "0135:     \u001b[37m# CS[i+1] es el numero de la etiqueta\u001b[39;49;00m\n",
      "0136:     \u001b[37m# i es el numero de la instruccion dentro del programa\u001b[39;49;00m\n",
      "0137:     \u001b[37m#\u001b[39;49;00m\n",
      "0138:     \u001b[34mfor\u001b[39;49;00m i, code \u001b[35min\u001b[39;49;00m \u001b[36menumerate\u001b[39;49;00m(CS):\n",
      "0139: \n",
      "0140:         \u001b[34mif\u001b[39;49;00m CS[i] == \u001b[33m'\u001b[39;49;00m\u001b[33mLBL\u001b[39;49;00m\u001b[33m'\u001b[39;49;00m:\n",
      "0141:             JT[CS[i+\u001b[34m1\u001b[39;49;00m]] = i\n",
      "0142: \n",
      "0143:     \u001b[37m#\u001b[39;49;00m\n",
      "0144:     \u001b[37m# Ejecucion del programa\u001b[39;49;00m\n",
      "0145:     \u001b[37m#\u001b[39;49;00m\n",
      "0146:     \u001b[34mwhile\u001b[39;49;00m HLT != \u001b[36mTrue\u001b[39;49;00m \u001b[35mand\u001b[39;49;00m IP < \u001b[36mlen\u001b[39;49;00m(CS):\n",
      "0147: \n",
      "0148:         \u001b[37m#\u001b[39;49;00m\n",
      "0149:         \u001b[37m# lee los argumentos de la instruccion\u001b[39;49;00m\n",
      "0150:         \u001b[37m#\u001b[39;49;00m\n",
      "0151:         r = CS[IP+\u001b[34m1\u001b[39;49;00m] \u001b[34mif\u001b[39;49;00m IP+\u001b[34m1\u001b[39;49;00m < \u001b[36mlen\u001b[39;49;00m(CS) \u001b[34melse\u001b[39;49;00m []\n",
      "0152:         s = CS[IP+\u001b[34m2\u001b[39;49;00m] \u001b[34mif\u001b[39;49;00m IP+\u001b[34m2\u001b[39;49;00m < \u001b[36mlen\u001b[39;49;00m(CS) \u001b[34melse\u001b[39;49;00m []\n",
      "0153:         t = CS[IP+\u001b[34m3\u001b[39;49;00m] \u001b[34mif\u001b[39;49;00m IP+\u001b[34m3\u001b[39;49;00m < \u001b[36mlen\u001b[39;49;00m(CS) \u001b[34melse\u001b[39;49;00m []\n",
      "0154: \n",
      "0155:         \u001b[37m# print(CS[IP], r, s, t)\u001b[39;49;00m\n",
      "0156:         \u001b[37m# ---------------------------------------------------------------------\u001b[39;49;00m\n",
      "0157:         \u001b[37m#\u001b[39;49;00m\n",
      "0158:         \u001b[37m# parada del programa\u001b[39;49;00m\n",
      "0159:         \u001b[37m#\u001b[39;49;00m\n",
      "0160:         \u001b[34mif\u001b[39;49;00m CS[IP] == \u001b[33m'\u001b[39;49;00m\u001b[33mHLT\u001b[39;49;00m\u001b[33m'\u001b[39;49;00m:\n",
      "0161: \n",
      "0162:             HLT = \u001b[36mTrue\u001b[39;49;00m\n",
      "0163: \n",
      "0164:         \u001b[37m# ---------------------------------------------------------------------\u001b[39;49;00m\n",
      "0165:         \u001b[37m#\u001b[39;49;00m\n",
      "0166:         \u001b[37m# entrada / salida\u001b[39;49;00m\n",
      "0167:         \u001b[37m#\u001b[39;49;00m\n",
      "0168:         \u001b[34melif\u001b[39;49;00m CS[IP] == \u001b[33m'\u001b[39;49;00m\u001b[33m?\u001b[39;49;00m\u001b[33m'\u001b[39;49;00m:\n",
      "0169: \n",
      "0170:             x = \u001b[36minput\u001b[39;49;00m()\n",
      "0171:             a = \u001b[36mint\u001b[39;49;00m(x)\n",
      "0172:             b = \u001b[36mfloat\u001b[39;49;00m(x)\n",
      "0173:             \u001b[34mif\u001b[39;49;00m a == b:\n",
      "0174:                 TR[r] = a\n",
      "0175:             \u001b[34melse\u001b[39;49;00m:\n",
      "0176:                 TR[r] = b\n",
      "0177:             IP += \u001b[34m1\u001b[39;49;00m\n",
      "0178: \n",
      "0179:         \u001b[34melif\u001b[39;49;00m CS[IP] == \u001b[33m'\u001b[39;49;00m\u001b[33mPRN\u001b[39;49;00m\u001b[33m'\u001b[39;49;00m:\n",
      "0180: \n",
      "0181:             result = TR[r]\n",
      "0182:             \u001b[34mprint\u001b[39;49;00m(result)\n",
      "0183:             IP += \u001b[34m1\u001b[39;49;00m\n",
      "0184: \n",
      "0185:         \u001b[34melif\u001b[39;49;00m CS[IP] == \u001b[33m'\u001b[39;49;00m\u001b[33mPRB\u001b[39;49;00m\u001b[33m'\u001b[39;49;00m:\n",
      "0186: \n",
      "0187:             result = TR[r]\n",
      "0188:             \u001b[34mif\u001b[39;49;00m result == \u001b[34m0\u001b[39;49;00m:\n",
      "0189:                 \u001b[34mprint\u001b[39;49;00m(\u001b[33m'\u001b[39;49;00m\u001b[33mfalse\u001b[39;49;00m\u001b[33m'\u001b[39;49;00m)\n",
      "0190:             \u001b[34melse\u001b[39;49;00m:\n",
      "0191:                 \u001b[34mprint\u001b[39;49;00m(\u001b[33m'\u001b[39;49;00m\u001b[33mtrue\u001b[39;49;00m\u001b[33m'\u001b[39;49;00m)\n",
      "0192:             IP += \u001b[34m1\u001b[39;49;00m\n",
      "0193: \n",
      "0194:         \u001b[34melif\u001b[39;49;00m CS[IP] == \u001b[33m'\u001b[39;49;00m\u001b[33mSTR\u001b[39;49;00m\u001b[33m'\u001b[39;49;00m:\n",
      "0195: \n",
      "0196:             \u001b[34mprint\u001b[39;49;00m(LP[r][\u001b[34m1\u001b[39;49;00m:-\u001b[34m1\u001b[39;49;00m], end = \u001b[33m'\u001b[39;49;00m\u001b[33m'\u001b[39;49;00m)\n",
      "0197:             IP += \u001b[34m1\u001b[39;49;00m\n",
      "0198: \n",
      "0199:         \u001b[34melif\u001b[39;49;00m CS[IP] == \u001b[33m'\u001b[39;49;00m\u001b[33mXCHG\u001b[39;49;00m\u001b[33m'\u001b[39;49;00m:\n",
      "0200: \n",
      "0201:             temp = TR[r]\n",
      "0202:             TR[r] = TR[s]\n",
      "0203:             TR[s] = temp\n",
      "0204: \n",
      "0205:         \u001b[37m# ---------------------------------------------------------------------\u001b[39;49;00m\n",
      "0206:         \u001b[37m#\u001b[39;49;00m\n",
      "0207:         \u001b[37m# saltos / subrutinas\u001b[39;49;00m\n",
      "0208:         \u001b[37m#\u001b[39;49;00m\n",
      "0209: \n",
      "0210:         \u001b[34melif\u001b[39;49;00m CS[IP] == \u001b[33m'\u001b[39;49;00m\u001b[33mLBL\u001b[39;49;00m\u001b[33m'\u001b[39;49;00m:\n",
      "0211: \n",
      "0212:             IP += \u001b[34m1\u001b[39;49;00m\n",
      "0213: \n",
      "0214:         \u001b[34melif\u001b[39;49;00m CS[IP] == \u001b[33m'\u001b[39;49;00m\u001b[33mGTO\u001b[39;49;00m\u001b[33m'\u001b[39;49;00m:\n",
      "0215: \n",
      "0216:             IP = JT[r] - \u001b[34m1\u001b[39;49;00m\n",
      "0217: \n",
      "0218:         \u001b[34melif\u001b[39;49;00m CS[IP] == \u001b[33m'\u001b[39;49;00m\u001b[33mIFZ\u001b[39;49;00m\u001b[33m'\u001b[39;49;00m:\n",
      "0219: \n",
      "0220:             IP = JT[s] - \u001b[34m1\u001b[39;49;00m \u001b[34mif\u001b[39;49;00m TR[r] == \u001b[34m0\u001b[39;49;00m \u001b[34melse\u001b[39;49;00m IP + \u001b[34m2\u001b[39;49;00m\n",
      "0221: \n",
      "0222:         \u001b[34melif\u001b[39;49;00m CS[IP] == \u001b[33m'\u001b[39;49;00m\u001b[33mIFNZ\u001b[39;49;00m\u001b[33m'\u001b[39;49;00m:\n",
      "0223: \n",
      "0224:             IP = JT[s] - \u001b[34m1\u001b[39;49;00m \u001b[34mif\u001b[39;49;00m TR[r] != \u001b[34m0\u001b[39;49;00m \u001b[34melse\u001b[39;49;00m IP + \u001b[34m2\u001b[39;49;00m\n",
      "0225: \n",
      "0226:         \u001b[34melif\u001b[39;49;00m CS[IP] == \u001b[33m'\u001b[39;49;00m\u001b[33mGSB\u001b[39;49;00m\u001b[33m'\u001b[39;49;00m:\n",
      "0227: \n",
      "0228:             SF.append(IP + \u001b[34m1\u001b[39;49;00m)\n",
      "0229:             IP = JT[r] - \u001b[34m1\u001b[39;49;00m\n",
      "0230: \n",
      "0231:             \u001b[34mfor\u001b[39;49;00m n \u001b[35min\u001b[39;49;00m TR:\n",
      "0232:                 SS.append(n)\n",
      "0233: \n",
      "0234:         \u001b[34melif\u001b[39;49;00m CS[IP] == \u001b[33m'\u001b[39;49;00m\u001b[33mRET\u001b[39;49;00m\u001b[33m'\u001b[39;49;00m:\n",
      "0235: \n",
      "0236:             IP = SF.pop()\n",
      "0237: \n",
      "0238:             \u001b[34mfor\u001b[39;49;00m n \u001b[35min\u001b[39;49;00m \u001b[36mrange\u001b[39;49;00m(\u001b[36mlen\u001b[39;49;00m(TR)-\u001b[34m1\u001b[39;49;00m,-\u001b[34m1\u001b[39;49;00m,-\u001b[34m1\u001b[39;49;00m):\n",
      "0239:                 TR[n] = SS.pop()\n",
      "0240: \n",
      "0241:         \u001b[37m# ---------------------------------------------------------------------\u001b[39;49;00m\n",
      "0242:         \u001b[37m#\u001b[39;49;00m\n",
      "0243:         \u001b[37m# gestion de la memoria\u001b[39;49;00m\n",
      "0244:         \u001b[37m#\u001b[39;49;00m\n",
      "0245:         \u001b[34melif\u001b[39;49;00m CS[IP] == \u001b[33m'\u001b[39;49;00m\u001b[33mRCL\u001b[39;49;00m\u001b[33m'\u001b[39;49;00m:\n",
      "0246: \n",
      "0247:             TR[r] = DR[s]\n",
      "0248:             IP += \u001b[34m2\u001b[39;49;00m\n",
      "0249: \n",
      "0250:         \u001b[34melif\u001b[39;49;00m CS[IP] == \u001b[33m'\u001b[39;49;00m\u001b[33mRCL+\u001b[39;49;00m\u001b[33m'\u001b[39;49;00m:\n",
      "0251: \n",
      "0252:             TR[r] += DR[s]\n",
      "0253:             IP += \u001b[34m2\u001b[39;49;00m\n",
      "0254: \n",
      "0255:         \u001b[34melif\u001b[39;49;00m CS[IP] == \u001b[33m'\u001b[39;49;00m\u001b[33mRCL*\u001b[39;49;00m\u001b[33m'\u001b[39;49;00m:\n",
      "0256:             IP += \u001b[34m2\u001b[39;49;00m\n",
      "0257: \n",
      "0258:             TR[r] *= DR[s]\n",
      "0259: \n",
      "0260:         \u001b[34melif\u001b[39;49;00m CS[IP] == \u001b[33m'\u001b[39;49;00m\u001b[33mRCL-\u001b[39;49;00m\u001b[33m'\u001b[39;49;00m:\n",
      "0261: \n",
      "0262:             TR[r] -= DR[s]\n",
      "0263:             IP += \u001b[34m2\u001b[39;49;00m\n",
      "0264: \n",
      "0265:         \u001b[34melif\u001b[39;49;00m CS[IP] == \u001b[33m'\u001b[39;49;00m\u001b[33mRCL/\u001b[39;49;00m\u001b[33m'\u001b[39;49;00m:\n",
      "0266: \n",
      "0267:             TR[r] /= DR[s]\n",
      "0268:             IP += \u001b[34m2\u001b[39;49;00m\n",
      "0269: \n",
      "0270:         \u001b[34melif\u001b[39;49;00m CS[IP] == \u001b[33m'\u001b[39;49;00m\u001b[33mRCL\u001b[39;49;00m\u001b[33m%\u001b[39;49;00m\u001b[33m'\u001b[39;49;00m:\n",
      "0271: \n",
      "0272:             TR[r] %= DR[s]\n",
      "0273:             IP += \u001b[34m2\u001b[39;49;00m\n",
      "0274: \n",
      "0275:         \u001b[34melif\u001b[39;49;00m CS[IP] == \u001b[33m'\u001b[39;49;00m\u001b[33mSTO\u001b[39;49;00m\u001b[33m'\u001b[39;49;00m:\n",
      "0276: \n",
      "0277:             DR[s] = TR[r]\n",
      "0278:             IP += \u001b[34m2\u001b[39;49;00m\n",
      "0279: \n",
      "0280:         \u001b[34melif\u001b[39;49;00m CS[IP] == \u001b[33m'\u001b[39;49;00m\u001b[33mSTO+\u001b[39;49;00m\u001b[33m'\u001b[39;49;00m:\n",
      "0281: \n",
      "0282:             DR[s] += TR[r]\n",
      "0283:             IP += \u001b[34m2\u001b[39;49;00m\n",
      "0284: \n",
      "0285:         \u001b[34melif\u001b[39;49;00m CS[IP] == \u001b[33m'\u001b[39;49;00m\u001b[33mSTO*\u001b[39;49;00m\u001b[33m'\u001b[39;49;00m:\n",
      "0286: \n",
      "0287:             DR[s] *= TR[r]\n",
      "0288:             IP += \u001b[34m2\u001b[39;49;00m\n",
      "0289: \n",
      "0290:         \u001b[34melif\u001b[39;49;00m CS[IP] == \u001b[33m'\u001b[39;49;00m\u001b[33mSTO-\u001b[39;49;00m\u001b[33m'\u001b[39;49;00m:\n",
      "0291: \n",
      "0292:             DR[s] -= TR[r]\n",
      "0293:             IP += \u001b[34m2\u001b[39;49;00m\n",
      "0294: \n",
      "0295:         \u001b[34melif\u001b[39;49;00m CS[IP] == \u001b[33m'\u001b[39;49;00m\u001b[33mSTO/\u001b[39;49;00m\u001b[33m'\u001b[39;49;00m:\n",
      "0296: \n",
      "0297:             DR[s] /= TR[r]\n",
      "0298:             IP += \u001b[34m2\u001b[39;49;00m\n",
      "0299: \n",
      "0300:         \u001b[34melif\u001b[39;49;00m CS[IP] == \u001b[33m'\u001b[39;49;00m\u001b[33mSTO\u001b[39;49;00m\u001b[33m%\u001b[39;49;00m\u001b[33m'\u001b[39;49;00m:\n",
      "0301: \n",
      "0302:             DR[s] %= TR[r]\n",
      "0303:             IP += \u001b[34m2\u001b[39;49;00m\n",
      "0304: \n",
      "0305:         \u001b[34melif\u001b[39;49;00m CS[IP] == \u001b[33m'\u001b[39;49;00m\u001b[33mSTO++\u001b[39;49;00m\u001b[33m'\u001b[39;49;00m:\n",
      "0306: \n",
      "0307:             DR[r] += \u001b[34m1\u001b[39;49;00m\n",
      "0308:             IP += \u001b[34m1\u001b[39;49;00m\n",
      "0309: \n",
      "0310:         \u001b[34melif\u001b[39;49;00m CS[IP] == \u001b[33m'\u001b[39;49;00m\u001b[33mSTO--\u001b[39;49;00m\u001b[33m'\u001b[39;49;00m:\n",
      "0311: \n",
      "0312:             DR[r] -= \u001b[34m1\u001b[39;49;00m\n",
      "0313:             IP += \u001b[34m1\u001b[39;49;00m\n",
      "0314: \n",
      "0315:         \u001b[37m# ---------------------------------------------------------------------\u001b[39;49;00m\n",
      "0316:         \u001b[37m#\u001b[39;49;00m\n",
      "0317:         \u001b[37m# funciones matematicas (math library)\u001b[39;49;00m\n",
      "0318:         \u001b[37m#\u001b[39;49;00m\n",
      "0319:         \u001b[34melif\u001b[39;49;00m CS[IP] == \u001b[33m'\u001b[39;49;00m\u001b[33mSGN\u001b[39;49;00m\u001b[33m'\u001b[39;49;00m:\n",
      "0320: \n",
      "0321:             \u001b[34mif\u001b[39;49;00m TR[s] > \u001b[34m0\u001b[39;49;00m:\n",
      "0322:                 TR[r] = \u001b[34m1\u001b[39;49;00m\n",
      "0323:             \u001b[34melif\u001b[39;49;00m TR[s] < \u001b[34m0\u001b[39;49;00m:\n",
      "0324:                 TR[r] = -\u001b[34m1\u001b[39;49;00m\n",
      "0325:             \u001b[34melse\u001b[39;49;00m:\n",
      "0326:                 TR[r] = \u001b[34m0\u001b[39;49;00m\n",
      "0327:             IP += \u001b[34m2\u001b[39;49;00m\n",
      "0328: \n",
      "0329:         \u001b[34melif\u001b[39;49;00m CS[IP] == \u001b[33m'\u001b[39;49;00m\u001b[33mFABS\u001b[39;49;00m\u001b[33m'\u001b[39;49;00m:\n",
      "0330: \n",
      "0331:             TR[r] = math.fabs(TR[s])\n",
      "0332:             IP += \u001b[34m2\u001b[39;49;00m\n",
      "0333: \n",
      "0334:         \u001b[34melif\u001b[39;49;00m CS[IP] == \u001b[33m'\u001b[39;49;00m\u001b[33mSQRT\u001b[39;49;00m\u001b[33m'\u001b[39;49;00m:\n",
      "0335: \n",
      "0336:             TR[r] = math.sqrt(TR[s])\n",
      "0337:             IP += \u001b[34m2\u001b[39;49;00m\n",
      "0338: \n",
      "0339:         \u001b[34melif\u001b[39;49;00m CS[IP] == \u001b[33m'\u001b[39;49;00m\u001b[33mLOG\u001b[39;49;00m\u001b[33m'\u001b[39;49;00m:\n",
      "0340: \n",
      "0341:             TR[r] = math.log(TR[s])\n",
      "0342:             IP += \u001b[34m2\u001b[39;49;00m\n",
      "0343: \n",
      "0344:         \u001b[34melif\u001b[39;49;00m CS[IP] == \u001b[33m'\u001b[39;49;00m\u001b[33mEXP\u001b[39;49;00m\u001b[33m'\u001b[39;49;00m:\n",
      "0345: \n",
      "0346:             TR[r] = math.exp(TR[s])\n",
      "0347:             IP += \u001b[34m2\u001b[39;49;00m\n",
      "0348: \n",
      "0349:         \u001b[34melif\u001b[39;49;00m CS[IP] == \u001b[33m'\u001b[39;49;00m\u001b[33mLOG10\u001b[39;49;00m\u001b[33m'\u001b[39;49;00m:\n",
      "0350: \n",
      "0351:             TR[r] = math.log10(TR[s])\n",
      "0352:             IP += \u001b[34m2\u001b[39;49;00m\n",
      "0353: \n",
      "0354:         \u001b[34melif\u001b[39;49;00m CS[IP] == \u001b[33m'\u001b[39;49;00m\u001b[33mSIN\u001b[39;49;00m\u001b[33m'\u001b[39;49;00m:\n",
      "0355: \n",
      "0356:             TR[r] = math.sin(TR[s])\n",
      "0357:             IP += \u001b[34m2\u001b[39;49;00m\n",
      "0358: \n",
      "0359:         \u001b[34melif\u001b[39;49;00m CS[IP] == \u001b[33m'\u001b[39;49;00m\u001b[33mCOS\u001b[39;49;00m\u001b[33m'\u001b[39;49;00m:\n",
      "0360: \n",
      "0361:             TR[r] = math.cos(OS[s])\n",
      "0362:             IP += \u001b[34m2\u001b[39;49;00m\n",
      "0363: \n",
      "0364:         \u001b[34melif\u001b[39;49;00m CS[IP] == \u001b[33m'\u001b[39;49;00m\u001b[33mTAN\u001b[39;49;00m\u001b[33m'\u001b[39;49;00m:\n",
      "0365: \n",
      "0366:             TR[r] = math.tan(TR[s])\n",
      "0367:             IP += \u001b[34m2\u001b[39;49;00m\n",
      "0368: \n",
      "0369:         \u001b[34melif\u001b[39;49;00m CS[IP] == \u001b[33m'\u001b[39;49;00m\u001b[33mASN\u001b[39;49;00m\u001b[33m'\u001b[39;49;00m:\n",
      "0370: \n",
      "0371:             TR[r] = math.asin(TR[s])\n",
      "0372:             IP += \u001b[34m2\u001b[39;49;00m\n",
      "0373: \n",
      "0374:         \u001b[34melif\u001b[39;49;00m CS[IP] == \u001b[33m'\u001b[39;49;00m\u001b[33mACS\u001b[39;49;00m\u001b[33m'\u001b[39;49;00m:\n",
      "0375: \n",
      "0376:             TR[r] = math.acos(TR[s])\n",
      "0377:             IP += \u001b[34m2\u001b[39;49;00m\n",
      "0378: \n",
      "0379:         \u001b[34melif\u001b[39;49;00m CS[IP] == \u001b[33m'\u001b[39;49;00m\u001b[33mATN\u001b[39;49;00m\u001b[33m'\u001b[39;49;00m:\n",
      "0380: \n",
      "0381:             TR[r] = math.atan(TR[s])\n",
      "0382:             IP += \u001b[34m2\u001b[39;49;00m\n",
      "0383:         \u001b[37m#\u001b[39;49;00m\n",
      "0384:         \u001b[37m# funciones compelentarias\u001b[39;49;00m\n",
      "0385:         \u001b[37m#\u001b[39;49;00m\n",
      "0386:         \u001b[34melif\u001b[39;49;00m CS[IP] == \u001b[33m'\u001b[39;49;00m\u001b[33mCHS\u001b[39;49;00m\u001b[33m'\u001b[39;49;00m:\n",
      "0387: \n",
      "0388:             TR[r] = - TR[s]\n",
      "0389:             IP += \u001b[34m2\u001b[39;49;00m\n",
      "0390: \n",
      "0391:         \u001b[34melif\u001b[39;49;00m CS[IP] == \u001b[33m'\u001b[39;49;00m\u001b[33mSQR\u001b[39;49;00m\u001b[33m'\u001b[39;49;00m:\n",
      "0392: \n",
      "0393:             TR[r] = TR[s] ^ \u001b[34m2\u001b[39;49;00m\n",
      "0394:             IP += \u001b[34m2\u001b[39;49;00m\n",
      "0395: \n",
      "0396:         \u001b[34melif\u001b[39;49;00m CS[IP] == \u001b[33m'\u001b[39;49;00m\u001b[33mINV\u001b[39;49;00m\u001b[33m'\u001b[39;49;00m:\n",
      "0397: \n",
      "0398:             TR[r] = \u001b[34m1\u001b[39;49;00m / TR[s]\n",
      "0399:             IP += \u001b[34m2\u001b[39;49;00m\n",
      "0400: \n",
      "0401:         \u001b[34melif\u001b[39;49;00m CS[IP] == \u001b[33m'\u001b[39;49;00m\u001b[33mINTG\u001b[39;49;00m\u001b[33m'\u001b[39;49;00m:\n",
      "0402: \n",
      "0403:             TR[r] = \u001b[36mint\u001b[39;49;00m(TR[s])\n",
      "0404:             IP += \u001b[34m2\u001b[39;49;00m\n",
      "0405: \n",
      "0406:         \u001b[34melif\u001b[39;49;00m CS[IP] == \u001b[33m'\u001b[39;49;00m\u001b[33mFRAC\u001b[39;49;00m\u001b[33m'\u001b[39;49;00m:\n",
      "0407: \n",
      "0408:             TR[r] = TR[s] - \u001b[36mint\u001b[39;49;00m(TR[s])\n",
      "0409:             IP += \u001b[34m2\u001b[39;49;00m\n",
      "0410: \n",
      "0411:         \u001b[34melif\u001b[39;49;00m CS[IP] == \u001b[33m'\u001b[39;49;00m\u001b[33mADD+\u001b[39;49;00m\u001b[33m'\u001b[39;49;00m:\n",
      "0412: \n",
      "0413:             TR[r] = TR[s] + t\n",
      "0414:             IP += \u001b[34m3\u001b[39;49;00m\n",
      "0415: \n",
      "0416:         \u001b[34melif\u001b[39;49;00m CS[IP] == \u001b[33m'\u001b[39;49;00m\u001b[33m+\u001b[39;49;00m\u001b[33m'\u001b[39;49;00m:\n",
      "0417: \n",
      "0418:             TR[r] = TR[s] + TR[t]\n",
      "0419:             IP += \u001b[34m3\u001b[39;49;00m\n",
      "0420: \n",
      "0421:         \u001b[34melif\u001b[39;49;00m CS[IP] == \u001b[33m'\u001b[39;49;00m\u001b[33m-\u001b[39;49;00m\u001b[33m'\u001b[39;49;00m:\n",
      "0422: \n",
      "0423:             TR[r] = TR[s] - TR[t]\n",
      "0424:             IP += \u001b[34m3\u001b[39;49;00m\n",
      "0425: \n",
      "0426:         \u001b[34melif\u001b[39;49;00m CS[IP] == \u001b[33m'\u001b[39;49;00m\u001b[33m*\u001b[39;49;00m\u001b[33m'\u001b[39;49;00m:\n",
      "0427: \n",
      "0428:             TR[r] = TR[s] * TR[t]\n",
      "0429:             IP += \u001b[34m3\u001b[39;49;00m\n",
      "0430: \n",
      "0431:         \u001b[34melif\u001b[39;49;00m CS[IP] == \u001b[33m'\u001b[39;49;00m\u001b[33m/\u001b[39;49;00m\u001b[33m'\u001b[39;49;00m:\n",
      "0432: \n",
      "0433:             TR[r] = TR[s] / TR[t]\n",
      "0434:             IP += \u001b[34m3\u001b[39;49;00m\n",
      "0435: \n",
      "0436:         \u001b[34melif\u001b[39;49;00m CS[IP] == \u001b[33m'\u001b[39;49;00m\u001b[33m%\u001b[39;49;00m\u001b[33m'\u001b[39;49;00m:\n",
      "0437: \n",
      "0438:             TR[r] = TR[s] % TR[t]\n",
      "0439:             IP += \u001b[34m3\u001b[39;49;00m\n",
      "0440: \n",
      "0441:         \u001b[34melif\u001b[39;49;00m CS[IP] == \u001b[33m'\u001b[39;49;00m\u001b[33m<\u001b[39;49;00m\u001b[33m'\u001b[39;49;00m:\n",
      "0442: \n",
      "0443:             TR[r] = \u001b[34m1\u001b[39;49;00m \u001b[34mif\u001b[39;49;00m TR[s] < TR[t] \u001b[34melse\u001b[39;49;00m \u001b[34m0\u001b[39;49;00m\n",
      "0444:             IP += \u001b[34m3\u001b[39;49;00m\n",
      "0445: \n",
      "0446:         \u001b[34melif\u001b[39;49;00m CS[IP] == \u001b[33m'\u001b[39;49;00m\u001b[33m<=\u001b[39;49;00m\u001b[33m'\u001b[39;49;00m:\n",
      "0447: \n",
      "0448:             TR[r] = \u001b[34m1\u001b[39;49;00m \u001b[34mif\u001b[39;49;00m TR[s] <= TR[t] \u001b[34melse\u001b[39;49;00m \u001b[34m0\u001b[39;49;00m\n",
      "0449:             IP += \u001b[34m3\u001b[39;49;00m\n",
      "0450: \n",
      "0451:         \u001b[34melif\u001b[39;49;00m CS[IP] == \u001b[33m'\u001b[39;49;00m\u001b[33m>\u001b[39;49;00m\u001b[33m'\u001b[39;49;00m:\n",
      "0452: \n",
      "0453:             TR[r] = \u001b[34m1\u001b[39;49;00m \u001b[34mif\u001b[39;49;00m TR[s] > TR[t] \u001b[34melse\u001b[39;49;00m \u001b[34m0\u001b[39;49;00m\n",
      "0454:             IP += \u001b[34m3\u001b[39;49;00m\n",
      "0455: \n",
      "0456:         \u001b[34melif\u001b[39;49;00m CS[IP] == \u001b[33m'\u001b[39;49;00m\u001b[33m>=\u001b[39;49;00m\u001b[33m'\u001b[39;49;00m:\n",
      "0457: \n",
      "0458:             TR[r] = \u001b[34m1\u001b[39;49;00m \u001b[34mif\u001b[39;49;00m TR[s] >= TR[t] \u001b[34melse\u001b[39;49;00m \u001b[34m0\u001b[39;49;00m\n",
      "0459:             IP += \u001b[34m3\u001b[39;49;00m\n",
      "0460: \n",
      "0461:         \u001b[34melif\u001b[39;49;00m CS[IP] == \u001b[33m'\u001b[39;49;00m\u001b[33m==\u001b[39;49;00m\u001b[33m'\u001b[39;49;00m:\n",
      "0462: \n",
      "0463:             TR[r] = \u001b[34m1\u001b[39;49;00m \u001b[34mif\u001b[39;49;00m TR[s] == TR[t] \u001b[34melse\u001b[39;49;00m \u001b[34m0\u001b[39;49;00m\n",
      "0464:             IP += \u001b[34m3\u001b[39;49;00m\n",
      "0465: \n",
      "0466:         \u001b[34melif\u001b[39;49;00m CS[IP] == \u001b[33m'\u001b[39;49;00m\u001b[33m!=\u001b[39;49;00m\u001b[33m'\u001b[39;49;00m:\n",
      "0467: \n",
      "0468:             TR[r] = \u001b[34m1\u001b[39;49;00m \u001b[34mif\u001b[39;49;00m TR[s] != TR[t] \u001b[34melse\u001b[39;49;00m \u001b[34m0\u001b[39;49;00m\n",
      "0469:             IP += \u001b[34m3\u001b[39;49;00m\n",
      "0470: \n",
      "0471:         \u001b[34melif\u001b[39;49;00m CS[IP] == \u001b[33m'\u001b[39;49;00m\u001b[33mAND\u001b[39;49;00m\u001b[33m'\u001b[39;49;00m:\n",
      "0472: \n",
      "0473:             TR[r] = \u001b[34m1\u001b[39;49;00m \u001b[34mif\u001b[39;49;00m TR[s] \u001b[35mand\u001b[39;49;00m TR[t] \u001b[34melse\u001b[39;49;00m \u001b[34m0\u001b[39;49;00m\n",
      "0474:             IP += \u001b[34m3\u001b[39;49;00m\n",
      "0475: \n",
      "0476:         \u001b[34melif\u001b[39;49;00m CS[IP] == \u001b[33m'\u001b[39;49;00m\u001b[33mOR\u001b[39;49;00m\u001b[33m'\u001b[39;49;00m:\n",
      "0477: \n",
      "0478:             TR[r] = \u001b[34m1\u001b[39;49;00m \u001b[34mif\u001b[39;49;00m TR[s] \u001b[35mor\u001b[39;49;00m TR[t] \u001b[34melse\u001b[39;49;00m \u001b[34m0\u001b[39;49;00m\n",
      "0479:             IP += \u001b[34m3\u001b[39;49;00m\n",
      "0480: \n",
      "0481:         \u001b[34melif\u001b[39;49;00m CS[IP] == \u001b[33m'\u001b[39;49;00m\u001b[33mNOT\u001b[39;49;00m\u001b[33m'\u001b[39;49;00m:\n",
      "0482: \n",
      "0483:             TR[r] = \u001b[34m0\u001b[39;49;00m \u001b[34mif\u001b[39;49;00m TR[s] \u001b[34melse\u001b[39;49;00m \u001b[34m1\u001b[39;49;00m\n",
      "0484:             IP += \u001b[34m2\u001b[39;49;00m\n",
      "0485: \n",
      "0486:         \u001b[34melse\u001b[39;49;00m:\n",
      "0487: \n",
      "0488:             txt = \u001b[33m'\u001b[39;49;00m\u001b[33m\\n\u001b[39;49;00m\u001b[33m\\n\u001b[39;49;00m\u001b[33mrbm: Syntax error: unknown bytecode <{}>\u001b[39;49;00m\u001b[33m\\n\u001b[39;49;00m\u001b[33m\\n\u001b[39;49;00m\u001b[33m'\u001b[39;49;00m.format(CS[IP])\n",
      "0489:             \u001b[34mprint\u001b[39;49;00m(txt)\n",
      "0490:             sys.exit()\n",
      "0491: \n",
      "0492:         \u001b[37m# ---------------------------------------------------------------------\u001b[39;49;00m\n",
      "0493:         TR[\u001b[34m0\u001b[39;49;00m] = \u001b[34m0\u001b[39;49;00m   \u001b[37m# TR[0] es siempre 0\u001b[39;49;00m\n",
      "0494:         IP += \u001b[34m1\u001b[39;49;00m\n",
      "0495: \n",
      "0496: \n",
      "0497: \n",
      "0498: \u001b[34mif\u001b[39;49;00m __name__ == \u001b[33m'\u001b[39;49;00m\u001b[33m__main__\u001b[39;49;00m\u001b[33m'\u001b[39;49;00m:\n",
      "0499: \n",
      "0500: \n",
      "0501:     \u001b[34mif\u001b[39;49;00m \u001b[36mlen\u001b[39;49;00m(sys.argv) > \u001b[34m1\u001b[39;49;00m:\n",
      "0502:         \u001b[34mfor\u001b[39;49;00m filename \u001b[35min\u001b[39;49;00m sys.argv[\u001b[34m1\u001b[39;49;00m:]:\n",
      "0503:             rbm(filename)\n",
      "0504:     \u001b[34melse\u001b[39;49;00m:\n",
      "0505:         filename = \u001b[36minput\u001b[39;49;00m()\n",
      "0506:         rbm(filename)\n",
      "0507: \n"
     ]
    }
   ],
   "source": [
    "%%sh\n",
    "pygmentize -O linenos=1 -g rbm.py"
   ]
  },
  {
   "cell_type": "markdown",
   "metadata": {},
   "source": [
    "## Ejemplos de programación - rbm"
   ]
  },
  {
   "cell_type": "markdown",
   "metadata": {},
   "source": [
    "[Contenido](#Contenido)"
   ]
  },
  {
   "cell_type": "markdown",
   "metadata": {},
   "source": [
    "### Operaciones aritméticas simples - rbm"
   ]
  },
  {
   "cell_type": "markdown",
   "metadata": {},
   "source": [
    "[Contenido](#Contenido)"
   ]
  },
  {
   "cell_type": "code",
   "execution_count": 16,
   "metadata": {
    "collapsed": false
   },
   "outputs": [
    {
     "name": "stdout",
     "output_type": "stream",
     "text": [
      "Overwriting example.txt\n"
     ]
    }
   ],
   "source": [
    "%%writefile example.txt\n",
    "\n",
    "# ------------------------------\n",
    "# write (10 * 20 + 30 * 40);\n",
    "# end\n",
    "# ------------------------------\n",
    "#\n",
    "#       r   s   t\n",
    "# ------------------------------------\n",
    "%%\n",
    "ADD+    1   0  10   #  $1 <- $0 + 10\n",
    "ADD+    2   0  20   #  $2 <- $0 + 20\n",
    "ADD+    3   0  30   #  $3 <- $0 + 30\n",
    "ADD+    4   0  40   #  $4 <- $0 + 40\n",
    "*       1   1   2   #  $1 <- $1 * $2\n",
    "*       3   3   4   #  $3 <- $3 * $4\n",
    "+       1   1   3   #  $1 <- $1 + $3\n",
    "PRN     1           #  print $1\n",
    "HLT                 #  halt\n"
   ]
  },
  {
   "cell_type": "code",
   "execution_count": 17,
   "metadata": {
    "collapsed": false
   },
   "outputs": [
    {
     "name": "stdout",
     "output_type": "stream",
     "text": [
      "1400\n"
     ]
    }
   ],
   "source": [
    "%%sh\n",
    "python rbm.py example.txt"
   ]
  },
  {
   "cell_type": "markdown",
   "metadata": {},
   "source": [
    "### Asignación de Variables - rbm"
   ]
  },
  {
   "cell_type": "markdown",
   "metadata": {},
   "source": [
    "[Contenido](#Contenido)"
   ]
  },
  {
   "cell_type": "code",
   "execution_count": 18,
   "metadata": {
    "collapsed": false
   },
   "outputs": [
    {
     "name": "stdout",
     "output_type": "stream",
     "text": [
      "Overwriting example.txt\n"
     ]
    }
   ],
   "source": [
    "%%writefile example.txt\n",
    "# ------------------------------\n",
    "# var x:num, y:num;\n",
    "# x := 20;\n",
    "# y := x + 10;\n",
    "# write(y);\n",
    "# end\n",
    "# ------------------------------\n",
    "#\n",
    "# x tendria la posicion 0 en el DR y\n",
    "# y tendria la posicion 1\n",
    "#\n",
    "#       r   s   t\n",
    "#--------------------------------------------\n",
    "%%\n",
    "ADD+    1   0  20   #  $1 <- $0 + 20\n",
    "STO     1   0       #  DR[0] <- $1\n",
    "RCL     1   0       #  $1 <- DR[0]\n",
    "ADD+    2   0  10   #  $2 <- $0 + 10\n",
    "+       1   1   2   #  $1 <- $1 + $2\n",
    "STO     1   1       #  DR[1] <- $1\n",
    "RCL     1   1       #  $1 <- DR[1]\n",
    "PRN     1           #  print $1\n",
    "HLT                 #  halt\n"
   ]
  },
  {
   "cell_type": "code",
   "execution_count": 19,
   "metadata": {
    "collapsed": false
   },
   "outputs": [
    {
     "name": "stdout",
     "output_type": "stream",
     "text": [
      "30\n"
     ]
    }
   ],
   "source": [
    "%%sh\n",
    "python rbm.py example.txt"
   ]
  },
  {
   "cell_type": "markdown",
   "metadata": {},
   "source": [
    "### Impresión de los números del 1 al 5 - rbm"
   ]
  },
  {
   "cell_type": "markdown",
   "metadata": {},
   "source": [
    "[Contenido](#Contenido)"
   ]
  },
  {
   "cell_type": "code",
   "execution_count": 15,
   "metadata": {
    "collapsed": true
   },
   "outputs": [],
   "source": [
    "%%writefile example.txt\n",
    "\n",
    "# ------------------------------------\n",
    "# var n:num;\n",
    "# n := 1;\n",
    "# while (n <= 5) do\n",
    "#     {\n",
    "#     write(n);\n",
    "#     n := n + 1;\n",
    "#     }\n",
    "# end\n",
    "# ---------------------------------------------------------\n",
    "%%\n",
    "                        #\n",
    "        ADD+  1  0  1   #       $1 <- $0 + 1\n",
    "        STO   1  0      #       DR[0] <- $1\n",
    "LBL 0                   #  L0:\n",
    "        RCL   1  0      #       $1 <- DR[0]\n",
    "        ADD+  2  0  5   #       $2 <- $0 + 5\n",
    "        <=    1  1  2   #       $1 <- $1 <= $2\n",
    "        IFZ   1  1      #       if ($1 == 0) goto L1\n",
    "        RCL   1  0      #       $1 <- DR[0]\n",
    "        PRN   1         #       print $1\n",
    "        ADD+  1  1  1   #       $1 <- $1 + 1\n",
    "        STO   1  0      #       DR[0] <- $1\n",
    "        GTO   0         #       goto L0\n",
    "LBL 1                   #  L1:\n",
    "        HLT             #       halt\n",
    "\n"
   ]
  },
  {
   "cell_type": "code",
   "execution_count": 20,
   "metadata": {
    "collapsed": false
   },
   "outputs": [
    {
     "name": "stdout",
     "output_type": "stream",
     "text": [
      "30\n"
     ]
    }
   ],
   "source": [
    "%%sh\n",
    "python rbm.py example.txt"
   ]
  },
  {
   "cell_type": "markdown",
   "metadata": {},
   "source": [
    "### Funciones de usuario - rbm"
   ]
  },
  {
   "cell_type": "markdown",
   "metadata": {},
   "source": [
    "[Contenido](#Contenido)"
   ]
  },
  {
   "cell_type": "code",
   "execution_count": 23,
   "metadata": {
    "collapsed": false
   },
   "outputs": [
    {
     "name": "stdout",
     "output_type": "stream",
     "text": [
      "Overwriting example.txt\n"
     ]
    }
   ],
   "source": [
    "%%writefile example.txt\n",
    "\n",
    "# ------------------------------------------------\n",
    "# function @sum2:num(x:num, y:num)\n",
    "#     {\n",
    "#     return x + y;\n",
    "#     }\n",
    "#\n",
    "# function @sum4:num(x:num, y:num, z:num, w:num)\n",
    "#     {\n",
    "#     return @sum2(x, y) + @sum2(z, w);\n",
    "#     }\n",
    "#\n",
    "# write( @sum4(10, 20, 30, 40) );\n",
    "# end\n",
    "# ------------------------------------------------\n",
    "#\n",
    "#  DR  contenido\n",
    "#   0  x:@sum2\n",
    "#   1  y:@sum2\n",
    "#   2  x:@sum4\n",
    "#   3  y:@sum4\n",
    "#   4  z:@sum4\n",
    "#   5  w:@sum4\n",
    "#   6  ret:@sum2\n",
    "#   7  ret:@sum4\n",
    "#\n",
    "#--------------------------------------------------------------\n",
    "%%\n",
    "\n",
    "        GTO  2\n",
    "\n",
    "LBL 0                  # entry point @sum2()\n",
    "\n",
    "        RCL   1  0     # x:@sum2\n",
    "        RCL   2  1     # y:@sum2\n",
    "        +     1  1  2  #\n",
    "        STO   1  6     # ret:@sum2\n",
    "        RET            #\n",
    "\n",
    "LBL 1                  # entry point @sum4()\n",
    "\n",
    "        RCL   1  2     # $1 <- x:@sum4\n",
    "        STO   1  0     # $1 -> x:@sum2\n",
    "        RCL   1  3     # $1 <- y:@sum4\n",
    "        STO   1  1     # $1 -> y:@sum2\n",
    "        GSB   0\n",
    "        RCL   1  6     # $1 <- ret:@sum2\n",
    "\n",
    "        RCL   2  4     # $2 <- z:@sum4\n",
    "        STO   2  0     # $2 -> x:@sum2\n",
    "        RCL   2  5     # $2 <- w:@sum4\n",
    "        STO   2  1     # $2 -> y:@sum2\n",
    "        GSB   0\n",
    "        RCL   2  6     # $2 <- ret:@sum2\n",
    "\n",
    "        +     1  1  2  # $1 <- $1 + $2\n",
    "        STO   1  7     # $1 -> ret:@sum4\n",
    "        RET\n",
    "\n",
    "LBL 2                  # programa principal\n",
    "\n",
    "        ADD+  1  0 10  # $1 <- $0 + 10\n",
    "        STO   1  2     # $1 -> x:@sum4\n",
    "        ADD+  1  0 20  # $1 <- $0 + 10\n",
    "        STO   1  3     # $1 -> y:s@sum4\n",
    "        ADD+  1  0 30  # $1 <- $0 + 30\n",
    "        STO   1  4     # $1 -> z:@sum4\n",
    "        ADD+  1  0 40  # $1 <- $0 + 40\n",
    "        STO   1  5     # $1 -> w:@sum4\n",
    "        GSB   1\n",
    "        RCL   1  7     # $1 <- ret:@sum4\n",
    "        PRN   1        # PRT $1\n",
    "        HLT            #\n"
   ]
  },
  {
   "cell_type": "code",
   "execution_count": 24,
   "metadata": {
    "collapsed": false
   },
   "outputs": [
    {
     "name": "stdout",
     "output_type": "stream",
     "text": [
      "100\n"
     ]
    }
   ],
   "source": [
    "%%sh\n",
    "python rbm.py example.txt"
   ]
  },
  {
   "cell_type": "markdown",
   "metadata": {},
   "source": [
    "---"
   ]
  },
  {
   "cell_type": "markdown",
   "metadata": {},
   "source": [
    "[Contenido](#Contenido)"
   ]
  }
 ],
 "metadata": {
  "kernelspec": {
   "display_name": "Python 3",
   "language": "python",
   "name": "python3"
  },
  "language_info": {
   "codemirror_mode": {
    "name": "ipython",
    "version": 3
   },
   "file_extension": ".py",
   "mimetype": "text/x-python",
   "name": "python",
   "nbconvert_exporter": "python",
   "pygments_lexer": "ipython3",
   "version": "3.5.2"
  }
 },
 "nbformat": 4,
 "nbformat_minor": 0
}
