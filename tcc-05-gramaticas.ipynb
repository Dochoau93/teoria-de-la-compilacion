{
 "cells": [
  {
   "cell_type": "markdown",
   "metadata": {},
   "source": [
    "# Gramáticas Libres del Contexto\n",
    "Notas de clase sobre Teoría de la Compilación"
   ]
  },
  {
   "cell_type": "markdown",
   "metadata": {},
   "source": [
    "**Juan David Velásquez Henao**   \n",
    "jdvelasq@unal.edu.co  \n",
    "Universidad Nacional de Colombia, Sede Medellín  \n",
    "Facultad de Minas  \n",
    "Medellín, Colombia  \n",
    "\n",
    "[Licencia](https://github.com/jdvelasq/teoria-de-la-compilacion/blob/master/LICENCIA.txt)  \n",
    "[Readme](https://github.com/jdvelasq/teoria-de-la-compilacion/blob/master/readme.md)"
   ]
  },
  {
   "cell_type": "markdown",
   "metadata": {},
   "source": [
    "**Software utilizado**.\n",
    "\n",
    "> Este es un documento interactivo escrito como un notebook de [Jupyter](http://jupyter.org), en el cual se presenta una introducción al diseño de lectores, generadores, traductores, interpretes y compiladores. Los notebooks de Jupyter permiten incoporar simultáneamente código, texto, gráficos y ecuaciones. El código presentado en este notebook puede ejecutarse en los sistemas operativos Windows, Linux y OS X.\n",
    "\n",
    "> Haga click [aquí](https://github.com/jdvelasq/guias-de-instalacion) para obtener instrucciones detalladas sobre como instalar Jupyter en Windows y Mac OS X.\n",
    "\n",
    "> Haga clic [aquí](http://nbviewer.jupyter.org/github/jdvelasq/teoria-de-la-compilacion/blob/master/tcc-05-gramaticas.ipynb) para ver la última versión de este documento en nbviewer.\n",
    "\n",
    "> Descargue la última versión de este documento, los archivos de datos y los programas en Python a su disco duro; luego, carguelos y ejecutelos en línea en [Try Jupyter!](https://try.jupyter.org)"
   ]
  },
  {
   "cell_type": "markdown",
   "metadata": {},
   "source": [
    "#### Contenido"
   ]
  },
  {
   "cell_type": "markdown",
   "metadata": {},
   "source": [
    ">   * [Objetivo del Análisis Sintáctico](#Objetivo-del-Análisis-Sintáctico)\n",
    "  * [Ejemplo de una gramática](#Ejemplo-de-una-gramática)\n",
    "  * [Derivación](#Derivación)\n",
    "  * [Lenguaje definido por una gramática G.](#Lenguaje-definido-por-una-gramática-G.)\n",
    "  * [Gramáticas recursivas por la izquierda y por la derecha](#Gramáticas-recursivas-por-la-izquierda-y-por-la-derecha)\n",
    "  * [Árbol de análisis](#Árbol-de-análisis)\n",
    "  * [Árbol de análisis y árbol sintáctico abstracto](#Árbol-de-análisis-y-árbol-sintáctico-abstracto)\n",
    "  * [Ambiguedad](#Ambiguedad)\n",
    "  * [Precedencia y asociatividad](#Precedencia-y-asociatividad)\n",
    "  * [Analizador recursivo descendente LL-1](#Analizador-recursivo-descendente-LL-1)\n",
    "    * [Implementación](#Implementación)\n",
    "\n"
   ]
  },
  {
   "cell_type": "markdown",
   "metadata": {},
   "source": [
    "# Objetivo del Análisis Sintáctico"
   ]
  },
  {
   "cell_type": "markdown",
   "metadata": {},
   "source": [
    "[Contenido](#Contenido)"
   ]
  },
  {
   "cell_type": "markdown",
   "metadata": {},
   "source": [
    "Determinar si una cadena de tokens es legal en un lenguaje.  \n",
    "\n",
    "Secuencia legal:\n",
    "\n",
    "```python\n",
    "x := (1 + 2 * 3);\n",
    "```\n",
    "\n",
    "\n",
    "Secuencia ilegal:  \n",
    "\n",
    "```python\n",
    "x, y := (1 + 2 * 3;\n",
    "```\n",
    "\n",
    "\n",
    "(Determinación de errores sintácticos del código fuente)."
   ]
  },
  {
   "cell_type": "markdown",
   "metadata": {},
   "source": [
    "# Ejemplo de una gramática"
   ]
  },
  {
   "cell_type": "markdown",
   "metadata": {},
   "source": [
    "[Contenido](#Contenido)"
   ]
  },
  {
   "cell_type": "markdown",
   "metadata": {},
   "source": [
    "```\n",
    "1:\texp: exp  op  exp\n",
    "2:\texp: ‘(’ exp ‘)’\n",
    "3:\texp: NUM\n",
    "4:\top: ‘+’\n",
    "5:\top: ‘-’\n",
    "6:\top: ‘*’\n",
    "```\n",
    "\n",
    "\n",
    "Notación corta: \n",
    "\n",
    "```\n",
    "exp: exp op exp | ‘(’ exp ‘)’ | NUM\n",
    "op:  ‘+’  |  ‘–’ |  ‘*’  \n",
    "```\n",
    "\n",
    "Las reglas  gramaticales reciben el nombre de producciones."
   ]
  },
  {
   "cell_type": "markdown",
   "metadata": {},
   "source": [
    "# Derivación"
   ]
  },
  {
   "cell_type": "markdown",
   "metadata": {},
   "source": [
    "[Contenido](#Contenido)"
   ]
  },
  {
   "cell_type": "markdown",
   "metadata": {},
   "source": [
    "Derivación de la expresión aritmética  `(34 – 3) * 42` usando la gramática anterior. \n",
    "\n",
    "```\n",
    "(1)\texp:  exp op  exp                 [regla 1: exp: exp  op  exp]\n",
    "(2)\texp:  exp op NUM                  [regla 3: exp: NUM]\n",
    "(3)\texp:  exp ‘*’ NUM                 [regla 6: op: ‘*’]\n",
    "(4)\texp:  ‘(’ NUM ‘)’ * NUM           [regla 2: exp: ‘(’ exp ‘)’]\n",
    "(5)\texp:  ‘(’ NUM op exp ‘)’ * NUM    [regla 1: exp: exp  op  exp]\n",
    "(6)\texp:  ‘(’ NUM op NUM ‘)’ * NUM    [regla 3: exp: NUM]\n",
    "(7)\texp:  ‘(’ NUM – NUM ‘)’ * NUM     [regla 5: op: ‘–’ ]\n",
    "(8)\texp:  ‘(’ NUM – NUM ‘)’ * NUM     [regla 3: exp: NUM]\n",
    "```\n",
    "\n",
    "Derive para la expresión  `3 * (4 – 5)`."
   ]
  },
  {
   "cell_type": "markdown",
   "metadata": {},
   "source": [
    "# Lenguaje definido por una gramática G."
   ]
  },
  {
   "cell_type": "markdown",
   "metadata": {},
   "source": [
    "[Contenido](#Contenido)"
   ]
  },
  {
   "cell_type": "markdown",
   "metadata": {},
   "source": [
    "$$L(G)= \\{s \\; | \\; exp \\to^* s \\}$$\n",
    "\n",
    "\n",
    "Indique cuál es el lenguaje definido por las siguientes gramáticas:\n",
    "\n",
    "a)\t\n",
    "```\n",
    "      E: ‘(’ E ‘)’ | ‘a’\n",
    "```\n",
    "\n",
    "b)\t\n",
    "```\n",
    "      E: E ‘+’ ‘a’ | ‘a’\n",
    "```\n",
    "\n",
    "\n",
    "c) \n",
    "```\n",
    "      stmt:   ifstmt |  OTHER  \n",
    "      ifstmt: IF ‘(’ exp ‘)’ stmt | IF  ‘(’ exp ‘)’ stmt ELSE stmt  \n",
    "      exp: ‘0’  |  ‘1’\n",
    "```"
   ]
  },
  {
   "cell_type": "markdown",
   "metadata": {},
   "source": [
    "# Gramáticas recursivas por la izquierda y por la derecha"
   ]
  },
  {
   "cell_type": "markdown",
   "metadata": {},
   "source": [
    "[Contenido](#Contenido)"
   ]
  },
  {
   "cell_type": "markdown",
   "metadata": {},
   "source": [
    "* Gramática recursiva por la izquierda:  $A \\to A \\; \\alpha \\;|\\;  \\beta$   (qué cadenas genera?)"
   ]
  },
  {
   "cell_type": "markdown",
   "metadata": {},
   "source": [
    "* Gramática recursiva por la derecha:  $A \\to \\alpha \\; A \\; | \\; \\beta$     (qué cadenas genera?)"
   ]
  },
  {
   "cell_type": "markdown",
   "metadata": {},
   "source": [
    "**Ejercicio.--** Indique cuales cadenas generan las gramáticas:\n",
    "\n",
    "a)    \n",
    "```\n",
    "     A: (A) A | ε\n",
    "```\n",
    "\n",
    "b)\t\n",
    "```\n",
    "    stmt:     ifstmt  |  other\n",
    "\tifstmt:   if  ( exp ) stmt   |   if  ( exp ) stmt elsepart\n",
    "\telsepart: else stmt  |  ε  \n",
    "\texp:      0 | 1\n",
    "``` "
   ]
  },
  {
   "cell_type": "markdown",
   "metadata": {},
   "source": [
    "# Árbol de análisis"
   ]
  },
  {
   "cell_type": "markdown",
   "metadata": {},
   "source": [
    "[Contenido](#Contenido)"
   ]
  },
  {
   "cell_type": "markdown",
   "metadata": {},
   "source": [
    "![alt text](images/tcc-04-1-arbolAnalisis.tiff)"
   ]
  },
  {
   "cell_type": "markdown",
   "metadata": {},
   "source": [
    "# Árbol de análisis y árbol sintáctico abstracto"
   ]
  },
  {
   "cell_type": "markdown",
   "metadata": {},
   "source": [
    "[Contenido](#Contenido)"
   ]
  },
  {
   "cell_type": "markdown",
   "metadata": {},
   "source": [
    "![alt text](images/tcc-04-2-arbolAnalisisAbstracto.jpg)"
   ]
  },
  {
   "cell_type": "markdown",
   "metadata": {},
   "source": [
    "# Ambiguedad"
   ]
  },
  {
   "cell_type": "markdown",
   "metadata": {},
   "source": [
    "[Contenido](#Contenido)"
   ]
  },
  {
   "cell_type": "markdown",
   "metadata": {},
   "source": [
    "**Ejercicio.--** Aplique la derivación por la izquierda y la derivación por la derecha a la expresión `34 - 3 * 42` usando la siguiente gramática.\n",
    "\n",
    "```\n",
    "exp: exp  op  exp  |  ‘(’ exp ‘)’ |  NUM\n",
    "\n",
    "op: ‘+’  |  ‘–’ |  ‘*’  \n",
    "```\n",
    "\n",
    "(observe que la derivación da dos árboles sintácticos diferentes)"
   ]
  },
  {
   "cell_type": "markdown",
   "metadata": {},
   "source": [
    "# Precedencia y asociatividad"
   ]
  },
  {
   "cell_type": "markdown",
   "metadata": {},
   "source": [
    "[Contenido](#Contenido)"
   ]
  },
  {
   "cell_type": "markdown",
   "metadata": {},
   "source": [
    "Para remover la ambigüedad se agrupan los operadores por grupos de precedencia y se crea una regla para cada uno de ellos.\n",
    "\n",
    "```\n",
    "exp: exp  op  exp  |  ‘(’ exp ‘)’ |  NUM\n",
    "\n",
    "op: ‘+’  |  ‘–’ |  ‘*‘\n",
    "```\n",
    "\n",
    "se transforma en:\n",
    "\n",
    "```\n",
    "exp:    exp  addop  exp  |  term\n",
    "addop:  ‘+’  |  ‘–’\n",
    "term:   term mulop term | factor\n",
    "mulop:  ‘*’\n",
    "factor: ‘(’ exp ‘)’ | NUM\n",
    "```\n",
    "\n",
    "Sin embargo, la gramática continua siendo ambigua. Se agrega asociatividad por la izquierda transformado la gramática anterior en:\n",
    "\n",
    "```\n",
    "exp:    exp  addop  term  |  term\n",
    "addop:  ‘+’  |  ‘–’\n",
    "term:   term mulop factor | factor\n",
    "mulop:  ‘*’\n",
    "factor: ‘(’ exp ‘)’ | NUM\n",
    "```"
   ]
  },
  {
   "cell_type": "markdown",
   "metadata": {},
   "source": [
    "**Ejercicio.--**  Elimine la ambigüedad de la siguiente gramática.\n",
    "\n",
    "```\n",
    "exp: exp  op  exp  |  '(' exp ')'  |  NUM\n",
    "\n",
    "op: '+'  |  '–' |  '*'  | '<' |  '==' \n",
    "```\n"
   ]
  },
  {
   "cell_type": "markdown",
   "metadata": {},
   "source": [
    "**Ambiguedad no esencial**\n",
    "\n",
    "Son gramáticas que independientemente del tipo de recursividad (izquierda o derecha) producen siempre el mismo árbol.\n"
   ]
  },
  {
   "cell_type": "markdown",
   "metadata": {},
   "source": [
    "**Ejercicio.--** Dada la gramática:\n",
    "\n",
    "```\n",
    "exp:    exp  addop  term  |  term\n",
    "addop:  ‘+’  |  ‘–’\n",
    "term:   term mulop factor | factor\n",
    "mulop:  ‘*’\n",
    "factor: ‘(’ exp ‘)’ | NUM\n",
    "```\n",
    "\n",
    "\n",
    "Escriba la derivación de la izquierda, árbol de análisis y árbol sintáctico de las siguientes expresiones:\n",
    "\n",
    "a)  `3 + 4 * 5 – 6`  \n",
    "b)  `3 * (4 – 5 + 6)`  \n",
    "c)  `3 – (4 + 5 * 6)`  \n"
   ]
  },
  {
   "cell_type": "markdown",
   "metadata": {},
   "source": [
    "# Analizador recursivo descendente LL-1"
   ]
  },
  {
   "cell_type": "markdown",
   "metadata": {},
   "source": [
    "[Contenido](#Contenido)"
   ]
  },
  {
   "cell_type": "markdown",
   "metadata": {},
   "source": [
    "Considere la siguiente gramática:\n",
    "\n",
    "```\n",
    "list0:    '[' elements ']'\n",
    "\n",
    "elements:  element [',' element]*\n",
    "\n",
    "element:   LETTER  |  list0\n",
    "```\n",
    "\n",
    "Ejemplos de expresiones reconocidas por la gramática:\n",
    "\n",
    "```\n",
    "[a]\n",
    "[a, b]\n",
    "[a, b, c]\n",
    "[[a, b], [c, d]]\n",
    "```"
   ]
  },
  {
   "cell_type": "markdown",
   "metadata": {},
   "source": [
    "**Ejercicio.--** Ejemplifique el reconocimiento de `[ a ]`."
   ]
  },
  {
   "cell_type": "markdown",
   "metadata": {},
   "source": [
    "**Ejercicio.--** Ejemplifique el reconocimiento de `[ a , b ,  [ c , d ] ]`."
   ]
  },
  {
   "cell_type": "markdown",
   "metadata": {},
   "source": [
    "## Implementación"
   ]
  },
  {
   "cell_type": "markdown",
   "metadata": {},
   "source": [
    "[Contenido](#Contenido)"
   ]
  },
  {
   "cell_type": "code",
   "execution_count": 1,
   "metadata": {
    "collapsed": true
   },
   "outputs": [],
   "source": [
    "import dataTree as dt\n",
    "import sys, shlex\n",
    "\n",
    "## analizador recursivo descendente\n",
    "def ard(text):\n",
    "\n",
    "    ## prepara las estructuras de datos\n",
    "    DATA = dt.TreeNode('DATA')\n",
    "    TOKENTABLE = dt.SubNode(DATA, 'TOKENTABLE')\n",
    "\n",
    "    ##\n",
    "    ## analizador léxico\n",
    "    ##\n",
    "    def yylex(text):\n",
    "    \n",
    "        ## parte *generica* para todos los analizadores lexicos\n",
    "        def put_token(token, lexeme):\n",
    "            #\n",
    "            dt.SubNode(TOKENTABLE, '', dict(token = token, lexeme = lexeme))\n",
    "            #\n",
    "\n",
    "        TOKENTABLE.clear() # borra la tabla de tokens si existe\n",
    "\n",
    "        \n",
    "        ## ejecución del analisis lexico\n",
    "        lexemes = list(shlex.shlex(text))\n",
    "        for lexeme in lexemes:\n",
    "\n",
    "            if lexeme in '[ ]  ,'.split():\n",
    "                #\n",
    "                put_token(lexeme, lexeme)\n",
    "                #\n",
    "            elif lexeme.isalpha():\n",
    "                #\n",
    "                put_token('LETTER', lexeme)\n",
    "                #\n",
    "            else:\n",
    "                #\n",
    "                print('Caracter invalido:', lexeme)\n",
    "                sys.exit()\n",
    "\n",
    "        put_token('EOI', 'EOI')\n",
    "\n",
    "        \n",
    "    ##\n",
    "    ## funciones genericas requeridas por\n",
    "    ## el parser durante el reconocimiento de\n",
    "    ## la gramatica\n",
    "    ##\n",
    "    def yytext(offset=0):\n",
    "        #\n",
    "        return TOKENTABLE[TOKENTABLE.get('index')].get('lexeme')\n",
    "        #\n",
    "    \n",
    "    def yytoken():\n",
    "        #\n",
    "        return TOKENTABLE[TOKENTABLE.get('index')].get('token')\n",
    "        #\n",
    "    \n",
    "    def yymatch(token, offset=0):\n",
    "        #\n",
    "        return token == yytoken()\n",
    "        #\n",
    "\n",
    "    def yyadvance(offset=1):\n",
    "        #\n",
    "        TOKENTABLE.attrib['index'] += offset\n",
    "        #\n",
    "\n",
    "    def yyaccept(token, advance=True):\n",
    "        #\n",
    "        if not yymatch(token):\n",
    "            print('Syntax error')\n",
    "            sys.exit()\n",
    "            \n",
    "        print('<' + yytoken() + ',\\'' + yytext() + '\\'>')\n",
    "            \n",
    "        if advance:\n",
    "            yyadvance()\n",
    "\n",
    "    ##\n",
    "    ## Analizador sintáctico\n",
    "    ##\n",
    "    def yyparse():\n",
    "        \"\"\"\n",
    "        gramatica:\n",
    "\n",
    "            list0:    '[' elements ']'\n",
    "\n",
    "            elements:  element [',' element]*\n",
    "\n",
    "            element:   LETTER  |  list0\n",
    "\n",
    "        \"\"\"\n",
    "\n",
    "        def list0():\n",
    "            yyaccept('[')\n",
    "            elements()\n",
    "            yyaccept(']')\n",
    "\n",
    "        def elements():\n",
    "            element()\n",
    "            while yymatch(','):\n",
    "                yyaccept(',')\n",
    "                elements()\n",
    "\n",
    "        def element():\n",
    "            if yymatch('LETTER'):\n",
    "                yyaccept('LETTER')\n",
    "            else:\n",
    "                list0()\n",
    "\n",
    "        # 'index' almacena el indice del token\n",
    "        # actual en la tabla de tokens\n",
    "        TOKENTABLE.set('index', 0)\n",
    "        list0()\n",
    "        print(\"\")\n",
    "        del TOKENTABLE.attrib['index']\n",
    "\n",
    "\n",
    "    yylex(text)\n",
    "    dt.printTree(TOKENTABLE)\n",
    "    print(\"\")\n",
    "    yyparse()\n",
    "\n"
   ]
  },
  {
   "cell_type": "code",
   "execution_count": 2,
   "metadata": {
    "collapsed": false
   },
   "outputs": [
    {
     "name": "stdout",
     "output_type": "stream",
     "text": [
      "+-- TOKENTABLE\n",
      "    +--  {lexeme: [, token: [}\n",
      "    +--  {lexeme: a, token: LETTER}\n",
      "    +--  {lexeme: ,, token: ,}\n",
      "    +--  {lexeme: b, token: LETTER}\n",
      "    +--  {lexeme: ,, token: ,}\n",
      "    +--  {lexeme: c, token: LETTER}\n",
      "    +--  {lexeme: ], token: ]}\n",
      "    +--  {lexeme: EOI, token: EOI}\n",
      "\n",
      "<[,'['>\n",
      "<LETTER,'a'>\n",
      "<,,','>\n",
      "<LETTER,'b'>\n",
      "<,,','>\n",
      "<LETTER,'c'>\n",
      "<],']'>\n",
      "\n"
     ]
    }
   ],
   "source": [
    "ard( '[a, b, c]' )"
   ]
  },
  {
   "cell_type": "code",
   "execution_count": 3,
   "metadata": {
    "collapsed": false
   },
   "outputs": [
    {
     "name": "stdout",
     "output_type": "stream",
     "text": [
      "+-- TOKENTABLE\n",
      "    +--  {lexeme: [, token: [}\n",
      "    +--  {lexeme: [, token: [}\n",
      "    +--  {lexeme: a, token: LETTER}\n",
      "    +--  {lexeme: ,, token: ,}\n",
      "    +--  {lexeme: b, token: LETTER}\n",
      "    +--  {lexeme: ,, token: ,}\n",
      "    +--  {lexeme: c, token: LETTER}\n",
      "    +--  {lexeme: ], token: ]}\n",
      "    +--  {lexeme: ,, token: ,}\n",
      "    +--  {lexeme: [, token: [}\n",
      "    +--  {lexeme: x, token: LETTER}\n",
      "    +--  {lexeme: ,, token: ,}\n",
      "    +--  {lexeme: y, token: LETTER}\n",
      "    +--  {lexeme: ,, token: ,}\n",
      "    +--  {lexeme: z, token: LETTER}\n",
      "    +--  {lexeme: ], token: ]}\n",
      "    +--  {lexeme: ], token: ]}\n",
      "    +--  {lexeme: EOI, token: EOI}\n",
      "\n",
      "<[,'['>\n",
      "<[,'['>\n",
      "<LETTER,'a'>\n",
      "<,,','>\n",
      "<LETTER,'b'>\n",
      "<,,','>\n",
      "<LETTER,'c'>\n",
      "<],']'>\n",
      "<,,','>\n",
      "<[,'['>\n",
      "<LETTER,'x'>\n",
      "<,,','>\n",
      "<LETTER,'y'>\n",
      "<,,','>\n",
      "<LETTER,'z'>\n",
      "<],']'>\n",
      "<],']'>\n",
      "\n"
     ]
    }
   ],
   "source": [
    "ard('[ [a, b, c], [x, y, z]]')"
   ]
  },
  {
   "cell_type": "markdown",
   "metadata": {},
   "source": [
    "## Ejercicio"
   ]
  },
  {
   "cell_type": "markdown",
   "metadata": {},
   "source": [
    "Indique la expresión regular que genera la siguiente gramática.\n",
    "\n",
    "```\n",
    "A:   ‘0’ B | ‘1’ A | ε\n",
    "B:   ‘1’ B | ‘0’\n",
    "```"
   ]
  },
  {
   "cell_type": "markdown",
   "metadata": {},
   "source": [
    "## Ejercicio"
   ]
  },
  {
   "cell_type": "markdown",
   "metadata": {},
   "source": [
    "Cuantas cadenas diferentes genera la siguiente gramática?\n",
    "\n",
    "```\n",
    "a: ‘0’ b | ‘1’ c c\n",
    "b: ‘1’ | ε\n",
    "c: ‘0’ b | ‘1’\n",
    "```"
   ]
  },
  {
   "cell_type": "markdown",
   "metadata": {},
   "source": [
    "## Ejercicio"
   ]
  },
  {
   "cell_type": "markdown",
   "metadata": {},
   "source": [
    "Sea la gramática:\n",
    "\n",
    "```\n",
    "e: e ‘+’ e | NUM\n",
    "```\n",
    "\n",
    "Cuantos árboles sintácticos diferentes tiene la expresión `1 + 2 + 3 + 4`."
   ]
  },
  {
   "cell_type": "markdown",
   "metadata": {},
   "source": [
    "----"
   ]
  },
  {
   "cell_type": "markdown",
   "metadata": {},
   "source": [
    "[Contenido](#Contenido)"
   ]
  }
 ],
 "metadata": {
  "kernelspec": {
   "display_name": "Python 3",
   "language": "python",
   "name": "python3"
  },
  "language_info": {
   "codemirror_mode": {
    "name": "ipython",
    "version": 3
   },
   "file_extension": ".py",
   "mimetype": "text/x-python",
   "name": "python",
   "nbconvert_exporter": "python",
   "pygments_lexer": "ipython3",
   "version": "3.5.2"
  }
 },
 "nbformat": 4,
 "nbformat_minor": 0
}
