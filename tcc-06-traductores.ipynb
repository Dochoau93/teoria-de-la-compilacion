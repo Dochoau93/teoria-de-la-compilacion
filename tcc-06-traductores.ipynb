{
 "cells": [
  {
   "cell_type": "markdown",
   "metadata": {},
   "source": [
    "# Traductores e interpretes dirigidos por sintaxis\n",
    "Notas de clase sobre Teoría de la Compilación"
   ]
  },
  {
   "cell_type": "markdown",
   "metadata": {},
   "source": [
    "**Juan David Velásquez Henao**   \n",
    "jdvelasq@unal.edu.co  \n",
    "Universidad Nacional de Colombia, Sede Medellín  \n",
    "Facultad de Minas  \n",
    "Medellín, Colombia  \n",
    "\n",
    "[Licencia](https://github.com/jdvelasq/teoria-de-la-compilacion/blob/master/LICENCIA.txt)  \n",
    "[Readme](https://github.com/jdvelasq/teoria-de-la-compilacion/blob/master/readme.md)"
   ]
  },
  {
   "cell_type": "markdown",
   "metadata": {},
   "source": [
    "**Software utilizado**.\n",
    "\n",
    "> Este es un documento interactivo escrito como un notebook de [Jupyter](http://jupyter.org), en el cual se presenta una introducción al diseño de lectores, generadores, traductores, interpretes y compiladores. Los notebooks de Jupyter permiten incoporar simultáneamente código, texto, gráficos y ecuaciones. El código presentado en este notebook puede ejecutarse en los sistemas operativos Windows, Linux y OS X.\n",
    "\n",
    "> Haga click [aquí](https://github.com/jdvelasq/guias-de-instalacion) para obtener instrucciones detalladas sobre como instalar Jupyter en Windows y Mac OS X.\n",
    "\n",
    "> Haga clic [aquí](http://nbviewer.jupyter.org/github/jdvelasq/teoria-de-la-compilacion/blob/master/tcc-06-traductores.ipynb) para ver la última versión de este documento en nbviewer.\n",
    "\n",
    "> Descargue la última versión de este documento, los archivos de datos y los programas en Python a su disco duro; luego, carguelos y ejecutelos en línea en [Try Jupyter!](https://try.jupyter.org)"
   ]
  },
  {
   "cell_type": "markdown",
   "metadata": {},
   "source": [
    "#### Contenido"
   ]
  },
  {
   "cell_type": "markdown",
   "metadata": {},
   "source": [
    ">* [Tipos de analizadores top-down](#Tipos-de-analizadores-top-down)\n",
    "* [Transformación de la gramática](#Transformación-de-la-gramática)\n",
    "* [Remoción de recursión por la izquierda.](#Remoción-de-recursión-por-la-izquierda.)\n",
    "* [Factorización por la izquierda.](#Factorización-por-la-izquierda.)\n",
    "* [Traducción de notación infija a postfija o polaca inversa](#Traducción-de-notación-infija-a-postfija-o-polaca-inversa)\n",
    "   * [infix2postfix.py](#infix2postfix.py) \n",
    "   * [Utilidad dc de Unix](#Utilidad-dc-de-Unix)\n",
    "* [Interprete dirigido por sintaxis I](#Interprete-dirigido-por-sintaxis-I)\n",
    "* [Interprete dirigido por sintaxis II](#Interprete-dirigido-por-sintaxis-II)\n",
    "* [Generación del árbol sintáctico](#Generación-del-árbol-sintáctico)\n",
    "    * [infix2ast.py](#infix2ast.py)\n",
    "    * [ast2prefix](#ast2prefix)\n",
    "    * [ast2postfix](#ast2postfix)\n",
    "    * [ast2infix](#ast2infix)"
   ]
  },
  {
   "cell_type": "markdown",
   "metadata": {},
   "source": [
    "# Tipos de analizadores top-down"
   ]
  },
  {
   "cell_type": "markdown",
   "metadata": {},
   "source": [
    "[Contenido](#Contenido)"
   ]
  },
  {
   "cell_type": "markdown",
   "metadata": {},
   "source": [
    "Analizador recursivo descendente (Codificación a mano muy simple)."
   ]
  },
  {
   "cell_type": "markdown",
   "metadata": {},
   "source": [
    "* Analizador LL(1): (**L**eft–to–right, **L**eft-recursive, **1** token–ahead).  "
   ]
  },
  {
   "cell_type": "markdown",
   "metadata": {},
   "source": [
    "* Analizador LL(K): (**L**eft–to–right, **L**eft-recursive, **K** tokens–ahead)."
   ]
  },
  {
   "cell_type": "markdown",
   "metadata": {},
   "source": [
    "**Ejercicio**  \n",
    "Use la siguiente gramática para analizar la expresión `1 + 2 * 3`.\n",
    "\n",
    "    \n",
    "    exp:     term expp\n",
    "\n",
    "    expp:    ‘+’ term expp  |  ε\n",
    "\n",
    "    term:    factor termp\n",
    "\n",
    "    termp:   ‘*’ factor termp |  ε\n",
    "\n",
    "    factor:  NUM | ‘(’ exp ‘)’"
   ]
  },
  {
   "cell_type": "markdown",
   "metadata": {},
   "source": [
    "# Transformación de la gramática"
   ]
  },
  {
   "cell_type": "markdown",
   "metadata": {},
   "source": [
    "[Contenido](#Contenido)"
   ]
  },
  {
   "cell_type": "markdown",
   "metadata": {},
   "source": [
    "Considere la siguiente gramática:\n",
    "\n",
    "    exp:     exp addop term  |  term \n",
    "    \n",
    "    addop:   ‘+’ \n",
    "\n",
    "    term:    term mulop factor | factor \n",
    "\n",
    "    mulop:   ‘*’\n",
    "    \n",
    "    factor:  ‘(’ exp ‘)’ | NUM"
   ]
  },
  {
   "cell_type": "markdown",
   "metadata": {},
   "source": [
    "Ella puede ser reescrita como:\n",
    "\n",
    "\n",
    "    exp → term [addop term]* → term [‘+’ term]*\n",
    "\n",
    "    term → factor [mulop factor]* → factor [‘*’ factor]*\n",
    "\n",
    "    factor → ‘(’ exp ‘)’ | NUM"
   ]
  },
  {
   "cell_type": "markdown",
   "metadata": {},
   "source": [
    "# Remoción de recursión por la izquierda."
   ]
  },
  {
   "cell_type": "markdown",
   "metadata": {},
   "source": [
    "[Contenido](#Contenido)"
   ]
  },
  {
   "cell_type": "markdown",
   "metadata": {},
   "source": [
    "Un conjunto de producciones de la forma:\n",
    "\n",
    "$A \\to A \\alpha_1  \\; | \\; A \\alpha_2 \\; | \\; \\dots  \\; | \\; A \\alpha_n \\; | \\; \n",
    "\\beta_1 \\; | \\; \\beta_2 \\; | \\; \\dots \\; |  \\; \\beta_m $\n",
    "\n",
    "Puede reescribirse como:\n",
    " \n",
    " \n",
    "$ A \\to \\beta_1 A' \\; | \\; \\ldots \\; | \\; \\beta_m A' $\n",
    "\n",
    "$ A' \\to \\alpha_1 A'  \\; | \\; \\alpha_2 A' \\; | \\; \\ldots \\; | \\; \\alpha_n A' \\; | \\; \\epsilon $\n",
    " "
   ]
  },
  {
   "cell_type": "markdown",
   "metadata": {},
   "source": [
    "**Ejemplo**    \n",
    "La producción\n",
    "\n",
    "    exp: exp '+' term  |  exp '–' term   |  term\n",
    "    \n",
    "puede reescribirse como:\n",
    "\n",
    "\n",
    "\texp:   term expp\n",
    "\texpp:  '+' term expp  |  '–' term expp  | ε"
   ]
  },
  {
   "cell_type": "markdown",
   "metadata": {},
   "source": [
    "# Factorización por la izquierda."
   ]
  },
  {
   "cell_type": "markdown",
   "metadata": {},
   "source": [
    "[Contenido](#Contenido)"
   ]
  },
  {
   "cell_type": "markdown",
   "metadata": {},
   "source": [
    "Se requiere cuando dos o más reglas comparten un prefijo común.\n",
    "\n",
    "La regla $A \\to \\alpha \\; \\beta \\; | \\; \\alpha \\; \\gamma$ se reescribe como: \n",
    " \n",
    "$A \\to \\alpha \\; A'$\n",
    "\n",
    "$A' \\to \\beta \\;|\\; \\gamma$"
   ]
  },
  {
   "cell_type": "markdown",
   "metadata": {},
   "source": [
    "**Ejemplo:**  \n",
    "La regla\n",
    "\n",
    "\tif-stmt: IF '(' exp ')' stmt\n",
    "\t       | IF '(' exp ')' stmt ELSE stmt\n",
    "\n",
    "se reescribe como:\n",
    "\n",
    "\tif-stmt:    IF ‘(’ exp ‘)’ stmt  else-part\n",
    "\telse-part:  ELSE stmt | ε"
   ]
  },
  {
   "cell_type": "markdown",
   "metadata": {},
   "source": [
    "# Traducción de notación infija a postfija o polaca inversa"
   ]
  },
  {
   "cell_type": "markdown",
   "metadata": {},
   "source": [
    "[Contenido](#Contenido)"
   ]
  },
  {
   "cell_type": "markdown",
   "metadata": {},
   "source": [
    "Analice la conversión de notación matemática infija a polaca inversa. \n",
    "¿Cómo se puede realizar la traducción?\n",
    "\n",
    "```\n",
    "1 + 2 + 3\t      →  1 2 + 3 +\n",
    "\n",
    "1 * 2 + 3 * 4      →  1 2 * 3 4 * +\n",
    "\n",
    "(1 + 2) * (3 + 4)  →  1 2 + 3 4 + *\n",
    "\n",
    "(para el último caso)\n",
    "    MLT\n",
    "      +-----ADD\n",
    "      |     +---- NUM: 1\n",
    "      |     |\n",
    "      |     +---- NUM: 2\n",
    "      |\n",
    "      +---- ADD\n",
    "            +---- NUM: 3\n",
    "            |\n",
    "            +---- NUM: 4\n",
    "\n",
    "```"
   ]
  },
  {
   "cell_type": "markdown",
   "metadata": {},
   "source": [
    "## infix2postfix.py"
   ]
  },
  {
   "cell_type": "markdown",
   "metadata": {},
   "source": [
    "[Contenido](#Contenido)"
   ]
  },
  {
   "cell_type": "code",
   "execution_count": 1,
   "metadata": {
    "collapsed": true
   },
   "outputs": [],
   "source": [
    "import sys, shlex\n",
    "import dataTree as dt"
   ]
  },
  {
   "cell_type": "code",
   "execution_count": 2,
   "metadata": {
    "collapsed": true
   },
   "outputs": [],
   "source": [
    "def infix2postfix(text):\n",
    "\n",
    "    ## prepara las estructuras de datos\n",
    "    DATA = dt.TreeNode('DATA')\n",
    "    TOKENTABLE = dt.SubNode(DATA, 'TOKENTABLE')\n",
    "\n",
    "    ##\n",
    "    ## analizador léxico\n",
    "    ##\n",
    "    def yylex(text):\n",
    "    \n",
    "        ## parte *generica* para todos los analizadores lexicos\n",
    "        def put_token(token, lexeme):\n",
    "            #\n",
    "            dt.SubNode(TOKENTABLE, '', dict(token = token, lexeme = lexeme))\n",
    "            #\n",
    "\n",
    "        TOKENTABLE.clear() # borra la tabla de tokens si existe\n",
    "\n",
    "        \n",
    "        ## ejecución del analisis lexico\n",
    "        lexemes = list(shlex.shlex(text))\n",
    "        for lexeme in lexemes:\n",
    "\n",
    "            if lexeme in '+ - * / ( )'.split():\n",
    "                put_token(lexeme, lexeme)\n",
    "            elif lexeme.isdigit():\n",
    "                put_token('NUM', lexeme)\n",
    "            else:\n",
    "                print('Caracter invalido:', lexeme)\n",
    "                sys.exit()\n",
    "\n",
    "        put_token('EOI', 'EOI')\n",
    "\n",
    "        \n",
    "    ##\n",
    "    ## funciones genericas requeridas por\n",
    "    ## el parser durante el reconocimiento de\n",
    "    ## la gramatica\n",
    "    ##\n",
    "    def yytext(offset=0):\n",
    "        #\n",
    "        return TOKENTABLE[TOKENTABLE.get('index')].get('lexeme')\n",
    "        #\n",
    "    \n",
    "    def yytoken():\n",
    "        #\n",
    "        return TOKENTABLE[TOKENTABLE.get('index')].get('token')\n",
    "        #\n",
    "    \n",
    "    def yymatch(token, offset=0):\n",
    "        #\n",
    "        return token == yytoken()\n",
    "        #\n",
    "\n",
    "    def yyadvance(offset=1):\n",
    "        #\n",
    "        TOKENTABLE.attrib['index'] += offset\n",
    "        #\n",
    "\n",
    "    def yyaccept(token, advance=True):\n",
    "        #\n",
    "        if not yymatch(token):\n",
    "            print('Syntax error')\n",
    "            sys.exit()\n",
    "            \n",
    "        if advance:\n",
    "            yyadvance()\n",
    "\n",
    "    ##\n",
    "    ## Analizador sintáctico\n",
    "    ##\n",
    "    def yyparse():\n",
    "        \"\"\"\n",
    "        gramatica:\n",
    "\n",
    "            exp:     term expp\n",
    "            expp:    '+' term expp | '-' term expp | `eps`\n",
    "            term:    factor termp\n",
    "            termp:   '*' factor termp | '/' factor termp | `eps`\n",
    "            factor:  NUM  |  '('  exp  ')'\n",
    "\n",
    "        \"\"\"\n",
    "        def expr():\n",
    "            term()\n",
    "            expp()\n",
    "\n",
    "        def expp():\n",
    "            if yymatch('+') or yymatch('-'):\n",
    "                op = yytext()\n",
    "                yyadvance()\n",
    "                term()\n",
    "                print(op, ' ', sep= '', end='')\n",
    "                expp()\n",
    "\n",
    "        def term():\n",
    "            factor()\n",
    "            termp()\n",
    "\n",
    "        def termp():\n",
    "            if yymatch('*') or yymatch('/'):\n",
    "                op = yytext()\n",
    "                yyadvance()\n",
    "                factor()\n",
    "                print(op, ' ', sep= '', end='')\n",
    "                termp()\n",
    "\n",
    "        def factor():\n",
    "            if yymatch('NUM'):\n",
    "                print(yytext(), ' ', sep='', end='')\n",
    "                yyadvance()\n",
    "            elif yymatch('('):\n",
    "                yyadvance()\n",
    "                expr()\n",
    "                yyaccept(')')\n",
    "            else:\n",
    "                print('Syntax error')\n",
    "                sys.exit()\n",
    "\n",
    "        # 'index' almacena el indice del token\n",
    "        # actual en la tabla de tokens\n",
    "        TOKENTABLE.set('index', 0)\n",
    "        expr()\n",
    "        print(\"\")\n",
    "        del TOKENTABLE.attrib['index']\n",
    "\n",
    "\n",
    "    yylex(text)\n",
    "    yyparse()"
   ]
  },
  {
   "cell_type": "code",
   "execution_count": 3,
   "metadata": {
    "collapsed": false
   },
   "outputs": [
    {
     "name": "stdout",
     "output_type": "stream",
     "text": [
      "1 2 + 3 4 + * 5 6 + * \n"
     ]
    }
   ],
   "source": [
    "infix2postfix('(1 + 2) * (3 + 4) * (5 + 6)')"
   ]
  },
  {
   "cell_type": "markdown",
   "metadata": {},
   "source": [
    "## Utilidad dc de Unix"
   ]
  },
  {
   "cell_type": "markdown",
   "metadata": {},
   "source": [
    "[Contenido](#Contenido)"
   ]
  },
  {
   "cell_type": "markdown",
   "metadata": {},
   "source": [
    "Un evaluador de expresiones en notación polaca inversa en fácilmente programable – utilidad dc de Unix.  `bc` es una utilidad que recibe notación polaca, la transforma a poláca reversa y usa a dc como calculadora.\n",
    "\n",
    "Gramática de `dc`.\n",
    "\n",
    "```\n",
    "expr  : cmd expr\n",
    "\n",
    "cmd   : NUM    # introduce el número NUM en el stack\n",
    "      | ‘+’      \n",
    "      | ‘-’\n",
    "      | ‘*’\n",
    "      | ‘/’ \n",
    "      | ‘p’    # imprime la cima del stack\n",
    "      | ‘q’    # quit\n",
    "\n",
    "```"
   ]
  },
  {
   "cell_type": "markdown",
   "metadata": {},
   "source": [
    "# Interprete dirigido por sintaxis I"
   ]
  },
  {
   "cell_type": "markdown",
   "metadata": {},
   "source": [
    "[Contenido](#Contenido)"
   ]
  },
  {
   "cell_type": "markdown",
   "metadata": {},
   "source": [
    "Este interprete retorna resultados a través de la gramática.\n",
    "\n",
    "\n",
    "Expresión y árbol sintáctico:\n",
    "    \n",
    "    (1 + 2) * (3 + 4)\n",
    "\n",
    "    MLT, value = 21\n",
    "      +---------ADD, value = 3\n",
    "      |          +-------- NUM: 1, value = 1\n",
    "      |          |\n",
    "      |          +---------NUM: 2, value = 2\n",
    "      |\n",
    "      +-------- ADD, value = 7\n",
    "                 +-------- NUM: 3, value = 3\n",
    "                 |\n",
    "                 +-------- NUM: 4, value = 4"
   ]
  },
  {
   "cell_type": "code",
   "execution_count": 4,
   "metadata": {
    "collapsed": true
   },
   "outputs": [],
   "source": [
    "\n",
    "def infixcalc(text):\n",
    "    '''\n",
    "    infixcal:\n",
    "       interprete que devuelve valores a través del parser\n",
    "    '''\n",
    "    \n",
    "    ## estructuras de datos\n",
    "    DATA = dt.TreeNode('DATA')\n",
    "    TOKENTABLE = dt.SubNode(DATA, 'TOKENTABLE')\n",
    "\n",
    "    ##\n",
    "    ## Analizador lexico\n",
    "    ##\n",
    "    def yylex(text):\n",
    "        ##\n",
    "        ## parte *generica* para todos los analizadores lexicos\n",
    "        ##\n",
    "        def put_token(token, lexeme):\n",
    "            dt.SubNode(TOKENTABLE, '', dict(token = token, lexeme = lexeme))\n",
    "\n",
    "        TOKENTABLE.clear() # borra la tabla de tokens si existe\n",
    "\n",
    "        ##\n",
    "        ## analisis lexico\n",
    "        ##\n",
    "        lexemes = list(shlex.shlex(text))\n",
    "        for lexeme in lexemes:\n",
    "            if lexeme in '+ - * / ( )'.split():\n",
    "                put_token(lexeme, lexeme)\n",
    "            elif lexeme.isdigit():\n",
    "                put_token('NUM', lexeme)\n",
    "            else:\n",
    "                print('Caracter invalido:', lexeme)\n",
    "                sys.exit()\n",
    "        put_token('EOI', 'EOI')\n",
    "\n",
    "\n",
    "    ## funciones genericas requeridas por\n",
    "    ## el parser durante el reconocimiento de\n",
    "    ## la gramatica\n",
    "    def yytext(offset=0):\n",
    "        #\n",
    "        return TOKENTABLE[TOKENTABLE.get('index')].get('lexeme')\n",
    "        #\n",
    "    \n",
    "    def yytoken():\n",
    "        #\n",
    "        return TOKENTABLE[TOKENTABLE.get('index')].get('token')\n",
    "        #\n",
    "\n",
    "    def yymatch(token, offset=0):\n",
    "        #\n",
    "        return token == yytoken()\n",
    "        #\n",
    "\n",
    "    def yyadvance(offset=1):\n",
    "        #\n",
    "        TOKENTABLE.attrib['index'] += offset\n",
    "        #\n",
    "\n",
    "    def yyaccept(token, advance=True):\n",
    "        #\n",
    "        if not yymatch(token):\n",
    "            print('Syntax error')\n",
    "            sys.exit()\n",
    "        #\n",
    "        if advance:\n",
    "            yyadvance()\n",
    "\n",
    "    ##\n",
    "    ## Analizador sintáctico\n",
    "    ##\n",
    "    def yyparse():\n",
    "        '''\n",
    "        gramatica:\n",
    "            exp:    term expp\n",
    "            expp:   '+' term expp | '-' term expp | `eps`\n",
    "            term:   factor termp\n",
    "            termp:  '*' factor termp | '/' factor termp | `eps`\n",
    "            factor: NUM  |  '('  exp  ')'\n",
    "        '''\n",
    "        \n",
    "        ##\n",
    "        ## exp:    term expp\n",
    "        ##\n",
    "        def expr():\n",
    "            root = term()\n",
    "            right = expp(root)\n",
    "            if right is None:\n",
    "                return root\n",
    "            return right\n",
    "\n",
    "        ##\n",
    "        ## expp:   '+' term expp | '-' term expp | `eps`\n",
    "        ##\n",
    "        def expp(left):\n",
    "            if yymatch('+') or yymatch('-'):\n",
    "                op = yytext()\n",
    "                yyadvance()\n",
    "                right = term()\n",
    "                if op == '+':\n",
    "                    root = left + right\n",
    "                else:\n",
    "                    root = left - right\n",
    "                m = expp(root)\n",
    "                if m is None:\n",
    "                    return root\n",
    "                return m\n",
    "            return None\n",
    "\n",
    "        ##\n",
    "        ## term:   factor termp\n",
    "        ##\n",
    "        def term():\n",
    "            root = factor()\n",
    "            right = termp(root)\n",
    "            if right is None:\n",
    "                return root\n",
    "            return right\n",
    "\n",
    "        ##\n",
    "        ## termp:  '*' factor termp | '/' factor termp | `eps`\n",
    "        ##\n",
    "        def termp(left):\n",
    "            if yymatch('*') or yymatch('/'):\n",
    "                op = yytext()\n",
    "                yyadvance()\n",
    "                right = factor()\n",
    "                if op == '*':\n",
    "                    root = left * right\n",
    "                else:\n",
    "                    root = left / right\n",
    "                m = termp(root)\n",
    "                if m is None:\n",
    "                    return root\n",
    "                return m\n",
    "            return None\n",
    "\n",
    "        ##\n",
    "        ## factor: NUM  |  '('  exp  ')'\n",
    "        ##\n",
    "        def factor():\n",
    "            if yymatch('NUM'):\n",
    "                value = int(yytext())\n",
    "                yyadvance()\n",
    "                return value\n",
    "            if yymatch('('):\n",
    "                yyadvance()\n",
    "                value = expr()\n",
    "                yyaccept(')')\n",
    "                return value\n",
    "            print('Syntax error')\n",
    "            sys.exit()\n",
    "\n",
    "        ## `index` almacena el indice del token\n",
    "        ## actual en la tabla de tokens\n",
    "        TOKENTABLE.set('index', 0)\n",
    "        print(expr())\n",
    "        del TOKENTABLE.attrib['index']\n",
    "\n",
    "    ## rutina principal\n",
    "    yylex(text)\n",
    "    yyparse()\n"
   ]
  },
  {
   "cell_type": "code",
   "execution_count": 5,
   "metadata": {
    "collapsed": false
   },
   "outputs": [
    {
     "name": "stdout",
     "output_type": "stream",
     "text": [
      "10\n"
     ]
    }
   ],
   "source": [
    "infixcalc('1 + 2 + 3 + 4')"
   ]
  },
  {
   "cell_type": "code",
   "execution_count": 6,
   "metadata": {
    "collapsed": false
   },
   "outputs": [
    {
     "name": "stdout",
     "output_type": "stream",
     "text": [
      "24\n"
     ]
    }
   ],
   "source": [
    "infixcalc('1 * 2 * 3 * 4')"
   ]
  },
  {
   "cell_type": "code",
   "execution_count": 7,
   "metadata": {
    "collapsed": false
   },
   "outputs": [
    {
     "name": "stdout",
     "output_type": "stream",
     "text": [
      "21\n"
     ]
    }
   ],
   "source": [
    "infixcalc('(1 + 2) * (3 + 4)')"
   ]
  },
  {
   "cell_type": "markdown",
   "metadata": {},
   "source": [
    "# Interprete dirigido por sintaxis II"
   ]
  },
  {
   "cell_type": "markdown",
   "metadata": {},
   "source": [
    "[Contenido](#Contenido)"
   ]
  },
  {
   "cell_type": "markdown",
   "metadata": {},
   "source": [
    "Este interprete realiza los cálculos usando un stack de operandos.\n",
    "\n",
    "    (1 + 2) * (3 + 4)\n",
    "\n",
    "    MLT\n",
    "      | {MLT = PUSH (POP * POP)}\n",
    "      +---------ADD\n",
    "      |          | {ADD = PUSH (POP + POP)} \n",
    "      |          +-------- NUM: 1 {PUSH 1}\n",
    "      |          |\n",
    "      |          +---------NUM: 2 {PUSH 2}\n",
    "      |\n",
    "      +-------- ADD\n",
    "                 | {ADD = PUSH (POP + POP)}\n",
    "                 +-------- NUM: 3 {PUSH 3}\n",
    "                 |\n",
    "                 +-------- NUM: 4 {PUSH 4}"
   ]
  },
  {
   "cell_type": "code",
   "execution_count": 8,
   "metadata": {
    "collapsed": true
   },
   "outputs": [],
   "source": [
    "def infixstack(text):\n",
    "    '''\n",
    "    infixstack\n",
    "        interprete que realiza cálculos usando un stack\n",
    "    '''\n",
    "    \n",
    "    ## prepara las estructuras de datos\n",
    "    DATA = dt.TreeNode('DATA')\n",
    "    TOKENTABLE = dt.SubNode(DATA, 'TOKENTABLE')\n",
    "    \n",
    "    ##\n",
    "    ## Analizador lexico\n",
    "    ##\n",
    "    def yylex(text):\n",
    "        ## parte *generica* para todos los analizadores lexicos\n",
    "        def put_token(token, lexeme):\n",
    "            dt.SubNode(TOKENTABLE, '', dict(token = token, lexeme = lexeme))\n",
    "\n",
    "        TOKENTABLE.clear() # borra la tabla de tokens si existe\n",
    "\n",
    "        ## analisis lexico\n",
    "        lexemes = list(shlex.shlex(text))\n",
    "        for lexeme in lexemes:\n",
    "            if lexeme in '+ - * / ( )'.split():\n",
    "                put_token(lexeme, lexeme)\n",
    "            elif lexeme.isdigit():\n",
    "                put_token('NUM', lexeme)\n",
    "            else:\n",
    "                print('Caracter invalido:', lexeme)\n",
    "                sys.exit()\n",
    "        put_token('EOI', 'EOI')\n",
    "\n",
    "    ## funciones genericas requeridas por\n",
    "    ## el parser durante el reconocimiento de\n",
    "    ## la gramatica\n",
    "    def yytext(offset=0):\n",
    "        #\n",
    "        return TOKENTABLE[TOKENTABLE.get('index')].get('lexeme')\n",
    "        #\n",
    "\n",
    "    def yytoken():\n",
    "        #\n",
    "        return TOKENTABLE[TOKENTABLE.get('index')].get('token')\n",
    "        #\n",
    "\n",
    "    def yymatch(token, offset=0):\n",
    "        #\n",
    "        return token == yytoken()\n",
    "        #\n",
    "\n",
    "    def yyadvance(offset=1):\n",
    "        #\n",
    "        TOKENTABLE.attrib['index'] += offset\n",
    "        #\n",
    "\n",
    "    def yyaccept(token, advance=True):\n",
    "        #\n",
    "        if not yymatch(token):\n",
    "            print('Syntax error')\n",
    "            sys.exit()\n",
    "        #\n",
    "        if advance:\n",
    "            yyadvance()\n",
    "\n",
    "    ##\n",
    "    ## Analizador sintáctico\n",
    "    ##\n",
    "    def yyparse():\n",
    "        \"\"\"\n",
    "        gramatica:\n",
    "            exp:    term expp\n",
    "            expp:   '+' term expp | '-' term expp | `eps`\n",
    "            term:   factor termp\n",
    "            termp:  '*' factor termp | '/' factor termp | `eps`\n",
    "            factor: NUM  |  '('  exp  ')'\n",
    "        \"\"\"\n",
    "\n",
    "        ## stack de operandos simulada usando una lista\n",
    "        stack = []\n",
    "        \n",
    "        ##\n",
    "        ## exp:    term expp\n",
    "        ##\n",
    "        def expr():\n",
    "            term()\n",
    "            expp()\n",
    "\n",
    "        ##\n",
    "        ## expp:   '+' term expp | '-' term expp | `eps`\n",
    "        ##\n",
    "        def expp():\n",
    "            if yymatch('+') or yymatch('-'):\n",
    "                \n",
    "                ##\n",
    "                op = yytext()\n",
    "                yyadvance()\n",
    "                term()\n",
    "                \n",
    "                ## los resultados están en la cima del stack\n",
    "                arg2 = stack.pop()\n",
    "                arg1 = stack.pop()\n",
    "                if op == '+':\n",
    "                    stack.append(arg1 + arg2)\n",
    "                else:\n",
    "                    stack.append(arg1 - arg2)\n",
    "                \n",
    "                ##\n",
    "                expp()\n",
    "\n",
    "        ##\n",
    "        ## term:   factor termp\n",
    "        ##\n",
    "        def term():\n",
    "            factor()\n",
    "            termp()\n",
    "\n",
    "        ##\n",
    "        ## termp:  '*' factor termp | '/' factor termp | `eps`\n",
    "        ##\n",
    "        def termp():\n",
    "            if yymatch('*') or yymatch('/'):\n",
    "                \n",
    "                ##\n",
    "                op = yytext()\n",
    "                yyadvance()\n",
    "                factor()\n",
    "                \n",
    "                ## los resultados están en la cima del stack\n",
    "                arg2 = stack.pop()\n",
    "                arg1 = stack.pop()\n",
    "                if op == '*':\n",
    "                    stack.append(arg1 * arg2)\n",
    "                else:\n",
    "                    stack.append(arg1 / arg2)\n",
    "                    \n",
    "                ##\n",
    "                termp()\n",
    "\n",
    "        ##\n",
    "        ## factor: NUM  |  '('  exp  ')'\n",
    "        ##\n",
    "        def factor():\n",
    "            \n",
    "            ##\n",
    "            if yymatch('NUM'):\n",
    "                stack.append(int(yytext()))\n",
    "                yyadvance()\n",
    "                return\n",
    "            \n",
    "            ##\n",
    "            if yymatch('('):\n",
    "                yyadvance()\n",
    "                expr()\n",
    "                yyaccept(')')\n",
    "                return\n",
    "            \n",
    "            ##\n",
    "            print('Syntax error')\n",
    "            sys.exit()\n",
    "    \n",
    "        ## aquí comienza la componente principal \n",
    "        ## del analizador sintáctico\n",
    "    \n",
    "        ## `index` almacena el indice del token\n",
    "        ## actual en la tabla de tokens\n",
    "        TOKENTABLE.set('index', 0)\n",
    "        expr()\n",
    "        del TOKENTABLE.attrib['index']\n",
    "        return stack[-1]\n",
    "\n",
    "\n",
    "    ## programa principal\n",
    "    yylex(text)\n",
    "    result = yyparse()\n",
    "    print(result)\n"
   ]
  },
  {
   "cell_type": "code",
   "execution_count": 9,
   "metadata": {
    "collapsed": false
   },
   "outputs": [
    {
     "name": "stdout",
     "output_type": "stream",
     "text": [
      "10\n"
     ]
    }
   ],
   "source": [
    "infixstack('1 + 2 + 3 + 4')"
   ]
  },
  {
   "cell_type": "code",
   "execution_count": 10,
   "metadata": {
    "collapsed": false
   },
   "outputs": [
    {
     "name": "stdout",
     "output_type": "stream",
     "text": [
      "24\n"
     ]
    }
   ],
   "source": [
    "infixstack('1 * 2 * 3 * 4')"
   ]
  },
  {
   "cell_type": "code",
   "execution_count": 11,
   "metadata": {
    "collapsed": false
   },
   "outputs": [
    {
     "name": "stdout",
     "output_type": "stream",
     "text": [
      "21\n"
     ]
    }
   ],
   "source": [
    "infixstack('(1 + 2) * (3 + 4)')"
   ]
  },
  {
   "cell_type": "markdown",
   "metadata": {},
   "source": [
    "# Generación del árbol sintáctico"
   ]
  },
  {
   "cell_type": "markdown",
   "metadata": {},
   "source": [
    "[Contenido](#Contenido)"
   ]
  },
  {
   "cell_type": "markdown",
   "metadata": {},
   "source": [
    "## infix2ast.py"
   ]
  },
  {
   "cell_type": "markdown",
   "metadata": {},
   "source": [
    "[Contenido](#Contenido)"
   ]
  },
  {
   "cell_type": "markdown",
   "metadata": {},
   "source": [
    "El siguiente código construye el arbol sintáctico en memoria."
   ]
  },
  {
   "cell_type": "markdown",
   "metadata": {},
   "source": [
    "La función `infix2ast` genera el árbol sintáctico en memoria y luego lo imprime."
   ]
  },
  {
   "cell_type": "code",
   "execution_count": 12,
   "metadata": {
    "collapsed": true
   },
   "outputs": [],
   "source": [
    "def infix2ast(text):\n",
    "    '''\n",
    "    infix2ast\n",
    "        crea un arbol sintactico a partir de la\n",
    "        gramatica de una calculadora simple (+, -, *, /)\n",
    "    '''\n",
    "\n",
    "    ## prepara las estructuras de datos\n",
    "    DATA = dt.TreeNode('DATA')\n",
    "    TOKENTABLE = dt.SubNode(DATA, 'TOKENTABLE')\n",
    "    SYNTAXTREE = dt.SubNode(DATA, 'SYNTAXTREE')\n",
    "\n",
    "    ##\n",
    "    ## analizador lexico\n",
    "    ##\n",
    "    def yylex(text):\n",
    "        # parte *generica* para todos los analizadores lexicos\n",
    "        def put_token(token, lexeme):\n",
    "            dt.SubNode(TOKENTABLE, '', dict(token = token, lexeme = lexeme))\n",
    "\n",
    "        TOKENTABLE.clear() # borra la tabla de tokens si existe\n",
    "\n",
    "        # analisis lexico\n",
    "        lexemes = list(shlex.shlex(text))\n",
    "        for lexeme in lexemes:\n",
    "            if lexeme in '+ - * / ( )'.split():\n",
    "                put_token(lexeme, lexeme)\n",
    "            elif lexeme.isdigit():\n",
    "                put_token('NUM', lexeme)\n",
    "            else:\n",
    "                print('Caracter invalido:', lexeme)\n",
    "                sys.exit()\n",
    "        put_token('EOI', 'EOI')\n",
    "\n",
    "    \n",
    "    ## funciones genericas requeridas por\n",
    "    ## el parser durante el reconocimiento de\n",
    "    ## la gramatica\n",
    "    def yytext(offset=0):\n",
    "        #\n",
    "        return TOKENTABLE[TOKENTABLE.get('index')].get('lexeme')\n",
    "        #\n",
    "\n",
    "    def yytoken():\n",
    "        #\n",
    "        return TOKENTABLE[TOKENTABLE.get('index')].get('token')\n",
    "        #\n",
    "\n",
    "    def yymatch(token, offset=0):\n",
    "        #\n",
    "        return token == yytoken()\n",
    "        #\n",
    "\n",
    "    def yyadvance(offset=1):\n",
    "        #\n",
    "        TOKENTABLE.attrib['index'] += offset\n",
    "        #\n",
    "\n",
    "    def yyaccept(token, advance=True):\n",
    "        #\n",
    "        if not yymatch(token):\n",
    "            print('Syntax error')\n",
    "            sys.exit()\n",
    "        #\n",
    "        if advance:\n",
    "            yyadvance()\n",
    "\n",
    "    ##\n",
    "    ## analizador sintactico\n",
    "    ##\n",
    "    def yyparse():\n",
    "        \"\"\"\n",
    "        gramatica:\n",
    "            exp:    term expp\n",
    "            expp:   '+' term expp | '-' term expp | `eps`\n",
    "            term:   factor termp\n",
    "            termp:  '*' factor termp | '/' factor termp | `eps`\n",
    "            factor: NUM  |  '('  exp  ')'\n",
    "        \"\"\"\n",
    "        ## \n",
    "        ## exp:    term expp\n",
    "        ##\n",
    "        def expr():\n",
    "            root = term()\n",
    "            right = expp(root)\n",
    "            if right is None:\n",
    "                return root\n",
    "            return right\n",
    "\n",
    "        ##\n",
    "        ## expp:   '+' term expp | '-' term expp | `eps`\n",
    "        ##\n",
    "        def expp(left):\n",
    "            if yymatch('+') or yymatch('-'):\n",
    "                root = dt.TreeNode(yytext())\n",
    "                yyadvance()\n",
    "                right = term()\n",
    "                root.append(left)\n",
    "                root.append(right)\n",
    "                m = expp(root)\n",
    "                if m is None:\n",
    "                    return root\n",
    "                return m\n",
    "            return None\n",
    "\n",
    "        ##\n",
    "        ## term:   factor termp\n",
    "        ##\n",
    "        def term():\n",
    "            root = factor()\n",
    "            right = termp(root)\n",
    "            if right is None:\n",
    "                return root\n",
    "            return right\n",
    "\n",
    "        ##\n",
    "        ## termp:  '*' factor termp | '/' factor termp | `eps`\n",
    "        ##\n",
    "        def termp(left):\n",
    "            if yymatch('*') or yymatch('/'):\n",
    "                root = dt.TreeNode(yytext())\n",
    "                yyadvance()\n",
    "                right = factor()\n",
    "                root.append(left)\n",
    "                root.append(right)\n",
    "                m = termp(root)\n",
    "                if m is None:\n",
    "                    return root\n",
    "                return m\n",
    "            return None\n",
    "\n",
    "        ##\n",
    "        ## factor: NUM  |  '('  exp  ')'\n",
    "        ##\n",
    "        def factor():\n",
    "\n",
    "            if yymatch('NUM'):\n",
    "                node = dt.TreeNode('NUM', dict(text=yytext(), value = int(yytext())))\n",
    "                yyadvance()\n",
    "                return node\n",
    "\n",
    "            if yymatch('('):\n",
    "                yyadvance()\n",
    "                node = expr()\n",
    "                yyaccept(')')\n",
    "                return node\n",
    "\n",
    "            print('Syntax error')\n",
    "            sys.exit()\n",
    "\n",
    "        # `index` almacena el indice del token\n",
    "        # actual en la tabla de tokens\n",
    "        TOKENTABLE.set('index', 0)\n",
    "        SYNTAXTREE.append(expr())\n",
    "        del TOKENTABLE.attrib['index']    \n",
    "    \n",
    "    \n",
    "    yylex(text)\n",
    "    yyparse()\n",
    "    return SYNTAXTREE\n",
    "   "
   ]
  },
  {
   "cell_type": "code",
   "execution_count": 13,
   "metadata": {
    "collapsed": false,
    "scrolled": true
   },
   "outputs": [
    {
     "name": "stdout",
     "output_type": "stream",
     "text": [
      "+-- SYNTAXTREE\n",
      "    +-- *\n",
      "        +-- *\n",
      "        |   +-- +\n",
      "        |   |   +-- NUM {text: 1, value: 1}\n",
      "        |   |   +-- NUM {text: 2, value: 2}\n",
      "        |   +-- +\n",
      "        |       +-- NUM {text: 3, value: 3}\n",
      "        |       +-- NUM {text: 4, value: 4}\n",
      "        +-- +\n",
      "            +-- NUM {text: 5, value: 5}\n",
      "            +-- NUM {text: 6, value: 6}\n"
     ]
    }
   ],
   "source": [
    "st = infix2ast('(1+2) * (3 + 4) * (5 +6)')\n",
    "dt.printTree(st)"
   ]
  },
  {
   "cell_type": "markdown",
   "metadata": {},
   "source": [
    "## ast2prefix"
   ]
  },
  {
   "cell_type": "markdown",
   "metadata": {},
   "source": [
    "[Contenido](#Contenido)"
   ]
  },
  {
   "cell_type": "markdown",
   "metadata": {},
   "source": [
    "Una vez construido el árbol sintáctico este puede ser transformado de muchas maneras. Por ejemplo, en el siguiente código se convierte la expresión aritmética a notación prefija a partir del árbol."
   ]
  },
  {
   "cell_type": "code",
   "execution_count": 14,
   "metadata": {
    "collapsed": false,
    "scrolled": true
   },
   "outputs": [
    {
     "name": "stdout",
     "output_type": "stream",
     "text": [
      "+-- SYNTAXTREE\n",
      "    +-- +\n",
      "        +-- +\n",
      "        |   +-- NUM {text: 1, value: 1}\n",
      "        |   +-- NUM {text: 2, value: 2}\n",
      "        +-- NUM {text: 3, value: 3}\n"
     ]
    }
   ],
   "source": [
    "st = infix2ast('1 + 2 + 3')\n",
    "dt.printTree(st)"
   ]
  },
  {
   "cell_type": "markdown",
   "metadata": {},
   "source": [
    "Se imprime la expresión resultante a medida que se recorre el árbol de arriba a abajo así:\n",
    "\n",
    "      nodo:                salida:\n",
    "      [000] SYNTAXTREE\n",
    "      [001] +              (+\n",
    "      [002] +              (+ (+ \n",
    "      [003] NUM            (+ (+ 1\n",
    "      [004] NUM            (+ (+ 1 2\n",
    "      [002] +              (+ (+ 1 2)\n",
    "      [005] NUM            (+ (+ 1 2) 3\n",
    "      [001] +              (+ (+ 1 2) 3 )"
   ]
  },
  {
   "cell_type": "code",
   "execution_count": 15,
   "metadata": {
    "collapsed": false
   },
   "outputs": [],
   "source": [
    "def ast2prefix(root):\n",
    "    ## \n",
    "    ## esta es la función recursiva que recorre los nodos del arbol\n",
    "    ##\n",
    "    def print_node(node):\n",
    "        \n",
    "        ## El nodo contiene un operador aritmético\n",
    "        if node.tag in '+ * - /'.split():\n",
    "            \n",
    "            ## imprime el `(` en la entrada a la función\n",
    "            print( '(', node.tag, ' ',  sep = '',  end = '')\n",
    "            \n",
    "            ## recorre los hijos\n",
    "            for n in node._children:\n",
    "                print_node(n)\n",
    "                \n",
    "            ## imprime el `)` después de recorrer los hijos\n",
    "            print(') ', end = '')\n",
    "            \n",
    "        ## el nodo contiene un número\n",
    "        elif node.tag == 'NUM':\n",
    "            \n",
    "            print(' ', node.attrib['value'], sep = '', end = '')\n",
    "                  \n",
    "        else:\n",
    "            ## procesa los nodos hijos\n",
    "            for n in node._children:\n",
    "                print_node(n)\n",
    "                  \n",
    "    ## componente principal\n",
    "    print_node(root)\n",
    "    print('')"
   ]
  },
  {
   "cell_type": "code",
   "execution_count": 16,
   "metadata": {
    "collapsed": false,
    "scrolled": true
   },
   "outputs": [
    {
     "name": "stdout",
     "output_type": "stream",
     "text": [
      "(+ (+  1 2)  3) \n"
     ]
    }
   ],
   "source": [
    "ast2prefix(st)"
   ]
  },
  {
   "cell_type": "markdown",
   "metadata": {},
   "source": [
    "## ast2postfix"
   ]
  },
  {
   "cell_type": "markdown",
   "metadata": {},
   "source": [
    "[Contenido](#Contenido)"
   ]
  },
  {
   "cell_type": "markdown",
   "metadata": {},
   "source": [
    "La expresión aritmética también puede escribirse en notación postfija mediante el recorrido del árbol. La diferencia está en la ubicación del código donde se imprime dentro de la función que recorre el árbol."
   ]
  },
  {
   "cell_type": "code",
   "execution_count": 17,
   "metadata": {
    "collapsed": false,
    "scrolled": true
   },
   "outputs": [
    {
     "name": "stdout",
     "output_type": "stream",
     "text": [
      "+-- SYNTAXTREE\n",
      "    +-- +\n",
      "        +-- +\n",
      "        |   +-- NUM {text: 1, value: 1}\n",
      "        |   +-- NUM {text: 2, value: 2}\n",
      "        +-- NUM {text: 3, value: 3}\n"
     ]
    }
   ],
   "source": [
    "st = infix2ast('1 + 2 + 3')\n",
    "dt.printTree(st)"
   ]
  },
  {
   "cell_type": "markdown",
   "metadata": {},
   "source": [
    "Se imprime la expresión resultante a medida que se recorre el árbol de arriba a abajo así:\n",
    "\n",
    "      nodo:                salida:\n",
    "      [000] SYNTAXTREE\n",
    "      [001] +              (\n",
    "      [002] +              (( \n",
    "      [003] NUM            (( 1\n",
    "      [004] NUM            (( 1 2\n",
    "      [002] +              (( 1 2 +)\n",
    "      [005] NUM            (( 1 2 +) 3\n",
    "      [001] +              (( 1 2 +) 3 +)"
   ]
  },
  {
   "cell_type": "code",
   "execution_count": 18,
   "metadata": {
    "collapsed": true
   },
   "outputs": [],
   "source": [
    "def ast2postfix(root):\n",
    "    \n",
    "    ## esta es la función recursiva que recorre el árbol\n",
    "    def print_node(node):\n",
    "        \n",
    "        ## el nodo contiene un operador aritmético.\n",
    "        if node.tag in '+ * - /'.split():\n",
    "            \n",
    "            print( '(', sep = '',  end = '')\n",
    "            for n in node._children:\n",
    "                print_node(n)\n",
    "            \n",
    "            print('', node.tag, ') ', sep = '', end = '')\n",
    "            \n",
    "        ## el nodo contiene un número.\n",
    "        elif node.tag == 'NUM':\n",
    "            \n",
    "            print(node.attrib['value'], ' ', sep = '', end = '')\n",
    "        \n",
    "        ## procesa los hijos\n",
    "        else:\n",
    "            \n",
    "            for n in node._children:\n",
    "                print_node(n)\n",
    "                \n",
    "    ## aca se inicia el recorrido del arbol\n",
    "    print_node(root)\n",
    "    print('')"
   ]
  },
  {
   "cell_type": "code",
   "execution_count": 19,
   "metadata": {
    "collapsed": false
   },
   "outputs": [
    {
     "name": "stdout",
     "output_type": "stream",
     "text": [
      "((1 2 +) 3 +) \n"
     ]
    }
   ],
   "source": [
    "ast2postfix(st)"
   ]
  },
  {
   "cell_type": "markdown",
   "metadata": {},
   "source": [
    "## ast2infix"
   ]
  },
  {
   "cell_type": "markdown",
   "metadata": {},
   "source": [
    "[Contenido](#Contenido)"
   ]
  },
  {
   "cell_type": "markdown",
   "metadata": {},
   "source": [
    "Se procede de igual manera que en los ejemplos anteriores."
   ]
  },
  {
   "cell_type": "code",
   "execution_count": 20,
   "metadata": {
    "collapsed": false
   },
   "outputs": [],
   "source": [
    "def ast2infix(root):\n",
    "    \n",
    "    ## funcion genérica que recorre el arbol\n",
    "    def print_node(node):\n",
    "        \n",
    "        ## el nodo contiene un operador aritmético.\n",
    "        if node.tag in '+ * - /'.split():\n",
    "            \n",
    "            ## imprime el `(`\n",
    "            print('(', sep='', end='')\n",
    "\n",
    "            ## procesa los hijos\n",
    "            print_node(node._children[0])\n",
    "            \n",
    "            ## imprime el espacio en blanco de separación\n",
    "            print(' ', node.tag, ' ',  sep='',  end='')\n",
    "            print_node(node._children[1])\n",
    "            \n",
    "            ## imprime el `)`\n",
    "            print(')', sep='', end='')\n",
    "            \n",
    "        ## el nodo contiene un número\n",
    "        elif node.tag == 'NUM':\n",
    "            \n",
    "            print(node.attrib['value'], sep='', end='')\n",
    "            \n",
    "        else:\n",
    "            \n",
    "            for n in node._children:\n",
    "                print_node(n)\n",
    "                \n",
    "    print_node(root)\n",
    "    print('')"
   ]
  },
  {
   "cell_type": "code",
   "execution_count": 21,
   "metadata": {
    "collapsed": false,
    "scrolled": true
   },
   "outputs": [
    {
     "name": "stdout",
     "output_type": "stream",
     "text": [
      "((1 + 2) + 3)\n"
     ]
    }
   ],
   "source": [
    "ast2infix(st)"
   ]
  },
  {
   "cell_type": "markdown",
   "metadata": {},
   "source": [
    "---"
   ]
  },
  {
   "cell_type": "markdown",
   "metadata": {},
   "source": [
    "[Contenido](#Contenido)"
   ]
  }
 ],
 "metadata": {
  "kernelspec": {
   "display_name": "Python 3",
   "language": "python",
   "name": "python3"
  },
  "language_info": {
   "codemirror_mode": {
    "name": "ipython",
    "version": 3
   },
   "file_extension": ".py",
   "mimetype": "text/x-python",
   "name": "python",
   "nbconvert_exporter": "python",
   "pygments_lexer": "ipython3",
   "version": "3.5.2"
  }
 },
 "nbformat": 4,
 "nbformat_minor": 0
}
